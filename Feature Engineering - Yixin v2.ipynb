{
 "cells": [
  {
   "cell_type": "code",
   "execution_count": 23,
   "metadata": {},
   "outputs": [],
   "source": [
    "import pandas as pd\n",
    "import json \n",
    "import numpy as np\n",
    "import pylab\n",
    "import warnings; warnings.simplefilter('ignore')"
   ]
  },
  {
   "cell_type": "code",
   "execution_count": 1,
   "metadata": {},
   "outputs": [],
   "source": [
    "from sklearn.model_selection import train_test_split\n",
    "from sklearn.covariance import EllipticEnvelope\n",
    "from sklearn.metrics import precision_recall_fscore_support"
   ]
  },
  {
   "cell_type": "markdown",
   "metadata": {},
   "source": [
    "# preprocessing and first fit"
   ]
  },
  {
   "cell_type": "code",
   "execution_count": 2,
   "metadata": {},
   "outputs": [],
   "source": [
    "def extract_traffic_source_columns(df):\n",
    "    df['isTrueDirect']=df['isTrueDirect'].fillna(False)\n",
    "    df['isTrueDirect']=df['isTrueDirect'].astype(int)\n",
    "    \n",
    "    is_source_mall_googleplex = (df['source']=='mall.googleplex.com').astype(int)\n",
    "    is_source_mall_googleplex.name = 'is_source_googleplex'    \n",
    "    \n",
    "    is_source_direct = (df['source']=='(direct)').astype(int)\n",
    "    is_source_direct.name = 'is_source_direct'\n",
    "    \n",
    "    is_source_google = (df['source']=='(direct)').astype(int)\n",
    "    is_source_google.name = 'is_source_google'\n",
    "    \n",
    "    is_medium_referral = (df['medium']=='referral').astype(int)\n",
    "    is_medium_referral.name = 'is_medium_referral'\n",
    "    is_medium_none = (df['medium']=='(none)').astype(int)\n",
    "    is_medium_none.name = 'is_medium_none'\n",
    "    is_medium_organic = (df['medium']=='organic').astype(int)\n",
    "    is_medium_organic.name=\"is_medium_organic\"\n",
    "    \n",
    "    df = df.drop(columns = ['adContent','adwordsClickInfo','campaign', 'keyword', 'medium', 'referralPath',\n",
    "                      'source'])\n",
    "    \n",
    "    return pd.concat([df,is_source_mall_googleplex,is_source_direct,is_source_google,is_medium_referral,\n",
    "                    is_medium_none,is_medium_organic],axis=1)"
   ]
  },
  {
   "cell_type": "code",
   "execution_count": 3,
   "metadata": {},
   "outputs": [],
   "source": [
    "def get_region_columns(df):\n",
    "    df['is_bayarea'] = (df['metro'] =='San Francisco-Oakland-San Jose CA').astype(int)\n",
    "    dummies = pd.get_dummies(df['continent'])\n",
    "    dummies = dummies.drop(['(not set)'],axis=1)\n",
    "    df = df.drop(['continent','city','subContinent','region','country','metro','networkDomain'],axis=1) \n",
    "    new_df = pd.concat([df,dummies],axis=1)\n",
    "    return new_df"
   ]
  },
  {
   "cell_type": "code",
   "execution_count": 4,
   "metadata": {},
   "outputs": [],
   "source": [
    "def extract_activities(df):\n",
    "    df['is_transaction'] = 1 - df['transactionRevenue'].isna()\n",
    "    df[['bounces', 'hits', 'pageviews', 'visitNumber']] = df[['bounces', 'hits', 'pageviews', 'visitNumber']].fillna(0)\n",
    "    df['transactionRevenue'] = df['transactionRevenue'].fillna(0)\n",
    "    return df\n",
    "    "
   ]
  },
  {
   "cell_type": "code",
   "execution_count": 5,
   "metadata": {},
   "outputs": [],
   "source": [
    "def time_value(df):\n",
    "    import datetime as dt\n",
    "    time = pd.to_datetime(df.loc[:,'visitStartTime'], unit='s')\n",
    "    year = time.dt.year\n",
    "    year = pd.get_dummies(year)\n",
    "    month = time.dt.month\n",
    "    q1 = (month <= 3) & (month >= 1)\n",
    "    q2 = (month <= 6) & (month >= 4)\n",
    "    q3 = (month <= 9) & (month >= 7)\n",
    "    q4 = (month <= 12) & (month >= 10)\n",
    "    dow = time.dt.weekday\n",
    "    weekday = (dow <= 5) & (dow >=1)\n",
    "    hour = time.dt.hour\n",
    "    h_0_6 = (hour <= 6) & (hour >= 0)\n",
    "    h_7_12 = (hour <= 12) & (hour >= 7)\n",
    "    h_13_17 = (hour <= 17) & (hour >= 13)\n",
    "    h_18_23 = (hour <= 23) & (hour >= 18)\n",
    "    new_df = pd.DataFrame()\n",
    "    new_df['q1'] = q1.astype(int)\n",
    "    new_df['q2'] = q2.astype(int)\n",
    "    new_df['q3'] = q3.astype(int)\n",
    "    new_df['q4'] = q4.astype(int)\n",
    "    new_df['weekday'] = weekday.astype(int)\n",
    "    new_df['h_0_6'] = h_0_6.astype(int)\n",
    "    new_df['h_7_12'] = h_7_12.astype(int)\n",
    "    new_df['h_13_17'] = h_13_17.astype(int)\n",
    "    new_df['h_18_23'] = h_18_23.astype(int)\n",
    "    new_df['month'] = month\n",
    "    new_df['dow'] = dow\n",
    "    new_df['hour'] = hour\n",
    "    return new_df\n",
    "\n",
    "def device(df):\n",
    "    browser_chrome = (df['browser']=='Chrome').astype(int)\n",
    "    is_mobile = df['isMobile'].astype(int)\n",
    "    system_google = ((df['operatingSystem']=='Android')|(df['operatingSystem']=='Chrome OS')).astype(int)\n",
    "    new_df = pd.DataFrame()\n",
    "    new_df['browser_chrome'] = browser_chrome\n",
    "    new_df['is_mobile'] = is_mobile\n",
    "    new_df['system_google'] = system_google\n",
    "    return new_df"
   ]
  },
  {
   "cell_type": "code",
   "execution_count": 27,
   "metadata": {},
   "outputs": [],
   "source": [
    "df = pd.read_csv(inputfile)"
   ]
  },
  {
   "cell_type": "code",
   "execution_count": 40,
   "metadata": {},
   "outputs": [],
   "source": [
    "def normalization(col):\n",
    "    from sklearn.preprocessing import MinMaxScaler\n",
    "    scaler = MinMaxScaler()\n",
    "    col = np.array(col.fillna(0)).reshape(-1,1)\n",
    "    col = scaler.fit_transform(col)\n",
    "    return col\n",
    "    "
   ]
  },
  {
   "cell_type": "code",
   "execution_count": 41,
   "metadata": {},
   "outputs": [],
   "source": [
    "new_rev = normalization(df.transactionRevenue)"
   ]
  },
  {
   "cell_type": "code",
   "execution_count": 42,
   "metadata": {},
   "outputs": [
    {
     "data": {
      "text/plain": [
       "(903653, 1)"
      ]
     },
     "execution_count": 42,
     "metadata": {},
     "output_type": "execute_result"
    }
   ],
   "source": [
    "new_rev.shape"
   ]
  },
  {
   "cell_type": "code",
   "execution_count": 45,
   "metadata": {},
   "outputs": [],
   "source": [
    "def preprocessing(inputfile):\n",
    "    df = pd.read_csv(inputfile)\n",
    "    \n",
    "    df.sort_values(['fullVisitorId', 'visitStartTime'], ascending=True, inplace=True)\n",
    "    df['last_session_1'] = (\n",
    "    df['visitStartTime'] - df[['fullVisitorId', 'visitStartTime']].groupby('fullVisitorId')['visitStartTime'].shift(1)\n",
    ")\n",
    "    df['next_session_1']=(\n",
    "    -1*(df['visitStartTime'] - df[['fullVisitorId', 'visitStartTime']].groupby('fullVisitorId')['visitStartTime'].shift(-1))\n",
    ")\n",
    "\n",
    "    #df[['next_session_1','last_session_1']] = df[['next_session_1','last_session_1']]/86400\n",
    "    df[['next_session_1','last_session_1']] = df[['next_session_1','last_session_1']].fillna(0)\n",
    "    print(df.columns)\n",
    "    df = extract_traffic_source_columns(df)\n",
    "    # print(\"Congrats Brian\\n\"+df.columns)\n",
    "    df = get_region_columns(df)\n",
    "    # print(\"Congrats Ziyu\\n\"+df.columns)\n",
    "    df = extract_activities(df)\n",
    "    # print(\"Congrats Yixin\\n\"+df.columns)\n",
    "    col_time = time_value(df)\n",
    "    col_device = device(df)\n",
    "    \n",
    "    df_base_model = df[['bounces', 'hits', 'pageviews', 'visitNumber',\n",
    "                       'is_source_googleplex','is_source_direct','is_source_google','is_medium_referral',\n",
    "                    'is_medium_none','is_medium_organic',\n",
    "                        'is_bayarea','Africa','Americas','Asia','Europe','Oceania',\n",
    "                        'next_session_1','last_session_1'\n",
    "                       ]]\n",
    "    df_base_model = pd.concat([df_base_model,col_time],axis=1)\n",
    "    df_base_model = pd.concat([df_base_model,col_device],axis=1)\n",
    "    df_istransaction = df['is_transaction']\n",
    "    df_transaction = normalization(df['transactionRevenue'])\n",
    "    # print(\"Congrats Xi\\n\"+df_base_model.columns)\n",
    "    return df_base_model, df_istransaction, df_transaction"
   ]
  },
  {
   "cell_type": "code",
   "execution_count": 47,
   "metadata": {},
   "outputs": [
    {
     "name": "stdout",
     "output_type": "stream",
     "text": [
      "Index(['Unnamed: 0', 'channelGrouping', 'date', 'fullVisitorId', 'sessionId',\n",
      "       'socialEngagementType', 'visitId', 'visitNumber', 'visitStartTime',\n",
      "       'bounces', 'hits', 'newVisits', 'pageviews', 'transactionRevenue',\n",
      "       'visits', 'browser', 'deviceCategory', 'isMobile', 'operatingSystem',\n",
      "       'adContent', 'adwordsClickInfo', 'campaign', 'isTrueDirect', 'keyword',\n",
      "       'medium', 'referralPath', 'source', 'city', 'continent', 'country',\n",
      "       'metro', 'networkDomain', 'region', 'subContinent', 'last_session_1',\n",
      "       'next_session_1'],\n",
      "      dtype='object')\n"
     ]
    }
   ],
   "source": [
    "inputfile = './data/train_flatten.csv'\n",
    "df_base_model, df_istransaction, df_transaction = preprocessing(inputfile)"
   ]
  },
  {
   "cell_type": "markdown",
   "metadata": {},
   "source": [
    "# classification"
   ]
  },
  {
   "cell_type": "code",
   "execution_count": 24,
   "metadata": {},
   "outputs": [
    {
     "data": {
      "text/plain": [
       "(0.0034006114861020883, 0.24308015217106127, 0.006707388805936383, None)"
      ]
     },
     "execution_count": 24,
     "metadata": {},
     "output_type": "execute_result"
    }
   ],
   "source": [
    "X_train, X_test, y_train, y_test = train_test_split(\n",
    "    df_base_model, df_istransaction, test_size=0.33, random_state=42)\n",
    "estimator = EllipticEnvelope()\n",
    "y_predicted = estimator.fit_predict(X_train, y_train)\n",
    "precision_recall_fscore_support(y_train, y_predicted, average='macro')"
   ]
  },
  {
   "cell_type": "markdown",
   "metadata": {},
   "source": [
    "# regression on revenue"
   ]
  },
  {
   "cell_type": "code",
   "execution_count": 48,
   "metadata": {},
   "outputs": [],
   "source": [
    "from sklearn.linear_model import LinearRegression\n",
    "X_train, X_test, y_train, y_test = train_test_split(\n",
    "    df_base_model, df_transaction, test_size=0.33, random_state=42)"
   ]
  },
  {
   "cell_type": "code",
   "execution_count": 49,
   "metadata": {},
   "outputs": [
    {
     "data": {
      "text/plain": [
       "0.025812613428511932"
      ]
     },
     "execution_count": 49,
     "metadata": {},
     "output_type": "execute_result"
    }
   ],
   "source": [
    "glm = LinearRegression()\n",
    "reg = glm.fit(X_train, y_train)\n",
    "reg.score(X_train, y_train)"
   ]
  },
  {
   "cell_type": "code",
   "execution_count": 159,
   "metadata": {},
   "outputs": [
    {
     "data": {
      "text/plain": [
       "Index(['is_transaction', 'bounces', 'hits', 'pageviews', 'visitNumber',\n",
       "       'is_source_googleplex', 'is_source_direct', 'is_source_google',\n",
       "       'is_medium_referral', 'is_medium_none', 'is_medium_organic',\n",
       "       'is_bayarea', 'Africa', 'Americas', 'Asia', 'Europe', 'Oceania', 'q1',\n",
       "       'q2', 'q3', 'q4', 'weekday', 'h_0_6', 'h_7_12', 'h_13_17', 'h_18_23',\n",
       "       'browser_chrome', 'is_mobile', 'system_google'],\n",
       "      dtype='object')"
      ]
     },
     "execution_count": 159,
     "metadata": {},
     "output_type": "execute_result"
    }
   ],
   "source": [
    "df_base_model.columns"
   ]
  },
  {
   "cell_type": "code",
   "execution_count": 161,
   "metadata": {},
   "outputs": [
    {
     "data": {
      "text/plain": [
       "29"
      ]
     },
     "execution_count": 161,
     "metadata": {},
     "output_type": "execute_result"
    }
   ],
   "source": [
    "len(df_base_model.columns)"
   ]
  },
  {
   "cell_type": "code",
   "execution_count": 164,
   "metadata": {},
   "outputs": [
    {
     "data": {
      "text/plain": [
       "484373"
      ]
     },
     "execution_count": 164,
     "metadata": {},
     "output_type": "execute_result"
    }
   ],
   "source": [
    "sum(y_predicted)"
   ]
  },
  {
   "cell_type": "code",
   "execution_count": 165,
   "metadata": {},
   "outputs": [
    {
     "data": {
      "text/plain": [
       "7717"
      ]
     },
     "execution_count": 165,
     "metadata": {},
     "output_type": "execute_result"
    }
   ],
   "source": [
    "sum(y_train)"
   ]
  },
  {
   "cell_type": "code",
   "execution_count": 166,
   "metadata": {},
   "outputs": [
    {
     "data": {
      "text/plain": [
       "610388"
      ]
     },
     "execution_count": 166,
     "metadata": {},
     "output_type": "execute_result"
    }
   ],
   "source": [
    "sum(abs(y_predicted - y_train))"
   ]
  },
  {
   "cell_type": "code",
   "execution_count": null,
   "metadata": {},
   "outputs": [],
   "source": []
  }
 ],
 "metadata": {
  "kernelspec": {
   "display_name": "Python 3",
   "language": "python",
   "name": "python3"
  },
  "language_info": {
   "codemirror_mode": {
    "name": "ipython",
    "version": 3
   },
   "file_extension": ".py",
   "mimetype": "text/x-python",
   "name": "python",
   "nbconvert_exporter": "python",
   "pygments_lexer": "ipython3",
   "version": "3.6.6"
  }
 },
 "nbformat": 4,
 "nbformat_minor": 2
}
