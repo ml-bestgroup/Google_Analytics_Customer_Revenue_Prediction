{
 "cells": [
  {
   "cell_type": "code",
   "execution_count": 1,
   "metadata": {},
   "outputs": [],
   "source": [
    "import pandas as pd\n",
    "import warnings; warnings.simplefilter('ignore')"
   ]
  },
  {
   "cell_type": "code",
   "execution_count": 2,
   "metadata": {},
   "outputs": [],
   "source": [
    "df_user = pd.read_csv('./data/train_user.csv')"
   ]
  },
  {
   "cell_type": "code",
   "execution_count": 3,
   "metadata": {},
   "outputs": [
    {
     "data": {
      "text/html": [
       "<div>\n",
       "<style scoped>\n",
       "    .dataframe tbody tr th:only-of-type {\n",
       "        vertical-align: middle;\n",
       "    }\n",
       "\n",
       "    .dataframe tbody tr th {\n",
       "        vertical-align: top;\n",
       "    }\n",
       "\n",
       "    .dataframe thead th {\n",
       "        text-align: right;\n",
       "    }\n",
       "</style>\n",
       "<table border=\"1\" class=\"dataframe\">\n",
       "  <thead>\n",
       "    <tr style=\"text-align: right;\">\n",
       "      <th></th>\n",
       "      <th>Unnamed: 0</th>\n",
       "      <th>fullVisitorId</th>\n",
       "      <th>is_transaction</th>\n",
       "      <th>transactionRevenue_total</th>\n",
       "      <th>bounces_mean</th>\n",
       "      <th>hits_mean</th>\n",
       "      <th>pageviews_mean</th>\n",
       "      <th>visitNumber_total</th>\n",
       "      <th>is_source_googleplex_freq</th>\n",
       "      <th>is_source_googleplex_rate</th>\n",
       "      <th>...</th>\n",
       "      <th>dow_freq</th>\n",
       "      <th>dow_rate</th>\n",
       "      <th>hour_freq</th>\n",
       "      <th>hour_rate</th>\n",
       "      <th>browser_chrome_freq</th>\n",
       "      <th>browser_chrome_rate</th>\n",
       "      <th>is_mobile_freq</th>\n",
       "      <th>is_mobile_rate</th>\n",
       "      <th>system_google_freq</th>\n",
       "      <th>system_google_rate</th>\n",
       "    </tr>\n",
       "  </thead>\n",
       "  <tbody>\n",
       "    <tr>\n",
       "      <th>0</th>\n",
       "      <td>0</td>\n",
       "      <td>4823595352351</td>\n",
       "      <td>0</td>\n",
       "      <td>0.0</td>\n",
       "      <td>1.0</td>\n",
       "      <td>1.0</td>\n",
       "      <td>1.0</td>\n",
       "      <td>1</td>\n",
       "      <td>0</td>\n",
       "      <td>0.0</td>\n",
       "      <td>...</td>\n",
       "      <td>1</td>\n",
       "      <td>1.0</td>\n",
       "      <td>14</td>\n",
       "      <td>14.0</td>\n",
       "      <td>1</td>\n",
       "      <td>1.0</td>\n",
       "      <td>0</td>\n",
       "      <td>0.0</td>\n",
       "      <td>0</td>\n",
       "      <td>0.0</td>\n",
       "    </tr>\n",
       "    <tr>\n",
       "      <th>1</th>\n",
       "      <td>1</td>\n",
       "      <td>5103959234087</td>\n",
       "      <td>0</td>\n",
       "      <td>0.0</td>\n",
       "      <td>0.0</td>\n",
       "      <td>10.0</td>\n",
       "      <td>8.0</td>\n",
       "      <td>1</td>\n",
       "      <td>0</td>\n",
       "      <td>0.0</td>\n",
       "      <td>...</td>\n",
       "      <td>6</td>\n",
       "      <td>6.0</td>\n",
       "      <td>22</td>\n",
       "      <td>22.0</td>\n",
       "      <td>1</td>\n",
       "      <td>1.0</td>\n",
       "      <td>1</td>\n",
       "      <td>1.0</td>\n",
       "      <td>1</td>\n",
       "      <td>1.0</td>\n",
       "    </tr>\n",
       "    <tr>\n",
       "      <th>2</th>\n",
       "      <td>2</td>\n",
       "      <td>10278554503158</td>\n",
       "      <td>0</td>\n",
       "      <td>0.0</td>\n",
       "      <td>0.0</td>\n",
       "      <td>11.0</td>\n",
       "      <td>8.0</td>\n",
       "      <td>1</td>\n",
       "      <td>0</td>\n",
       "      <td>0.0</td>\n",
       "      <td>...</td>\n",
       "      <td>4</td>\n",
       "      <td>4.0</td>\n",
       "      <td>5</td>\n",
       "      <td>5.0</td>\n",
       "      <td>1</td>\n",
       "      <td>1.0</td>\n",
       "      <td>0</td>\n",
       "      <td>0.0</td>\n",
       "      <td>0</td>\n",
       "      <td>0.0</td>\n",
       "    </tr>\n",
       "    <tr>\n",
       "      <th>3</th>\n",
       "      <td>3</td>\n",
       "      <td>20424342248747</td>\n",
       "      <td>0</td>\n",
       "      <td>0.0</td>\n",
       "      <td>0.0</td>\n",
       "      <td>17.0</td>\n",
       "      <td>13.0</td>\n",
       "      <td>1</td>\n",
       "      <td>0</td>\n",
       "      <td>0.0</td>\n",
       "      <td>...</td>\n",
       "      <td>3</td>\n",
       "      <td>3.0</td>\n",
       "      <td>7</td>\n",
       "      <td>7.0</td>\n",
       "      <td>1</td>\n",
       "      <td>1.0</td>\n",
       "      <td>0</td>\n",
       "      <td>0.0</td>\n",
       "      <td>0</td>\n",
       "      <td>0.0</td>\n",
       "    </tr>\n",
       "    <tr>\n",
       "      <th>4</th>\n",
       "      <td>4</td>\n",
       "      <td>26722803385797</td>\n",
       "      <td>0</td>\n",
       "      <td>0.0</td>\n",
       "      <td>0.0</td>\n",
       "      <td>3.0</td>\n",
       "      <td>2.0</td>\n",
       "      <td>1</td>\n",
       "      <td>0</td>\n",
       "      <td>0.0</td>\n",
       "      <td>...</td>\n",
       "      <td>0</td>\n",
       "      <td>0.0</td>\n",
       "      <td>10</td>\n",
       "      <td>10.0</td>\n",
       "      <td>0</td>\n",
       "      <td>0.0</td>\n",
       "      <td>0</td>\n",
       "      <td>0.0</td>\n",
       "      <td>0</td>\n",
       "      <td>0.0</td>\n",
       "    </tr>\n",
       "  </tbody>\n",
       "</table>\n",
       "<p>5 rows × 64 columns</p>\n",
       "</div>"
      ],
      "text/plain": [
       "   Unnamed: 0   fullVisitorId  is_transaction  transactionRevenue_total  \\\n",
       "0           0   4823595352351               0                       0.0   \n",
       "1           1   5103959234087               0                       0.0   \n",
       "2           2  10278554503158               0                       0.0   \n",
       "3           3  20424342248747               0                       0.0   \n",
       "4           4  26722803385797               0                       0.0   \n",
       "\n",
       "   bounces_mean  hits_mean  pageviews_mean  visitNumber_total  \\\n",
       "0           1.0        1.0             1.0                  1   \n",
       "1           0.0       10.0             8.0                  1   \n",
       "2           0.0       11.0             8.0                  1   \n",
       "3           0.0       17.0            13.0                  1   \n",
       "4           0.0        3.0             2.0                  1   \n",
       "\n",
       "   is_source_googleplex_freq  is_source_googleplex_rate         ...          \\\n",
       "0                          0                        0.0         ...           \n",
       "1                          0                        0.0         ...           \n",
       "2                          0                        0.0         ...           \n",
       "3                          0                        0.0         ...           \n",
       "4                          0                        0.0         ...           \n",
       "\n",
       "   dow_freq  dow_rate  hour_freq  hour_rate  browser_chrome_freq  \\\n",
       "0         1       1.0         14       14.0                    1   \n",
       "1         6       6.0         22       22.0                    1   \n",
       "2         4       4.0          5        5.0                    1   \n",
       "3         3       3.0          7        7.0                    1   \n",
       "4         0       0.0         10       10.0                    0   \n",
       "\n",
       "   browser_chrome_rate  is_mobile_freq  is_mobile_rate  system_google_freq  \\\n",
       "0                  1.0               0             0.0                   0   \n",
       "1                  1.0               1             1.0                   1   \n",
       "2                  1.0               0             0.0                   0   \n",
       "3                  1.0               0             0.0                   0   \n",
       "4                  0.0               0             0.0                   0   \n",
       "\n",
       "   system_google_rate  \n",
       "0                 0.0  \n",
       "1                 1.0  \n",
       "2                 0.0  \n",
       "3                 0.0  \n",
       "4                 0.0  \n",
       "\n",
       "[5 rows x 64 columns]"
      ]
     },
     "execution_count": 3,
     "metadata": {},
     "output_type": "execute_result"
    }
   ],
   "source": [
    "df_user.head()"
   ]
  },
  {
   "cell_type": "code",
   "execution_count": 4,
   "metadata": {},
   "outputs": [
    {
     "data": {
      "text/plain": [
       "Index(['Unnamed: 0', 'fullVisitorId', 'is_transaction',\n",
       "       'transactionRevenue_total', 'bounces_mean', 'hits_mean',\n",
       "       'pageviews_mean', 'visitNumber_total', 'is_source_googleplex_freq',\n",
       "       'is_source_googleplex_rate', 'is_source_direct_freq',\n",
       "       'is_source_direct_rate', 'is_source_google_freq',\n",
       "       'is_source_google_rate', 'is_medium_referral_freq',\n",
       "       'is_medium_referral_rate', 'is_medium_none_freq', 'is_medium_none_rate',\n",
       "       'is_medium_organic_freq', 'is_medium_organic_rate', 'is_bayarea_freq',\n",
       "       'is_bayarea_rate', 'Africa_freq', 'Africa_rate', 'Americas_freq',\n",
       "       'Americas_rate', 'Asia_freq', 'Asia_rate', 'Europe_freq', 'Europe_rate',\n",
       "       'Oceania_freq', 'Oceania_rate', 'next_session_1_adjmean',\n",
       "       'last_session_1_adjmean', 'q1_freq', 'q1_rate', 'q2_freq', 'q2_rate',\n",
       "       'q3_freq', 'q3_rate', 'q4_freq', 'q4_rate', 'weekday_freq',\n",
       "       'weekday_rate', 'h_0_6_freq', 'h_0_6_rate', 'h_7_12_freq',\n",
       "       'h_7_12_rate', 'h_13_17_freq', 'h_13_17_rate', 'h_18_23_freq',\n",
       "       'h_18_23_rate', 'month_freq', 'month_rate', 'dow_freq', 'dow_rate',\n",
       "       'hour_freq', 'hour_rate', 'browser_chrome_freq', 'browser_chrome_rate',\n",
       "       'is_mobile_freq', 'is_mobile_rate', 'system_google_freq',\n",
       "       'system_google_rate'],\n",
       "      dtype='object')"
      ]
     },
     "execution_count": 4,
     "metadata": {},
     "output_type": "execute_result"
    }
   ],
   "source": [
    "df_user.columns"
   ]
  },
  {
   "cell_type": "code",
   "execution_count": 7,
   "metadata": {},
   "outputs": [
    {
     "data": {
      "text/plain": [
       "723803"
      ]
     },
     "execution_count": 7,
     "metadata": {},
     "output_type": "execute_result"
    }
   ],
   "source": [
    "len(df_user)"
   ]
  },
  {
   "cell_type": "markdown",
   "metadata": {},
   "source": [
    "# fit model"
   ]
  },
  {
   "cell_type": "code",
   "execution_count": 20,
   "metadata": {},
   "outputs": [],
   "source": [
    "from sklearn.linear_model import LogisticRegression\n",
    "from sklearn.model_selection import train_test_split\n",
    "from sklearn.metrics import confusion_matrix\n",
    "from sklearn.metrics import precision_recall_fscore_support"
   ]
  },
  {
   "cell_type": "markdown",
   "metadata": {},
   "source": [
    "## split"
   ]
  },
  {
   "cell_type": "code",
   "execution_count": 32,
   "metadata": {},
   "outputs": [
    {
     "data": {
      "text/plain": [
       "484948"
      ]
     },
     "execution_count": 32,
     "metadata": {},
     "output_type": "execute_result"
    }
   ],
   "source": [
    "df_user_train = df_user.sample(frac=0.67, random_state=43)\n",
    "len(df_user_train)"
   ]
  },
  {
   "cell_type": "markdown",
   "metadata": {},
   "source": [
    "## from X_train, y_train, get balanced sample"
   ]
  },
  {
   "cell_type": "code",
   "execution_count": 33,
   "metadata": {},
   "outputs": [
    {
     "data": {
      "text/plain": [
       "6911"
      ]
     },
     "execution_count": 33,
     "metadata": {},
     "output_type": "execute_result"
    }
   ],
   "source": [
    "df_user_0 = df_user_train[df_user_train['is_transaction']==1]\n",
    "len(df_user_0)"
   ]
  },
  {
   "cell_type": "code",
   "execution_count": 34,
   "metadata": {},
   "outputs": [
    {
     "data": {
      "text/plain": [
       "6911"
      ]
     },
     "execution_count": 34,
     "metadata": {},
     "output_type": "execute_result"
    }
   ],
   "source": [
    "df_user_1 = df_user_train[df_user_train['is_transaction']==0].sample(\n",
    "    n=len(df_user_0), random_state=3\n",
    ")\n",
    "len(df_user_1)"
   ]
  },
  {
   "cell_type": "code",
   "execution_count": 37,
   "metadata": {},
   "outputs": [
    {
     "data": {
      "text/plain": [
       "Index(['Unnamed: 0', 'fullVisitorId', 'is_transaction',\n",
       "       'transactionRevenue_total', 'bounces_mean', 'hits_mean',\n",
       "       'pageviews_mean', 'visitNumber_total', 'is_source_googleplex_freq',\n",
       "       'is_source_googleplex_rate', 'is_source_direct_freq',\n",
       "       'is_source_direct_rate', 'is_source_google_freq',\n",
       "       'is_source_google_rate', 'is_medium_referral_freq',\n",
       "       'is_medium_referral_rate', 'is_medium_none_freq', 'is_medium_none_rate',\n",
       "       'is_medium_organic_freq', 'is_medium_organic_rate', 'is_bayarea_freq',\n",
       "       'is_bayarea_rate', 'Africa_freq', 'Africa_rate', 'Americas_freq',\n",
       "       'Americas_rate', 'Asia_freq', 'Asia_rate', 'Europe_freq', 'Europe_rate',\n",
       "       'Oceania_freq', 'Oceania_rate', 'next_session_1_adjmean',\n",
       "       'last_session_1_adjmean', 'q1_freq', 'q1_rate', 'q2_freq', 'q2_rate',\n",
       "       'q3_freq', 'q3_rate', 'q4_freq', 'q4_rate', 'weekday_freq',\n",
       "       'weekday_rate', 'h_0_6_freq', 'h_0_6_rate', 'h_7_12_freq',\n",
       "       'h_7_12_rate', 'h_13_17_freq', 'h_13_17_rate', 'h_18_23_freq',\n",
       "       'h_18_23_rate', 'month_freq', 'month_rate', 'dow_freq', 'dow_rate',\n",
       "       'hour_freq', 'hour_rate', 'browser_chrome_freq', 'browser_chrome_rate',\n",
       "       'is_mobile_freq', 'is_mobile_rate', 'system_google_freq',\n",
       "       'system_google_rate'],\n",
       "      dtype='object')"
      ]
     },
     "execution_count": 37,
     "metadata": {},
     "output_type": "execute_result"
    }
   ],
   "source": [
    "df_user_balanced = pd.concat([df_user_0,df_user_1])\n",
    "df_user_balanced.columns"
   ]
  },
  {
   "cell_type": "code",
   "execution_count": 42,
   "metadata": {},
   "outputs": [],
   "source": [
    "X_train = df_user_balanced.drop(['is_transaction', 'fullVisitorId', 'transactionRevenue_total'], axis=1)\n",
    "y_train = df_user_balanced['is_transaction']"
   ]
  },
  {
   "cell_type": "code",
   "execution_count": 49,
   "metadata": {},
   "outputs": [],
   "source": [
    "df_user_test = df_user.loc[~df_user.index.isin(df_user_train.index), :]"
   ]
  },
  {
   "cell_type": "code",
   "execution_count": 50,
   "metadata": {},
   "outputs": [],
   "source": [
    "X_test = df_user_test.drop(['is_transaction', 'fullVisitorId', 'transactionRevenue_total'], axis=1)\n",
    "y_test = df_user_test['is_transaction']"
   ]
  },
  {
   "cell_type": "code",
   "execution_count": 56,
   "metadata": {},
   "outputs": [
    {
     "data": {
      "text/plain": [
       "238855"
      ]
     },
     "execution_count": 56,
     "metadata": {},
     "output_type": "execute_result"
    }
   ],
   "source": [
    "len(X_test)"
   ]
  },
  {
   "cell_type": "code",
   "execution_count": 55,
   "metadata": {},
   "outputs": [],
   "source": [
    "reg = LogisticRegression()\n",
    "reg.fit(X_train, y_train)\n",
    "y_pred = reg.predict(X_test)"
   ]
  },
  {
   "cell_type": "markdown",
   "metadata": {},
   "source": [
    "precision_recall_fscore_support(y_test, y_pred, average='macro')"
   ]
  },
  {
   "cell_type": "markdown",
   "metadata": {},
   "source": [
    "# fit whole dataset"
   ]
  },
  {
   "cell_type": "code",
   "execution_count": 25,
   "metadata": {},
   "outputs": [],
   "source": [
    "X_test_whole = df_user.drop(['is_transaction', 'fullVisitorId', 'transactionRevenue_total'], axis=1)\n",
    "y_test_whole = df_user['is_transaction']"
   ]
  },
  {
   "cell_type": "code",
   "execution_count": 26,
   "metadata": {},
   "outputs": [],
   "source": [
    "y_pred_whole = reg.predict(X_test_whole)"
   ]
  },
  {
   "cell_type": "code",
   "execution_count": 27,
   "metadata": {},
   "outputs": [
    {
     "data": {
      "text/plain": [
       "(0.5897808697000054, 0.950909664226554, 0.6355792740456989, None)"
      ]
     },
     "execution_count": 27,
     "metadata": {},
     "output_type": "execute_result"
    }
   ],
   "source": [
    "precision_recall_fscore_support(y_test_whole, y_pred_whole, average='macro') # ('precision', 'recall', 'f-score')"
   ]
  },
  {
   "cell_type": "code",
   "execution_count": 28,
   "metadata": {},
   "outputs": [
    {
     "data": {
      "text/plain": [
       "array([[669304,  44385],\n",
       "       [   364,   9750]])"
      ]
     },
     "execution_count": 28,
     "metadata": {},
     "output_type": "execute_result"
    }
   ],
   "source": [
    "confusion_matrix(y_test_whole, y_pred_whole) "
   ]
  },
  {
   "cell_type": "markdown",
   "metadata": {},
   "source": [
    "## Stacking"
   ]
  },
  {
   "cell_type": "code",
   "execution_count": 1,
   "metadata": {},
   "outputs": [],
   "source": [
    "from stacked_estimator import *"
   ]
  },
  {
   "cell_type": "code",
   "execution_count": null,
   "metadata": {},
   "outputs": [],
   "source": []
  }
 ],
 "metadata": {
  "kernelspec": {
   "display_name": "Python 3",
   "language": "python",
   "name": "python3"
  },
  "language_info": {
   "codemirror_mode": {
    "name": "ipython",
    "version": 3
   },
   "file_extension": ".py",
   "mimetype": "text/x-python",
   "name": "python",
   "nbconvert_exporter": "python",
   "pygments_lexer": "ipython3",
   "version": "3.6.7"
  }
 },
 "nbformat": 4,
 "nbformat_minor": 2
}
