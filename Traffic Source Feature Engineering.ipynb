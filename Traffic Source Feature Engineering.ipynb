{
 "cells": [
  {
   "cell_type": "code",
   "execution_count": 63,
   "metadata": {},
   "outputs": [],
   "source": [
    "import pandas as pd\n",
    "import numpy as np\n",
    "inputfile = \"../Data/train_flatten.csv\""
   ]
  },
  {
   "cell_type": "code",
   "execution_count": 84,
   "metadata": {},
   "outputs": [],
   "source": [
    "df = pd.read_csv(inputfile, delimiter=',', skipinitialspace=True)\n"
   ]
  },
  {
   "cell_type": "markdown",
   "metadata": {},
   "source": [
    "# isTrueDirect"
   ]
  },
  {
   "cell_type": "code",
   "execution_count": 3,
   "metadata": {},
   "outputs": [],
   "source": [
    "df['isTrueDirect']=df['isTrueDirect'].fillna(False)"
   ]
  },
  {
   "cell_type": "code",
   "execution_count": null,
   "metadata": {},
   "outputs": [],
   "source": [
    "df['isTrueDirect']=df['isTrueDirect'].astype(int)"
   ]
  },
  {
   "cell_type": "markdown",
   "metadata": {},
   "source": [
    "# source"
   ]
  },
  {
   "cell_type": "code",
   "execution_count": 31,
   "metadata": {},
   "outputs": [],
   "source": [
    "is_source_mall_googleplex = (df['source']=='mall.googleplex.com').astype(int)\n",
    "is_source_mall_googleplex.name = 'is_source_googleplex'"
   ]
  },
  {
   "cell_type": "code",
   "execution_count": 30,
   "metadata": {},
   "outputs": [],
   "source": [
    "is_source_direct = (df['source']=='(direct)').astype(int)\n",
    "is_source_direct.name = 'is_source_direct'"
   ]
  },
  {
   "cell_type": "code",
   "execution_count": 32,
   "metadata": {},
   "outputs": [],
   "source": [
    "is_source_google = (df['source']=='(direct)').astype(int)\n",
    "is_source_google.name = 'is_source_google'"
   ]
  },
  {
   "cell_type": "markdown",
   "metadata": {},
   "source": [
    "# medium"
   ]
  },
  {
   "cell_type": "code",
   "execution_count": 35,
   "metadata": {},
   "outputs": [],
   "source": [
    "is_medium_referral = (df['medium']=='referral').astype(int)\n",
    "is_medium_referral.name = 'is_medium_referral'"
   ]
  },
  {
   "cell_type": "code",
   "execution_count": 38,
   "metadata": {},
   "outputs": [],
   "source": [
    "is_medium_none = (df['medium']=='(none)').astype(int).unique()\n",
    "is_medium_none.name = 'is_medium_none'"
   ]
  },
  {
   "cell_type": "code",
   "execution_count": 85,
   "metadata": {},
   "outputs": [],
   "source": [
    "is_medium_organic = (df['medium']=='organic').astype(int)\n",
    "is_medium_organic.name=\"is_medium_organic\""
   ]
  },
  {
   "cell_type": "code",
   "execution_count": 89,
   "metadata": {},
   "outputs": [
    {
     "data": {
      "text/plain": [
       "array(['Unnamed: 0', 'channelGrouping', 'date', 'fullVisitorId',\n",
       "       'sessionId', 'socialEngagementType', 'visitId', 'visitNumber',\n",
       "       'visitStartTime', 'bounces', 'hits', 'newVisits', 'pageviews',\n",
       "       'transactionRevenue', 'visits', 'browser', 'deviceCategory',\n",
       "       'isMobile', 'operatingSystem', 'adContent', 'adwordsClickInfo',\n",
       "       'campaign', 'isTrueDirect', 'keyword', 'medium', 'referralPath',\n",
       "       'source', 'city', 'continent', 'country', 'metro', 'networkDomain',\n",
       "       'region', 'subContinent', 'is_medium_organic'], dtype=object)"
      ]
     },
     "execution_count": 89,
     "metadata": {},
     "output_type": "execute_result"
    }
   ],
   "source": [
    "df.columns.values"
   ]
  },
  {
   "cell_type": "code",
   "execution_count": 88,
   "metadata": {},
   "outputs": [],
   "source": [
    "df=pd.concat([df,is_medium_organic],axis=1, names = df.columns.values.tolist()+['is_medium_organic'])"
   ]
  },
  {
   "cell_type": "code",
   "execution_count": 86,
   "metadata": {},
   "outputs": [],
   "source": [
    "is_medium_organic.name=\"is_medium_organic\""
   ]
  },
  {
   "cell_type": "markdown",
   "metadata": {},
   "source": [
    "# Function"
   ]
  },
  {
   "cell_type": "code",
   "execution_count": 96,
   "metadata": {},
   "outputs": [],
   "source": [
    "def extract_traffic_source_columns(df):\n",
    "    df['isTrueDirect']=df['isTrueDirect'].fillna(False)\n",
    "    df['isTrueDirect']=df['isTrueDirect'].astype(int)\n",
    "    \n",
    "    is_source_mall_googleplex = (df['source']=='mall.googleplex.com').astype(int)\n",
    "    is_source_mall_googleplex.name = 'is_source_googleplex'    \n",
    "    \n",
    "    is_source_direct = (df['source']=='(direct)').astype(int)\n",
    "    is_source_direct.name = 'is_source_direct'\n",
    "    \n",
    "    is_source_google = (df['source']=='(direct)').astype(int)\n",
    "    is_source_google.name = 'is_source_google'\n",
    "    \n",
    "    is_medium_referral = (df['medium']=='referral').astype(int)\n",
    "    is_medium_referral.name = 'is_medium_referral'\n",
    "    is_medium_none = (df['medium']=='(none)').astype(int)\n",
    "    is_medium_none.name = 'is_medium_none'\n",
    "    is_medium_organic = (df['medium']=='organic').astype(int)\n",
    "    is_medium_organic.name=\"is_medium_organic\"\n",
    "    \n",
    "    df = df.drop(columns = ['adContent','adwordsClickInfo','campaign', 'keyword', 'medium', 'referralPath',\n",
    "                      'source'])\n",
    "    \n",
    "    return pd.concat([df,is_source_mall_googleplex,is_source_direct,is_source_google,is_medium_referral,\n",
    "                    is_medium_none,is_medium_organic],axis=1)"
   ]
  },
  {
   "cell_type": "markdown",
   "metadata": {},
   "source": [
    "# Test"
   ]
  },
  {
   "cell_type": "code",
   "execution_count": 97,
   "metadata": {},
   "outputs": [],
   "source": [
    "df = pd.read_csv(inputfile, delimiter=',', skipinitialspace=True)\n"
   ]
  },
  {
   "cell_type": "code",
   "execution_count": 98,
   "metadata": {},
   "outputs": [],
   "source": [
    "dftest = extract_traffic_source_columns(df)"
   ]
  },
  {
   "cell_type": "code",
   "execution_count": 101,
   "metadata": {},
   "outputs": [
    {
     "data": {
      "text/html": [
       "<div>\n",
       "<style scoped>\n",
       "    .dataframe tbody tr th:only-of-type {\n",
       "        vertical-align: middle;\n",
       "    }\n",
       "\n",
       "    .dataframe tbody tr th {\n",
       "        vertical-align: top;\n",
       "    }\n",
       "\n",
       "    .dataframe thead th {\n",
       "        text-align: right;\n",
       "    }\n",
       "</style>\n",
       "<table border=\"1\" class=\"dataframe\">\n",
       "  <thead>\n",
       "    <tr style=\"text-align: right;\">\n",
       "      <th></th>\n",
       "      <th>Unnamed: 0</th>\n",
       "      <th>channelGrouping</th>\n",
       "      <th>date</th>\n",
       "      <th>fullVisitorId</th>\n",
       "      <th>sessionId</th>\n",
       "      <th>socialEngagementType</th>\n",
       "      <th>visitId</th>\n",
       "      <th>visitNumber</th>\n",
       "      <th>visitStartTime</th>\n",
       "      <th>bounces</th>\n",
       "      <th>...</th>\n",
       "      <th>metro</th>\n",
       "      <th>networkDomain</th>\n",
       "      <th>region</th>\n",
       "      <th>subContinent</th>\n",
       "      <th>is_source_googleplex</th>\n",
       "      <th>is_source_direct</th>\n",
       "      <th>is_source_google</th>\n",
       "      <th>is_medium_referral</th>\n",
       "      <th>is_medium_none</th>\n",
       "      <th>is_medium_organic</th>\n",
       "    </tr>\n",
       "  </thead>\n",
       "  <tbody>\n",
       "    <tr>\n",
       "      <th>903648</th>\n",
       "      <td>903648</td>\n",
       "      <td>Social</td>\n",
       "      <td>20170104</td>\n",
       "      <td>5123779100307500332</td>\n",
       "      <td>5123779100307500332_1483554750</td>\n",
       "      <td>Not Socially Engaged</td>\n",
       "      <td>1483554750</td>\n",
       "      <td>1</td>\n",
       "      <td>1483554750</td>\n",
       "      <td>NaN</td>\n",
       "      <td>...</td>\n",
       "      <td>not available in demo dataset</td>\n",
       "      <td>prtc.net</td>\n",
       "      <td>not available in demo dataset</td>\n",
       "      <td>Caribbean</td>\n",
       "      <td>0</td>\n",
       "      <td>0</td>\n",
       "      <td>0</td>\n",
       "      <td>1</td>\n",
       "      <td>0</td>\n",
       "      <td>0</td>\n",
       "    </tr>\n",
       "    <tr>\n",
       "      <th>903649</th>\n",
       "      <td>903649</td>\n",
       "      <td>Social</td>\n",
       "      <td>20170104</td>\n",
       "      <td>7231728964973959842</td>\n",
       "      <td>7231728964973959842_1483543798</td>\n",
       "      <td>Not Socially Engaged</td>\n",
       "      <td>1483543798</td>\n",
       "      <td>1</td>\n",
       "      <td>1483543798</td>\n",
       "      <td>NaN</td>\n",
       "      <td>...</td>\n",
       "      <td>not available in demo dataset</td>\n",
       "      <td>unknown.unknown</td>\n",
       "      <td>not available in demo dataset</td>\n",
       "      <td>Southern Asia</td>\n",
       "      <td>0</td>\n",
       "      <td>0</td>\n",
       "      <td>0</td>\n",
       "      <td>1</td>\n",
       "      <td>0</td>\n",
       "      <td>0</td>\n",
       "    </tr>\n",
       "    <tr>\n",
       "      <th>903650</th>\n",
       "      <td>903650</td>\n",
       "      <td>Social</td>\n",
       "      <td>20170104</td>\n",
       "      <td>5744576632396406899</td>\n",
       "      <td>5744576632396406899_1483526434</td>\n",
       "      <td>Not Socially Engaged</td>\n",
       "      <td>1483526434</td>\n",
       "      <td>1</td>\n",
       "      <td>1483526434</td>\n",
       "      <td>NaN</td>\n",
       "      <td>...</td>\n",
       "      <td>(not set)</td>\n",
       "      <td>unknown.unknown</td>\n",
       "      <td>Seoul</td>\n",
       "      <td>Eastern Asia</td>\n",
       "      <td>0</td>\n",
       "      <td>0</td>\n",
       "      <td>0</td>\n",
       "      <td>1</td>\n",
       "      <td>0</td>\n",
       "      <td>0</td>\n",
       "    </tr>\n",
       "    <tr>\n",
       "      <th>903651</th>\n",
       "      <td>903651</td>\n",
       "      <td>Social</td>\n",
       "      <td>20170104</td>\n",
       "      <td>2709355455991750775</td>\n",
       "      <td>2709355455991750775_1483592857</td>\n",
       "      <td>Not Socially Engaged</td>\n",
       "      <td>1483592857</td>\n",
       "      <td>1</td>\n",
       "      <td>1483592864</td>\n",
       "      <td>NaN</td>\n",
       "      <td>...</td>\n",
       "      <td>not available in demo dataset</td>\n",
       "      <td>unknown.unknown</td>\n",
       "      <td>not available in demo dataset</td>\n",
       "      <td>Southeast Asia</td>\n",
       "      <td>0</td>\n",
       "      <td>0</td>\n",
       "      <td>0</td>\n",
       "      <td>1</td>\n",
       "      <td>0</td>\n",
       "      <td>0</td>\n",
       "    </tr>\n",
       "    <tr>\n",
       "      <th>903652</th>\n",
       "      <td>903652</td>\n",
       "      <td>Social</td>\n",
       "      <td>20170104</td>\n",
       "      <td>814900163617805053</td>\n",
       "      <td>0814900163617805053_1483574474</td>\n",
       "      <td>Not Socially Engaged</td>\n",
       "      <td>1483574474</td>\n",
       "      <td>1</td>\n",
       "      <td>1483574474</td>\n",
       "      <td>NaN</td>\n",
       "      <td>...</td>\n",
       "      <td>not available in demo dataset</td>\n",
       "      <td>cybercable.net.mx</td>\n",
       "      <td>not available in demo dataset</td>\n",
       "      <td>Central America</td>\n",
       "      <td>0</td>\n",
       "      <td>0</td>\n",
       "      <td>0</td>\n",
       "      <td>1</td>\n",
       "      <td>0</td>\n",
       "      <td>0</td>\n",
       "    </tr>\n",
       "  </tbody>\n",
       "</table>\n",
       "<p>5 rows × 33 columns</p>\n",
       "</div>"
      ],
      "text/plain": [
       "        Unnamed: 0 channelGrouping      date        fullVisitorId  \\\n",
       "903648      903648          Social  20170104  5123779100307500332   \n",
       "903649      903649          Social  20170104  7231728964973959842   \n",
       "903650      903650          Social  20170104  5744576632396406899   \n",
       "903651      903651          Social  20170104  2709355455991750775   \n",
       "903652      903652          Social  20170104   814900163617805053   \n",
       "\n",
       "                             sessionId  socialEngagementType     visitId  \\\n",
       "903648  5123779100307500332_1483554750  Not Socially Engaged  1483554750   \n",
       "903649  7231728964973959842_1483543798  Not Socially Engaged  1483543798   \n",
       "903650  5744576632396406899_1483526434  Not Socially Engaged  1483526434   \n",
       "903651  2709355455991750775_1483592857  Not Socially Engaged  1483592857   \n",
       "903652  0814900163617805053_1483574474  Not Socially Engaged  1483574474   \n",
       "\n",
       "        visitNumber  visitStartTime  bounces        ...          \\\n",
       "903648            1      1483554750      NaN        ...           \n",
       "903649            1      1483543798      NaN        ...           \n",
       "903650            1      1483526434      NaN        ...           \n",
       "903651            1      1483592864      NaN        ...           \n",
       "903652            1      1483574474      NaN        ...           \n",
       "\n",
       "                                metro      networkDomain  \\\n",
       "903648  not available in demo dataset           prtc.net   \n",
       "903649  not available in demo dataset    unknown.unknown   \n",
       "903650                      (not set)    unknown.unknown   \n",
       "903651  not available in demo dataset    unknown.unknown   \n",
       "903652  not available in demo dataset  cybercable.net.mx   \n",
       "\n",
       "                               region     subContinent  is_source_googleplex  \\\n",
       "903648  not available in demo dataset        Caribbean                     0   \n",
       "903649  not available in demo dataset    Southern Asia                     0   \n",
       "903650                          Seoul     Eastern Asia                     0   \n",
       "903651  not available in demo dataset   Southeast Asia                     0   \n",
       "903652  not available in demo dataset  Central America                     0   \n",
       "\n",
       "       is_source_direct is_source_google  is_medium_referral is_medium_none  \\\n",
       "903648                0                0                   1              0   \n",
       "903649                0                0                   1              0   \n",
       "903650                0                0                   1              0   \n",
       "903651                0                0                   1              0   \n",
       "903652                0                0                   1              0   \n",
       "\n",
       "        is_medium_organic  \n",
       "903648                  0  \n",
       "903649                  0  \n",
       "903650                  0  \n",
       "903651                  0  \n",
       "903652                  0  \n",
       "\n",
       "[5 rows x 33 columns]"
      ]
     },
     "execution_count": 101,
     "metadata": {},
     "output_type": "execute_result"
    }
   ],
   "source": [
    "dftest.tail()"
   ]
  }
 ],
 "metadata": {
  "kernelspec": {
   "display_name": "Python 3",
   "language": "python",
   "name": "python3"
  },
  "language_info": {
   "codemirror_mode": {
    "name": "ipython",
    "version": 3
   },
   "file_extension": ".py",
   "mimetype": "text/x-python",
   "name": "python",
   "nbconvert_exporter": "python",
   "pygments_lexer": "ipython3",
   "version": "3.7.0"
  }
 },
 "nbformat": 4,
 "nbformat_minor": 2
}
