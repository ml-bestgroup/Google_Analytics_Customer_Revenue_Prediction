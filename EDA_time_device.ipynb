{
 "cells": [
  {
   "cell_type": "code",
   "execution_count": 1,
   "metadata": {},
   "outputs": [],
   "source": [
    "import pandas as pd\n",
    "import matplotlib.pyplot as plt\n",
    "import seaborn as sns\n",
    "import datetime as dt"
   ]
  },
  {
   "cell_type": "code",
   "execution_count": 2,
   "metadata": {},
   "outputs": [],
   "source": [
    "inputfile = 'data/train_flatten.csv'"
   ]
  },
  {
   "cell_type": "code",
   "execution_count": 3,
   "metadata": {},
   "outputs": [
    {
     "name": "stderr",
     "output_type": "stream",
     "text": [
      "/anaconda3/lib/python3.6/site-packages/IPython/core/interactiveshell.py:2785: DtypeWarning: Columns (3) have mixed types. Specify dtype option on import or set low_memory=False.\n",
      "  interactivity=interactivity, compiler=compiler, result=result)\n"
     ]
    }
   ],
   "source": [
    "data = pd.read_csv(inputfile, delimiter=',', skipinitialspace=True)"
   ]
  },
  {
   "cell_type": "code",
   "execution_count": 4,
   "metadata": {},
   "outputs": [
    {
     "data": {
      "text/html": [
       "<div>\n",
       "<style scoped>\n",
       "    .dataframe tbody tr th:only-of-type {\n",
       "        vertical-align: middle;\n",
       "    }\n",
       "\n",
       "    .dataframe tbody tr th {\n",
       "        vertical-align: top;\n",
       "    }\n",
       "\n",
       "    .dataframe thead th {\n",
       "        text-align: right;\n",
       "    }\n",
       "</style>\n",
       "<table border=\"1\" class=\"dataframe\">\n",
       "  <thead>\n",
       "    <tr style=\"text-align: right;\">\n",
       "      <th></th>\n",
       "      <th>Unnamed: 0</th>\n",
       "      <th>channelGrouping</th>\n",
       "      <th>date</th>\n",
       "      <th>fullVisitorId</th>\n",
       "      <th>sessionId</th>\n",
       "      <th>socialEngagementType</th>\n",
       "      <th>visitId</th>\n",
       "      <th>visitNumber</th>\n",
       "      <th>visitStartTime</th>\n",
       "      <th>bounces</th>\n",
       "      <th>...</th>\n",
       "      <th>medium</th>\n",
       "      <th>referralPath</th>\n",
       "      <th>source</th>\n",
       "      <th>city</th>\n",
       "      <th>continent</th>\n",
       "      <th>country</th>\n",
       "      <th>metro</th>\n",
       "      <th>networkDomain</th>\n",
       "      <th>region</th>\n",
       "      <th>subContinent</th>\n",
       "    </tr>\n",
       "  </thead>\n",
       "  <tbody>\n",
       "    <tr>\n",
       "      <th>0</th>\n",
       "      <td>0</td>\n",
       "      <td>Organic Search</td>\n",
       "      <td>20160902</td>\n",
       "      <td>1131660440785968503</td>\n",
       "      <td>1131660440785968503_1472830385</td>\n",
       "      <td>Not Socially Engaged</td>\n",
       "      <td>1472830385</td>\n",
       "      <td>1</td>\n",
       "      <td>1472830385</td>\n",
       "      <td>1.0</td>\n",
       "      <td>...</td>\n",
       "      <td>organic</td>\n",
       "      <td>NaN</td>\n",
       "      <td>google</td>\n",
       "      <td>Izmir</td>\n",
       "      <td>Asia</td>\n",
       "      <td>Turkey</td>\n",
       "      <td>(not set)</td>\n",
       "      <td>ttnet.com.tr</td>\n",
       "      <td>Izmir</td>\n",
       "      <td>Western Asia</td>\n",
       "    </tr>\n",
       "    <tr>\n",
       "      <th>1</th>\n",
       "      <td>1</td>\n",
       "      <td>Organic Search</td>\n",
       "      <td>20160902</td>\n",
       "      <td>377306020877927890</td>\n",
       "      <td>377306020877927890_1472880147</td>\n",
       "      <td>Not Socially Engaged</td>\n",
       "      <td>1472880147</td>\n",
       "      <td>1</td>\n",
       "      <td>1472880147</td>\n",
       "      <td>1.0</td>\n",
       "      <td>...</td>\n",
       "      <td>organic</td>\n",
       "      <td>NaN</td>\n",
       "      <td>google</td>\n",
       "      <td>not available in demo dataset</td>\n",
       "      <td>Oceania</td>\n",
       "      <td>Australia</td>\n",
       "      <td>not available in demo dataset</td>\n",
       "      <td>dodo.net.au</td>\n",
       "      <td>not available in demo dataset</td>\n",
       "      <td>Australasia</td>\n",
       "    </tr>\n",
       "    <tr>\n",
       "      <th>2</th>\n",
       "      <td>2</td>\n",
       "      <td>Organic Search</td>\n",
       "      <td>20160902</td>\n",
       "      <td>3895546263509774583</td>\n",
       "      <td>3895546263509774583_1472865386</td>\n",
       "      <td>Not Socially Engaged</td>\n",
       "      <td>1472865386</td>\n",
       "      <td>1</td>\n",
       "      <td>1472865386</td>\n",
       "      <td>1.0</td>\n",
       "      <td>...</td>\n",
       "      <td>organic</td>\n",
       "      <td>NaN</td>\n",
       "      <td>google</td>\n",
       "      <td>Madrid</td>\n",
       "      <td>Europe</td>\n",
       "      <td>Spain</td>\n",
       "      <td>(not set)</td>\n",
       "      <td>unknown.unknown</td>\n",
       "      <td>Community of Madrid</td>\n",
       "      <td>Southern Europe</td>\n",
       "    </tr>\n",
       "    <tr>\n",
       "      <th>3</th>\n",
       "      <td>3</td>\n",
       "      <td>Organic Search</td>\n",
       "      <td>20160902</td>\n",
       "      <td>4763447161404445595</td>\n",
       "      <td>4763447161404445595_1472881213</td>\n",
       "      <td>Not Socially Engaged</td>\n",
       "      <td>1472881213</td>\n",
       "      <td>1</td>\n",
       "      <td>1472881213</td>\n",
       "      <td>1.0</td>\n",
       "      <td>...</td>\n",
       "      <td>organic</td>\n",
       "      <td>NaN</td>\n",
       "      <td>google</td>\n",
       "      <td>not available in demo dataset</td>\n",
       "      <td>Asia</td>\n",
       "      <td>Indonesia</td>\n",
       "      <td>not available in demo dataset</td>\n",
       "      <td>unknown.unknown</td>\n",
       "      <td>not available in demo dataset</td>\n",
       "      <td>Southeast Asia</td>\n",
       "    </tr>\n",
       "    <tr>\n",
       "      <th>4</th>\n",
       "      <td>4</td>\n",
       "      <td>Organic Search</td>\n",
       "      <td>20160902</td>\n",
       "      <td>27294437909732085</td>\n",
       "      <td>27294437909732085_1472822600</td>\n",
       "      <td>Not Socially Engaged</td>\n",
       "      <td>1472822600</td>\n",
       "      <td>2</td>\n",
       "      <td>1472822600</td>\n",
       "      <td>1.0</td>\n",
       "      <td>...</td>\n",
       "      <td>organic</td>\n",
       "      <td>NaN</td>\n",
       "      <td>google</td>\n",
       "      <td>not available in demo dataset</td>\n",
       "      <td>Europe</td>\n",
       "      <td>United Kingdom</td>\n",
       "      <td>not available in demo dataset</td>\n",
       "      <td>unknown.unknown</td>\n",
       "      <td>not available in demo dataset</td>\n",
       "      <td>Northern Europe</td>\n",
       "    </tr>\n",
       "  </tbody>\n",
       "</table>\n",
       "<p>5 rows × 34 columns</p>\n",
       "</div>"
      ],
      "text/plain": [
       "   Unnamed: 0 channelGrouping      date        fullVisitorId  \\\n",
       "0           0  Organic Search  20160902  1131660440785968503   \n",
       "1           1  Organic Search  20160902   377306020877927890   \n",
       "2           2  Organic Search  20160902  3895546263509774583   \n",
       "3           3  Organic Search  20160902  4763447161404445595   \n",
       "4           4  Organic Search  20160902    27294437909732085   \n",
       "\n",
       "                        sessionId  socialEngagementType     visitId  \\\n",
       "0  1131660440785968503_1472830385  Not Socially Engaged  1472830385   \n",
       "1   377306020877927890_1472880147  Not Socially Engaged  1472880147   \n",
       "2  3895546263509774583_1472865386  Not Socially Engaged  1472865386   \n",
       "3  4763447161404445595_1472881213  Not Socially Engaged  1472881213   \n",
       "4    27294437909732085_1472822600  Not Socially Engaged  1472822600   \n",
       "\n",
       "   visitNumber  visitStartTime  bounces       ...          medium  \\\n",
       "0            1      1472830385      1.0       ...         organic   \n",
       "1            1      1472880147      1.0       ...         organic   \n",
       "2            1      1472865386      1.0       ...         organic   \n",
       "3            1      1472881213      1.0       ...         organic   \n",
       "4            2      1472822600      1.0       ...         organic   \n",
       "\n",
       "   referralPath  source                           city  continent  \\\n",
       "0           NaN  google                          Izmir       Asia   \n",
       "1           NaN  google  not available in demo dataset    Oceania   \n",
       "2           NaN  google                         Madrid     Europe   \n",
       "3           NaN  google  not available in demo dataset       Asia   \n",
       "4           NaN  google  not available in demo dataset     Europe   \n",
       "\n",
       "          country                          metro    networkDomain  \\\n",
       "0          Turkey                      (not set)     ttnet.com.tr   \n",
       "1       Australia  not available in demo dataset      dodo.net.au   \n",
       "2           Spain                      (not set)  unknown.unknown   \n",
       "3       Indonesia  not available in demo dataset  unknown.unknown   \n",
       "4  United Kingdom  not available in demo dataset  unknown.unknown   \n",
       "\n",
       "                          region     subContinent  \n",
       "0                          Izmir     Western Asia  \n",
       "1  not available in demo dataset      Australasia  \n",
       "2            Community of Madrid  Southern Europe  \n",
       "3  not available in demo dataset   Southeast Asia  \n",
       "4  not available in demo dataset  Northern Europe  \n",
       "\n",
       "[5 rows x 34 columns]"
      ]
     },
     "execution_count": 4,
     "metadata": {},
     "output_type": "execute_result"
    }
   ],
   "source": [
    "data.head()"
   ]
  },
  {
   "cell_type": "code",
   "execution_count": 5,
   "metadata": {},
   "outputs": [],
   "source": [
    "col_time = ['transactionRevenue', 'fullVisitorId', 'visitId', \n",
    "             'date', 'visitStartTime', 'visitNumber']\n",
    "\n",
    "col_device = ['transactionRevenue', 'fullVisitorId', 'visitId', \n",
    "              'browser', 'deviceCategory', 'isMobile', 'operatingSystem']\n"
   ]
  },
  {
   "cell_type": "code",
   "execution_count": 6,
   "metadata": {},
   "outputs": [],
   "source": [
    "data_time = data[col_time]\n",
    "data_device = data[col_device]"
   ]
  },
  {
   "cell_type": "code",
   "execution_count": 76,
   "metadata": {},
   "outputs": [
    {
     "name": "stderr",
     "output_type": "stream",
     "text": [
      "/anaconda3/lib/python3.6/site-packages/ipykernel_launcher.py:2: SettingWithCopyWarning: \n",
      "A value is trying to be set on a copy of a slice from a DataFrame.\n",
      "Try using .loc[row_indexer,col_indexer] = value instead\n",
      "\n",
      "See the caveats in the documentation: http://pandas.pydata.org/pandas-docs/stable/indexing.html#indexing-view-versus-copy\n",
      "  \n",
      "/anaconda3/lib/python3.6/site-packages/ipykernel_launcher.py:3: SettingWithCopyWarning: \n",
      "A value is trying to be set on a copy of a slice from a DataFrame.\n",
      "Try using .loc[row_indexer,col_indexer] = value instead\n",
      "\n",
      "See the caveats in the documentation: http://pandas.pydata.org/pandas-docs/stable/indexing.html#indexing-view-versus-copy\n",
      "  This is separate from the ipykernel package so we can avoid doing imports until\n"
     ]
    }
   ],
   "source": [
    "# convert transcation to Trans and NonTrans\n",
    "data_time['trans'] = pd.notnull(data_time['transactionRevenue'])\n",
    "data_device['trans'] = pd.notnull(data_time['transactionRevenue'])"
   ]
  },
  {
   "cell_type": "code",
   "execution_count": 77,
   "metadata": {},
   "outputs": [
    {
     "data": {
      "text/plain": [
       "903648    False\n",
       "903649    False\n",
       "903650    False\n",
       "903651    False\n",
       "903652    False\n",
       "Name: trans, dtype: bool"
      ]
     },
     "execution_count": 77,
     "metadata": {},
     "output_type": "execute_result"
    }
   ],
   "source": [
    "data_time['trans'].tail()"
   ]
  },
  {
   "cell_type": "markdown",
   "metadata": {},
   "source": [
    "# EDA with time"
   ]
  },
  {
   "cell_type": "code",
   "execution_count": 78,
   "metadata": {},
   "outputs": [
    {
     "data": {
      "text/html": [
       "<div>\n",
       "<style scoped>\n",
       "    .dataframe tbody tr th:only-of-type {\n",
       "        vertical-align: middle;\n",
       "    }\n",
       "\n",
       "    .dataframe tbody tr th {\n",
       "        vertical-align: top;\n",
       "    }\n",
       "\n",
       "    .dataframe thead th {\n",
       "        text-align: right;\n",
       "    }\n",
       "</style>\n",
       "<table border=\"1\" class=\"dataframe\">\n",
       "  <thead>\n",
       "    <tr style=\"text-align: right;\">\n",
       "      <th></th>\n",
       "      <th>transactionRevenue</th>\n",
       "      <th>fullVisitorId</th>\n",
       "      <th>visitId</th>\n",
       "      <th>date</th>\n",
       "      <th>visitStartTime</th>\n",
       "      <th>visitNumber</th>\n",
       "      <th>visitTime</th>\n",
       "      <th>weekday</th>\n",
       "      <th>month</th>\n",
       "      <th>year</th>\n",
       "      <th>hour</th>\n",
       "      <th>trans</th>\n",
       "    </tr>\n",
       "  </thead>\n",
       "  <tbody>\n",
       "    <tr>\n",
       "      <th>903648</th>\n",
       "      <td>NaN</td>\n",
       "      <td>5123779100307500332</td>\n",
       "      <td>1483554750</td>\n",
       "      <td>20170104</td>\n",
       "      <td>1483554750</td>\n",
       "      <td>1</td>\n",
       "      <td>2017-01-04 18:32:30</td>\n",
       "      <td>2</td>\n",
       "      <td>1</td>\n",
       "      <td>2017</td>\n",
       "      <td>18</td>\n",
       "      <td>False</td>\n",
       "    </tr>\n",
       "    <tr>\n",
       "      <th>903649</th>\n",
       "      <td>NaN</td>\n",
       "      <td>7231728964973959842</td>\n",
       "      <td>1483543798</td>\n",
       "      <td>20170104</td>\n",
       "      <td>1483543798</td>\n",
       "      <td>1</td>\n",
       "      <td>2017-01-04 15:29:58</td>\n",
       "      <td>2</td>\n",
       "      <td>1</td>\n",
       "      <td>2017</td>\n",
       "      <td>15</td>\n",
       "      <td>False</td>\n",
       "    </tr>\n",
       "    <tr>\n",
       "      <th>903650</th>\n",
       "      <td>NaN</td>\n",
       "      <td>5744576632396406899</td>\n",
       "      <td>1483526434</td>\n",
       "      <td>20170104</td>\n",
       "      <td>1483526434</td>\n",
       "      <td>1</td>\n",
       "      <td>2017-01-04 10:40:34</td>\n",
       "      <td>2</td>\n",
       "      <td>1</td>\n",
       "      <td>2017</td>\n",
       "      <td>10</td>\n",
       "      <td>False</td>\n",
       "    </tr>\n",
       "    <tr>\n",
       "      <th>903651</th>\n",
       "      <td>NaN</td>\n",
       "      <td>2709355455991750775</td>\n",
       "      <td>1483592857</td>\n",
       "      <td>20170104</td>\n",
       "      <td>1483592864</td>\n",
       "      <td>1</td>\n",
       "      <td>2017-01-05 05:07:44</td>\n",
       "      <td>3</td>\n",
       "      <td>1</td>\n",
       "      <td>2017</td>\n",
       "      <td>5</td>\n",
       "      <td>False</td>\n",
       "    </tr>\n",
       "    <tr>\n",
       "      <th>903652</th>\n",
       "      <td>NaN</td>\n",
       "      <td>814900163617805053</td>\n",
       "      <td>1483574474</td>\n",
       "      <td>20170104</td>\n",
       "      <td>1483574474</td>\n",
       "      <td>1</td>\n",
       "      <td>2017-01-05 00:01:14</td>\n",
       "      <td>3</td>\n",
       "      <td>1</td>\n",
       "      <td>2017</td>\n",
       "      <td>0</td>\n",
       "      <td>False</td>\n",
       "    </tr>\n",
       "  </tbody>\n",
       "</table>\n",
       "</div>"
      ],
      "text/plain": [
       "        transactionRevenue        fullVisitorId     visitId      date  \\\n",
       "903648                 NaN  5123779100307500332  1483554750  20170104   \n",
       "903649                 NaN  7231728964973959842  1483543798  20170104   \n",
       "903650                 NaN  5744576632396406899  1483526434  20170104   \n",
       "903651                 NaN  2709355455991750775  1483592857  20170104   \n",
       "903652                 NaN   814900163617805053  1483574474  20170104   \n",
       "\n",
       "        visitStartTime  visitNumber           visitTime  weekday  month  year  \\\n",
       "903648      1483554750            1 2017-01-04 18:32:30        2      1  2017   \n",
       "903649      1483543798            1 2017-01-04 15:29:58        2      1  2017   \n",
       "903650      1483526434            1 2017-01-04 10:40:34        2      1  2017   \n",
       "903651      1483592864            1 2017-01-05 05:07:44        3      1  2017   \n",
       "903652      1483574474            1 2017-01-05 00:01:14        3      1  2017   \n",
       "\n",
       "        hour  trans  \n",
       "903648    18  False  \n",
       "903649    15  False  \n",
       "903650    10  False  \n",
       "903651     5  False  \n",
       "903652     0  False  "
      ]
     },
     "execution_count": 78,
     "metadata": {},
     "output_type": "execute_result"
    }
   ],
   "source": [
    "data_time.tail()"
   ]
  },
  {
   "cell_type": "markdown",
   "metadata": {},
   "source": [
    "- **visitStartTime** is defined as POSIX time in Google Analytics schema, which means number of seconds since epoch. BigQuery TIMESTAMP is encoded as number of microseconds since epoch. \n",
    "- 'The timestamp (expressed as POSIX time)' and as such it is expressed in UTC.       \n",
    "          \n",
    "- On the other hand **date** (or ga:date to be more specific) comes from Google Analytics and it is expressed on the timezone that the GA administrator has configured in the specific view's settings. \n",
    "- In layman terms, it is a property of the website, not the client/web browser and it should be consistent in all rows if they came from the same view irrespectively of the timezone of the visitor.   \n",
    "- That being said, and knowing that the data come from Google Merchandise Store which resides in California (which is UTC -7), every session started between 00:00 and 07:00 it is accounted in the previous day \"date wise\" and to the next day \"visitStartTime wise\"."
   ]
  },
  {
   "cell_type": "code",
   "execution_count": 79,
   "metadata": {},
   "outputs": [
    {
     "name": "stderr",
     "output_type": "stream",
     "text": [
      "/anaconda3/lib/python3.6/site-packages/pandas/core/indexing.py:543: SettingWithCopyWarning: \n",
      "A value is trying to be set on a copy of a slice from a DataFrame.\n",
      "Try using .loc[row_indexer,col_indexer] = value instead\n",
      "\n",
      "See the caveats in the documentation: http://pandas.pydata.org/pandas-docs/stable/indexing.html#indexing-view-versus-copy\n",
      "  self.obj[item] = s\n"
     ]
    }
   ],
   "source": [
    "# why warning\n",
    "data_time.loc[:,'visitTime'] = pd.to_datetime(\n",
    "    data_time.loc[:,'visitStartTime'], unit='s')"
   ]
  },
  {
   "cell_type": "code",
   "execution_count": 80,
   "metadata": {},
   "outputs": [
    {
     "data": {
      "text/html": [
       "<div>\n",
       "<style scoped>\n",
       "    .dataframe tbody tr th:only-of-type {\n",
       "        vertical-align: middle;\n",
       "    }\n",
       "\n",
       "    .dataframe tbody tr th {\n",
       "        vertical-align: top;\n",
       "    }\n",
       "\n",
       "    .dataframe thead th {\n",
       "        text-align: right;\n",
       "    }\n",
       "</style>\n",
       "<table border=\"1\" class=\"dataframe\">\n",
       "  <thead>\n",
       "    <tr style=\"text-align: right;\">\n",
       "      <th></th>\n",
       "      <th>visitTime</th>\n",
       "      <th>date</th>\n",
       "    </tr>\n",
       "  </thead>\n",
       "  <tbody>\n",
       "    <tr>\n",
       "      <th>0</th>\n",
       "      <td>2016-09-02 15:33:05</td>\n",
       "      <td>20160902</td>\n",
       "    </tr>\n",
       "    <tr>\n",
       "      <th>1</th>\n",
       "      <td>2016-09-03 05:22:27</td>\n",
       "      <td>20160902</td>\n",
       "    </tr>\n",
       "    <tr>\n",
       "      <th>2</th>\n",
       "      <td>2016-09-03 01:16:26</td>\n",
       "      <td>20160902</td>\n",
       "    </tr>\n",
       "    <tr>\n",
       "      <th>3</th>\n",
       "      <td>2016-09-03 05:40:13</td>\n",
       "      <td>20160902</td>\n",
       "    </tr>\n",
       "    <tr>\n",
       "      <th>4</th>\n",
       "      <td>2016-09-02 13:23:20</td>\n",
       "      <td>20160902</td>\n",
       "    </tr>\n",
       "  </tbody>\n",
       "</table>\n",
       "</div>"
      ],
      "text/plain": [
       "            visitTime      date\n",
       "0 2016-09-02 15:33:05  20160902\n",
       "1 2016-09-03 05:22:27  20160902\n",
       "2 2016-09-03 01:16:26  20160902\n",
       "3 2016-09-03 05:40:13  20160902\n",
       "4 2016-09-02 13:23:20  20160902"
      ]
     },
     "execution_count": 80,
     "metadata": {},
     "output_type": "execute_result"
    }
   ],
   "source": [
    "data_time[['visitTime','date']].head()"
   ]
  },
  {
   "cell_type": "code",
   "execution_count": 81,
   "metadata": {},
   "outputs": [
    {
     "name": "stderr",
     "output_type": "stream",
     "text": [
      "/anaconda3/lib/python3.6/site-packages/ipykernel_launcher.py:2: SettingWithCopyWarning: \n",
      "A value is trying to be set on a copy of a slice from a DataFrame.\n",
      "Try using .loc[row_indexer,col_indexer] = value instead\n",
      "\n",
      "See the caveats in the documentation: http://pandas.pydata.org/pandas-docs/stable/indexing.html#indexing-view-versus-copy\n",
      "  \n",
      "/anaconda3/lib/python3.6/site-packages/ipykernel_launcher.py:3: SettingWithCopyWarning: \n",
      "A value is trying to be set on a copy of a slice from a DataFrame.\n",
      "Try using .loc[row_indexer,col_indexer] = value instead\n",
      "\n",
      "See the caveats in the documentation: http://pandas.pydata.org/pandas-docs/stable/indexing.html#indexing-view-versus-copy\n",
      "  This is separate from the ipykernel package so we can avoid doing imports until\n",
      "/anaconda3/lib/python3.6/site-packages/ipykernel_launcher.py:4: SettingWithCopyWarning: \n",
      "A value is trying to be set on a copy of a slice from a DataFrame.\n",
      "Try using .loc[row_indexer,col_indexer] = value instead\n",
      "\n",
      "See the caveats in the documentation: http://pandas.pydata.org/pandas-docs/stable/indexing.html#indexing-view-versus-copy\n",
      "  after removing the cwd from sys.path.\n",
      "/anaconda3/lib/python3.6/site-packages/ipykernel_launcher.py:5: SettingWithCopyWarning: \n",
      "A value is trying to be set on a copy of a slice from a DataFrame.\n",
      "Try using .loc[row_indexer,col_indexer] = value instead\n",
      "\n",
      "See the caveats in the documentation: http://pandas.pydata.org/pandas-docs/stable/indexing.html#indexing-view-versus-copy\n",
      "  \"\"\"\n"
     ]
    }
   ],
   "source": [
    "# choose to use visitStarTime and extract weekday, month, year, hour\n",
    "data_time['weekday'] = data_time['visitTime'].dt.weekday\n",
    "data_time['month'] = data_time['visitTime'].dt.month\n",
    "data_time['year'] = data_time['visitTime'].dt.year\n",
    "data_time['hour'] = data_time['visitTime'].dt.hour"
   ]
  },
  {
   "cell_type": "code",
   "execution_count": 82,
   "metadata": {},
   "outputs": [
    {
     "data": {
      "text/html": [
       "<div>\n",
       "<style scoped>\n",
       "    .dataframe tbody tr th:only-of-type {\n",
       "        vertical-align: middle;\n",
       "    }\n",
       "\n",
       "    .dataframe tbody tr th {\n",
       "        vertical-align: top;\n",
       "    }\n",
       "\n",
       "    .dataframe thead th {\n",
       "        text-align: right;\n",
       "    }\n",
       "</style>\n",
       "<table border=\"1\" class=\"dataframe\">\n",
       "  <thead>\n",
       "    <tr style=\"text-align: right;\">\n",
       "      <th></th>\n",
       "      <th>year</th>\n",
       "      <th>month</th>\n",
       "      <th>weekday</th>\n",
       "      <th>hour</th>\n",
       "    </tr>\n",
       "  </thead>\n",
       "  <tbody>\n",
       "    <tr>\n",
       "      <th>0</th>\n",
       "      <td>2016</td>\n",
       "      <td>9</td>\n",
       "      <td>4</td>\n",
       "      <td>15</td>\n",
       "    </tr>\n",
       "    <tr>\n",
       "      <th>1</th>\n",
       "      <td>2016</td>\n",
       "      <td>9</td>\n",
       "      <td>5</td>\n",
       "      <td>5</td>\n",
       "    </tr>\n",
       "    <tr>\n",
       "      <th>2</th>\n",
       "      <td>2016</td>\n",
       "      <td>9</td>\n",
       "      <td>5</td>\n",
       "      <td>1</td>\n",
       "    </tr>\n",
       "    <tr>\n",
       "      <th>3</th>\n",
       "      <td>2016</td>\n",
       "      <td>9</td>\n",
       "      <td>5</td>\n",
       "      <td>5</td>\n",
       "    </tr>\n",
       "    <tr>\n",
       "      <th>4</th>\n",
       "      <td>2016</td>\n",
       "      <td>9</td>\n",
       "      <td>4</td>\n",
       "      <td>13</td>\n",
       "    </tr>\n",
       "    <tr>\n",
       "      <th>5</th>\n",
       "      <td>2016</td>\n",
       "      <td>9</td>\n",
       "      <td>4</td>\n",
       "      <td>9</td>\n",
       "    </tr>\n",
       "    <tr>\n",
       "      <th>6</th>\n",
       "      <td>2016</td>\n",
       "      <td>9</td>\n",
       "      <td>4</td>\n",
       "      <td>11</td>\n",
       "    </tr>\n",
       "    <tr>\n",
       "      <th>7</th>\n",
       "      <td>2016</td>\n",
       "      <td>9</td>\n",
       "      <td>4</td>\n",
       "      <td>10</td>\n",
       "    </tr>\n",
       "    <tr>\n",
       "      <th>8</th>\n",
       "      <td>2016</td>\n",
       "      <td>9</td>\n",
       "      <td>4</td>\n",
       "      <td>8</td>\n",
       "    </tr>\n",
       "    <tr>\n",
       "      <th>9</th>\n",
       "      <td>2016</td>\n",
       "      <td>9</td>\n",
       "      <td>4</td>\n",
       "      <td>10</td>\n",
       "    </tr>\n",
       "  </tbody>\n",
       "</table>\n",
       "</div>"
      ],
      "text/plain": [
       "   year  month  weekday  hour\n",
       "0  2016      9        4    15\n",
       "1  2016      9        5     5\n",
       "2  2016      9        5     1\n",
       "3  2016      9        5     5\n",
       "4  2016      9        4    13\n",
       "5  2016      9        4     9\n",
       "6  2016      9        4    11\n",
       "7  2016      9        4    10\n",
       "8  2016      9        4     8\n",
       "9  2016      9        4    10"
      ]
     },
     "execution_count": 82,
     "metadata": {},
     "output_type": "execute_result"
    }
   ],
   "source": [
    "data_time[['year','month', 'weekday', 'hour']].head(10)"
   ]
  },
  {
   "cell_type": "code",
   "execution_count": 83,
   "metadata": {},
   "outputs": [
    {
     "data": {
      "text/html": [
       "<div>\n",
       "<style scoped>\n",
       "    .dataframe tbody tr th:only-of-type {\n",
       "        vertical-align: middle;\n",
       "    }\n",
       "\n",
       "    .dataframe tbody tr th {\n",
       "        vertical-align: top;\n",
       "    }\n",
       "\n",
       "    .dataframe thead th {\n",
       "        text-align: right;\n",
       "    }\n",
       "</style>\n",
       "<table border=\"1\" class=\"dataframe\">\n",
       "  <thead>\n",
       "    <tr style=\"text-align: right;\">\n",
       "      <th></th>\n",
       "      <th>transactionRevenue</th>\n",
       "      <th>visitId</th>\n",
       "      <th>date</th>\n",
       "      <th>visitStartTime</th>\n",
       "      <th>visitNumber</th>\n",
       "      <th>weekday</th>\n",
       "      <th>month</th>\n",
       "      <th>year</th>\n",
       "      <th>hour</th>\n",
       "    </tr>\n",
       "  </thead>\n",
       "  <tbody>\n",
       "    <tr>\n",
       "      <th>count</th>\n",
       "      <td>1.151500e+04</td>\n",
       "      <td>9.036530e+05</td>\n",
       "      <td>9.036530e+05</td>\n",
       "      <td>9.036530e+05</td>\n",
       "      <td>903653.000000</td>\n",
       "      <td>903653.000000</td>\n",
       "      <td>903653.000000</td>\n",
       "      <td>903653.000000</td>\n",
       "      <td>903653.000000</td>\n",
       "    </tr>\n",
       "    <tr>\n",
       "      <th>mean</th>\n",
       "      <td>1.337448e+08</td>\n",
       "      <td>1.485007e+09</td>\n",
       "      <td>2.016589e+07</td>\n",
       "      <td>1.485007e+09</td>\n",
       "      <td>2.264897</td>\n",
       "      <td>2.751471</td>\n",
       "      <td>6.991924</td>\n",
       "      <td>2016.517420</td>\n",
       "      <td>12.529160</td>\n",
       "    </tr>\n",
       "    <tr>\n",
       "      <th>std</th>\n",
       "      <td>4.482852e+08</td>\n",
       "      <td>9.022124e+06</td>\n",
       "      <td>4.697698e+03</td>\n",
       "      <td>9.022124e+06</td>\n",
       "      <td>9.283735</td>\n",
       "      <td>1.908982</td>\n",
       "      <td>3.485642</td>\n",
       "      <td>0.499697</td>\n",
       "      <td>6.825449</td>\n",
       "    </tr>\n",
       "    <tr>\n",
       "      <th>min</th>\n",
       "      <td>1.000000e+04</td>\n",
       "      <td>1.470035e+09</td>\n",
       "      <td>2.016080e+07</td>\n",
       "      <td>1.470035e+09</td>\n",
       "      <td>1.000000</td>\n",
       "      <td>0.000000</td>\n",
       "      <td>1.000000</td>\n",
       "      <td>2016.000000</td>\n",
       "      <td>0.000000</td>\n",
       "    </tr>\n",
       "    <tr>\n",
       "      <th>25%</th>\n",
       "      <td>2.493000e+07</td>\n",
       "      <td>1.477561e+09</td>\n",
       "      <td>2.016103e+07</td>\n",
       "      <td>1.477561e+09</td>\n",
       "      <td>1.000000</td>\n",
       "      <td>1.000000</td>\n",
       "      <td>4.000000</td>\n",
       "      <td>2016.000000</td>\n",
       "      <td>7.000000</td>\n",
       "    </tr>\n",
       "    <tr>\n",
       "      <th>50%</th>\n",
       "      <td>4.945000e+07</td>\n",
       "      <td>1.483949e+09</td>\n",
       "      <td>2.017011e+07</td>\n",
       "      <td>1.483949e+09</td>\n",
       "      <td>1.000000</td>\n",
       "      <td>3.000000</td>\n",
       "      <td>7.000000</td>\n",
       "      <td>2017.000000</td>\n",
       "      <td>14.000000</td>\n",
       "    </tr>\n",
       "    <tr>\n",
       "      <th>75%</th>\n",
       "      <td>1.076550e+08</td>\n",
       "      <td>1.492759e+09</td>\n",
       "      <td>2.017042e+07</td>\n",
       "      <td>1.492759e+09</td>\n",
       "      <td>1.000000</td>\n",
       "      <td>4.000000</td>\n",
       "      <td>10.000000</td>\n",
       "      <td>2017.000000</td>\n",
       "      <td>18.000000</td>\n",
       "    </tr>\n",
       "    <tr>\n",
       "      <th>max</th>\n",
       "      <td>2.312950e+10</td>\n",
       "      <td>1.501657e+09</td>\n",
       "      <td>2.017080e+07</td>\n",
       "      <td>1.501657e+09</td>\n",
       "      <td>395.000000</td>\n",
       "      <td>6.000000</td>\n",
       "      <td>12.000000</td>\n",
       "      <td>2017.000000</td>\n",
       "      <td>23.000000</td>\n",
       "    </tr>\n",
       "  </tbody>\n",
       "</table>\n",
       "</div>"
      ],
      "text/plain": [
       "       transactionRevenue       visitId          date  visitStartTime  \\\n",
       "count        1.151500e+04  9.036530e+05  9.036530e+05    9.036530e+05   \n",
       "mean         1.337448e+08  1.485007e+09  2.016589e+07    1.485007e+09   \n",
       "std          4.482852e+08  9.022124e+06  4.697698e+03    9.022124e+06   \n",
       "min          1.000000e+04  1.470035e+09  2.016080e+07    1.470035e+09   \n",
       "25%          2.493000e+07  1.477561e+09  2.016103e+07    1.477561e+09   \n",
       "50%          4.945000e+07  1.483949e+09  2.017011e+07    1.483949e+09   \n",
       "75%          1.076550e+08  1.492759e+09  2.017042e+07    1.492759e+09   \n",
       "max          2.312950e+10  1.501657e+09  2.017080e+07    1.501657e+09   \n",
       "\n",
       "         visitNumber        weekday          month           year  \\\n",
       "count  903653.000000  903653.000000  903653.000000  903653.000000   \n",
       "mean        2.264897       2.751471       6.991924    2016.517420   \n",
       "std         9.283735       1.908982       3.485642       0.499697   \n",
       "min         1.000000       0.000000       1.000000    2016.000000   \n",
       "25%         1.000000       1.000000       4.000000    2016.000000   \n",
       "50%         1.000000       3.000000       7.000000    2017.000000   \n",
       "75%         1.000000       4.000000      10.000000    2017.000000   \n",
       "max       395.000000       6.000000      12.000000    2017.000000   \n",
       "\n",
       "                hour  \n",
       "count  903653.000000  \n",
       "mean       12.529160  \n",
       "std         6.825449  \n",
       "min         0.000000  \n",
       "25%         7.000000  \n",
       "50%        14.000000  \n",
       "75%        18.000000  \n",
       "max        23.000000  "
      ]
     },
     "execution_count": 83,
     "metadata": {},
     "output_type": "execute_result"
    }
   ],
   "source": [
    "data_time.describe()"
   ]
  },
  {
   "cell_type": "code",
   "execution_count": 84,
   "metadata": {},
   "outputs": [
    {
     "data": {
      "text/html": [
       "<div>\n",
       "<style scoped>\n",
       "    .dataframe tbody tr th:only-of-type {\n",
       "        vertical-align: middle;\n",
       "    }\n",
       "\n",
       "    .dataframe tbody tr th {\n",
       "        vertical-align: top;\n",
       "    }\n",
       "\n",
       "    .dataframe thead tr th {\n",
       "        text-align: left;\n",
       "    }\n",
       "\n",
       "    .dataframe thead tr:last-of-type th {\n",
       "        text-align: right;\n",
       "    }\n",
       "</style>\n",
       "<table border=\"1\" class=\"dataframe\">\n",
       "  <thead>\n",
       "    <tr>\n",
       "      <th></th>\n",
       "      <th colspan=\"2\" halign=\"left\">transactionRevenue</th>\n",
       "      <th colspan=\"2\" halign=\"left\">visitId</th>\n",
       "      <th colspan=\"2\" halign=\"left\">date</th>\n",
       "      <th colspan=\"2\" halign=\"left\">visitStartTime</th>\n",
       "      <th colspan=\"2\" halign=\"left\">visitNumber</th>\n",
       "      <th colspan=\"2\" halign=\"left\">weekday</th>\n",
       "      <th colspan=\"2\" halign=\"left\">month</th>\n",
       "      <th colspan=\"2\" halign=\"left\">year</th>\n",
       "      <th colspan=\"2\" halign=\"left\">hour</th>\n",
       "    </tr>\n",
       "    <tr>\n",
       "      <th></th>\n",
       "      <th>mean</th>\n",
       "      <th>count</th>\n",
       "      <th>mean</th>\n",
       "      <th>count</th>\n",
       "      <th>mean</th>\n",
       "      <th>count</th>\n",
       "      <th>mean</th>\n",
       "      <th>count</th>\n",
       "      <th>mean</th>\n",
       "      <th>count</th>\n",
       "      <th>mean</th>\n",
       "      <th>count</th>\n",
       "      <th>mean</th>\n",
       "      <th>count</th>\n",
       "      <th>mean</th>\n",
       "      <th>count</th>\n",
       "      <th>mean</th>\n",
       "      <th>count</th>\n",
       "    </tr>\n",
       "    <tr>\n",
       "      <th>trans</th>\n",
       "      <th></th>\n",
       "      <th></th>\n",
       "      <th></th>\n",
       "      <th></th>\n",
       "      <th></th>\n",
       "      <th></th>\n",
       "      <th></th>\n",
       "      <th></th>\n",
       "      <th></th>\n",
       "      <th></th>\n",
       "      <th></th>\n",
       "      <th></th>\n",
       "      <th></th>\n",
       "      <th></th>\n",
       "      <th></th>\n",
       "      <th></th>\n",
       "      <th></th>\n",
       "      <th></th>\n",
       "    </tr>\n",
       "  </thead>\n",
       "  <tbody>\n",
       "    <tr>\n",
       "      <th>False</th>\n",
       "      <td>NaN</td>\n",
       "      <td>0</td>\n",
       "      <td>1.484996e+09</td>\n",
       "      <td>892138</td>\n",
       "      <td>2.016588e+07</td>\n",
       "      <td>892138</td>\n",
       "      <td>1.484996e+09</td>\n",
       "      <td>892138</td>\n",
       "      <td>2.241428</td>\n",
       "      <td>892138</td>\n",
       "      <td>2.754684</td>\n",
       "      <td>892138</td>\n",
       "      <td>6.992962</td>\n",
       "      <td>892138</td>\n",
       "      <td>2016.516976</td>\n",
       "      <td>892138</td>\n",
       "      <td>12.508535</td>\n",
       "      <td>892138</td>\n",
       "    </tr>\n",
       "    <tr>\n",
       "      <th>True</th>\n",
       "      <td>1.337448e+08</td>\n",
       "      <td>11515</td>\n",
       "      <td>1.485876e+09</td>\n",
       "      <td>11515</td>\n",
       "      <td>2.016622e+07</td>\n",
       "      <td>11515</td>\n",
       "      <td>1.485876e+09</td>\n",
       "      <td>11515</td>\n",
       "      <td>4.083196</td>\n",
       "      <td>11515</td>\n",
       "      <td>2.502562</td>\n",
       "      <td>11515</td>\n",
       "      <td>6.911507</td>\n",
       "      <td>11515</td>\n",
       "      <td>2016.551802</td>\n",
       "      <td>11515</td>\n",
       "      <td>14.127139</td>\n",
       "      <td>11515</td>\n",
       "    </tr>\n",
       "  </tbody>\n",
       "</table>\n",
       "</div>"
      ],
      "text/plain": [
       "      transactionRevenue              visitId                  date          \\\n",
       "                    mean  count          mean   count          mean   count   \n",
       "trans                                                                         \n",
       "False                NaN      0  1.484996e+09  892138  2.016588e+07  892138   \n",
       "True        1.337448e+08  11515  1.485876e+09   11515  2.016622e+07   11515   \n",
       "\n",
       "      visitStartTime         visitNumber           weekday             month  \\\n",
       "                mean   count        mean   count      mean   count      mean   \n",
       "trans                                                                          \n",
       "False   1.484996e+09  892138    2.241428  892138  2.754684  892138  6.992962   \n",
       "True    1.485876e+09   11515    4.083196   11515  2.502562   11515  6.911507   \n",
       "\n",
       "                      year               hour          \n",
       "        count         mean   count       mean   count  \n",
       "trans                                                  \n",
       "False  892138  2016.516976  892138  12.508535  892138  \n",
       "True    11515  2016.551802   11515  14.127139   11515  "
      ]
     },
     "execution_count": 84,
     "metadata": {},
     "output_type": "execute_result"
    }
   ],
   "source": [
    "data_time.groupby('trans').agg(['mean', 'count'])"
   ]
  },
  {
   "cell_type": "markdown",
   "metadata": {},
   "source": [
    "## for hour"
   ]
  },
  {
   "cell_type": "code",
   "execution_count": 85,
   "metadata": {},
   "outputs": [],
   "source": [
    "data_t_trans = data_time.loc[data_time.trans == 1,:]\n",
    "data_t_ntrans = data_time.loc[data_time.trans == 0,:]"
   ]
  },
  {
   "cell_type": "code",
   "execution_count": 95,
   "metadata": {},
   "outputs": [
    {
     "data": {
      "text/plain": [
       "[<matplotlib.lines.Line2D at 0x111eec8d0>]"
      ]
     },
     "execution_count": 95,
     "metadata": {},
     "output_type": "execute_result"
    },
    {
     "data": {
      "image/png": "[encoded data removed]",
      "text/plain": [
       "<Figure size 432x288 with 1 Axes>"
      ]
     },
     "metadata": {},
     "output_type": "display_data"
    }
   ],
   "source": [
    "# plot of sum of expense\n",
    "plt.plot(\n",
    "    data_t_trans[['transactionRevenue','hour']].groupby('hour').agg('mean'))"
   ]
  },
  {
   "cell_type": "code",
   "execution_count": 69,
   "metadata": {},
   "outputs": [
    {
     "data": {
      "text/plain": [
       "[<matplotlib.lines.Line2D at 0x11146ab70>]"
      ]
     },
     "execution_count": 69,
     "metadata": {},
     "output_type": "execute_result"
    },
    {
     "data": {
      "image/png": "[encoded data removed]",
      "text/plain": [
       "<Figure size 432x288 with 1 Axes>"
      ]
     },
     "metadata": {},
     "output_type": "display_data"
    }
   ],
   "source": [
    "plt.plot(data_t_trans.groupby('hour').size())"
   ]
  },
  {
   "cell_type": "code",
   "execution_count": 70,
   "metadata": {},
   "outputs": [
    {
     "data": {
      "text/plain": [
       "[<matplotlib.lines.Line2D at 0x1117c2160>]"
      ]
     },
     "execution_count": 70,
     "metadata": {},
     "output_type": "execute_result"
    },
    {
     "data": {
      "image/png": "[encoded data removed]",
      "text/plain": [
       "<Figure size 432x288 with 1 Axes>"
      ]
     },
     "metadata": {},
     "output_type": "display_data"
    }
   ],
   "source": [
    "plt.plot(data_t_ntrans.groupby('hour').size())"
   ]
  },
  {
   "cell_type": "markdown",
   "metadata": {},
   "source": [
    "- find that `hour` might be an interesting variable"
   ]
  },
  {
   "cell_type": "markdown",
   "metadata": {},
   "source": [
    "## for month"
   ]
  },
  {
   "cell_type": "code",
   "execution_count": 94,
   "metadata": {},
   "outputs": [
    {
     "data": {
      "text/plain": [
       "[<matplotlib.lines.Line2D at 0x111e32710>]"
      ]
     },
     "execution_count": 94,
     "metadata": {},
     "output_type": "execute_result"
    },
    {
     "data": {
      "image/png": "[encoded data removed]",
      "text/plain": [
       "<Figure size 432x288 with 1 Axes>"
      ]
     },
     "metadata": {},
     "output_type": "display_data"
    }
   ],
   "source": [
    "# revenue plot\n",
    "plt.plot(\n",
    "    data_t_trans[['transactionRevenue','month']].groupby('month').agg('mean'))"
   ]
  },
  {
   "cell_type": "code",
   "execution_count": 63,
   "metadata": {},
   "outputs": [
    {
     "data": {
      "text/plain": [
       "[<matplotlib.lines.Line2D at 0x1111942b0>]"
      ]
     },
     "execution_count": 63,
     "metadata": {},
     "output_type": "execute_result"
    },
    {
     "data": {
      "image/png": "[encoded data removed]",
      "text/plain": [
       "<Figure size 432x288 with 1 Axes>"
      ]
     },
     "metadata": {},
     "output_type": "display_data"
    }
   ],
   "source": [
    "plt.plot(data_t_trans.groupby('month').size())"
   ]
  },
  {
   "cell_type": "code",
   "execution_count": 71,
   "metadata": {},
   "outputs": [
    {
     "data": {
      "text/plain": [
       "[<matplotlib.lines.Line2D at 0x11186cb00>]"
      ]
     },
     "execution_count": 71,
     "metadata": {},
     "output_type": "execute_result"
    },
    {
     "data": {
      "image/png": "[encoded data removed]",
      "text/plain": [
       "<Figure size 432x288 with 1 Axes>"
      ]
     },
     "metadata": {},
     "output_type": "display_data"
    }
   ],
   "source": [
    "plt.plot(data_t_ntrans.groupby('month').size())"
   ]
  },
  {
   "cell_type": "markdown",
   "metadata": {},
   "source": [
    "- find that holidays might enhance people purchase and visits"
   ]
  },
  {
   "cell_type": "markdown",
   "metadata": {},
   "source": [
    "## for weekday"
   ]
  },
  {
   "cell_type": "code",
   "execution_count": 93,
   "metadata": {},
   "outputs": [
    {
     "data": {
      "text/plain": [
       "[<matplotlib.lines.Line2D at 0x111dcfeb8>]"
      ]
     },
     "execution_count": 93,
     "metadata": {},
     "output_type": "execute_result"
    },
    {
     "data": {
      "image/png": "[encoded data removed]",
      "text/plain": [
       "<Figure size 432x288 with 1 Axes>"
      ]
     },
     "metadata": {},
     "output_type": "display_data"
    }
   ],
   "source": [
    "# revenue plot\n",
    "plt.plot(\n",
    "    data_t_trans[['transactionRevenue','weekday']].groupby('weekday').agg('mean'))"
   ]
  },
  {
   "cell_type": "code",
   "execution_count": 61,
   "metadata": {},
   "outputs": [
    {
     "data": {
      "text/plain": [
       "[<matplotlib.lines.Line2D at 0x1101809b0>]"
      ]
     },
     "execution_count": 61,
     "metadata": {},
     "output_type": "execute_result"
    },
    {
     "data": {
      "image/png": "[encoded data removed]",
      "text/plain": [
       "<Figure size 432x288 with 1 Axes>"
      ]
     },
     "metadata": {},
     "output_type": "display_data"
    }
   ],
   "source": [
    "plt.plot(data_t_trans.groupby('weekday').size())"
   ]
  },
  {
   "cell_type": "code",
   "execution_count": 72,
   "metadata": {},
   "outputs": [
    {
     "data": {
      "text/plain": [
       "[<matplotlib.lines.Line2D at 0x111987dd8>]"
      ]
     },
     "execution_count": 72,
     "metadata": {},
     "output_type": "execute_result"
    },
    {
     "data": {
      "image/png": "[encoded data removed]",
      "text/plain": [
       "<Figure size 432x288 with 1 Axes>"
      ]
     },
     "metadata": {},
     "output_type": "display_data"
    }
   ],
   "source": [
    "plt.plot(data_t_ntrans.groupby('weekday').size())"
   ]
  },
  {
   "cell_type": "code",
   "execution_count": 131,
   "metadata": {},
   "outputs": [
    {
     "data": {
      "text/plain": [
       "[<matplotlib.lines.Line2D at 0x10fc24160>]"
      ]
     },
     "execution_count": 131,
     "metadata": {},
     "output_type": "execute_result"
    },
    {
     "data": {
      "image/png": "[encoded data removed]",
      "text/plain": [
       "<Figure size 432x288 with 1 Axes>"
      ]
     },
     "metadata": {},
     "output_type": "display_data"
    }
   ],
   "source": [
    "plt.plot(data_t_ntrans.groupby('year').size())"
   ]
  },
  {
   "cell_type": "markdown",
   "metadata": {},
   "source": [
    "- visit num must be very useful to predict whether they will spend money or not"
   ]
  },
  {
   "cell_type": "markdown",
   "metadata": {},
   "source": [
    "# EDA with device"
   ]
  },
  {
   "cell_type": "markdown",
   "metadata": {},
   "source": [
    "## Browser"
   ]
  },
  {
   "cell_type": "code",
   "execution_count": 97,
   "metadata": {},
   "outputs": [
    {
     "data": {
      "text/plain": [
       "browser\n",
       "Firefox              4.676247e+08\n",
       "Chrome               1.335946e+08\n",
       "Edge                 1.117753e+08\n",
       "Internet Explorer    7.573899e+07\n",
       "Safari               6.717626e+07\n",
       "Opera                4.307000e+07\n",
       "Amazon Silk          2.999000e+07\n",
       "Android Webview      1.914167e+07\n",
       "Safari (in-app)      1.281417e+07\n",
       "Name: transactionRevenue, dtype: float64"
      ]
     },
     "execution_count": 97,
     "metadata": {},
     "output_type": "execute_result"
    }
   ],
   "source": [
    "data_device[data_device['trans']==1].groupby('browser').mean()['transactionRevenue'].sort_values(ascending=False)"
   ]
  },
  {
   "cell_type": "code",
   "execution_count": 114,
   "metadata": {},
   "outputs": [
    {
     "data": {
      "text/plain": [
       "browser\n",
       "Chrome               0.085470\n",
       "Safari               0.025426\n",
       "Firefox              0.005167\n",
       "Internet Explorer    0.002699\n",
       "Edge                 0.001422\n",
       "dtype: float64"
      ]
     },
     "execution_count": 114,
     "metadata": {},
     "output_type": "execute_result"
    }
   ],
   "source": [
    "data_device[data_device['trans']==0].groupby('browser').size().sort_values(\n",
    "    ascending=False).head()/data_device[data_device['trans']==0].size"
   ]
  },
  {
   "cell_type": "code",
   "execution_count": 115,
   "metadata": {},
   "outputs": [
    {
     "data": {
      "text/plain": [
       "browser\n",
       "Chrome               1.450588e-03\n",
       "Safari               1.092880e-04\n",
       "Firefox              2.676155e-05\n",
       "Internet Explorer    1.527230e-05\n",
       "Edge                 8.126545e-06\n",
       "Safari (in-app)      1.681354e-06\n",
       "Android Webview      8.406771e-07\n",
       "Opera                7.005643e-07\n",
       "Amazon Silk          1.401129e-07\n",
       "dtype: float64"
      ]
     },
     "execution_count": 115,
     "metadata": {},
     "output_type": "execute_result"
    }
   ],
   "source": [
    "data_device[data_device['trans']==1].groupby('browser').size().sort_values(\n",
    "    ascending=False).head(10)/data_device[data_device['trans']==0].size"
   ]
  },
  {
   "cell_type": "code",
   "execution_count": 98,
   "metadata": {},
   "outputs": [
    {
     "data": {
      "text/plain": [
       "browser\n",
       "Chrome               1.383105e+12\n",
       "Firefox              8.931632e+10\n",
       "Safari               5.239748e+10\n",
       "Internet Explorer    8.255550e+09\n",
       "Edge                 6.482970e+09\n",
       "Opera                2.153500e+08\n",
       "Safari (in-app)      1.537700e+08\n",
       "Android Webview      1.148500e+08\n",
       "Amazon Silk          2.999000e+07\n",
       "Name: transactionRevenue, dtype: float64"
      ]
     },
     "execution_count": 98,
     "metadata": {},
     "output_type": "execute_result"
    }
   ],
   "source": [
    "data_device[data_device['trans']==1].groupby('browser').sum()['transactionRevenue'].sort_values(ascending=False)"
   ]
  },
  {
   "cell_type": "code",
   "execution_count": 104,
   "metadata": {},
   "outputs": [
    {
     "data": {
      "text/plain": [
       "browser\n",
       "Chrome               7.252969e+07\n",
       "Internet Explorer    4.406438e+07\n",
       "Safari               4.211858e+07\n",
       "Amazon Silk          2.999000e+07\n",
       "Firefox              2.323500e+07\n",
       "Name: transactionRevenue, dtype: float64"
      ]
     },
     "execution_count": 104,
     "metadata": {},
     "output_type": "execute_result"
    }
   ],
   "source": [
    "data_device[data_device['trans']==1 & (data_device['isMobile']==1)].groupby(\n",
    "    'browser').mean()['transactionRevenue'].sort_values(ascending=False).head()"
   ]
  },
  {
   "cell_type": "code",
   "execution_count": 116,
   "metadata": {},
   "outputs": [
    {
     "data": {
      "text/plain": [
       "browser\n",
       "Chrome               7.252969e+07\n",
       "Internet Explorer    4.406438e+07\n",
       "Safari               4.211858e+07\n",
       "Amazon Silk          2.999000e+07\n",
       "Firefox              2.323500e+07\n",
       "Name: transactionRevenue, dtype: float64"
      ]
     },
     "execution_count": 116,
     "metadata": {},
     "output_type": "execute_result"
    }
   ],
   "source": [
    "data_device[data_device['trans']==1 & (data_device['isMobile']==1)].groupby(\n",
    "    'browser').mean()['transactionRevenue'].sort_values(ascending=False).head()"
   ]
  },
  {
   "cell_type": "code",
   "execution_count": 119,
   "metadata": {},
   "outputs": [],
   "source": [
    "browser_chrome = data_device['browser']=='Chrome'"
   ]
  },
  {
   "cell_type": "markdown",
   "metadata": {},
   "source": [
    "## isMobile"
   ]
  },
  {
   "cell_type": "markdown",
   "metadata": {},
   "source": [
    "## operatingSystem"
   ]
  },
  {
   "cell_type": "code",
   "execution_count": 124,
   "metadata": {},
   "outputs": [],
   "source": [
    "system_google = (data_device['operatingSystem']=='Android')|(data_device['operatingSystem']=='Chrome OS')"
   ]
  }
 ],
 "metadata": {
  "kernelspec": {
   "display_name": "Python 3",
   "language": "python",
   "name": "python3"
  },
  "language_info": {
   "codemirror_mode": {
    "name": "ipython",
    "version": 3
   },
   "file_extension": ".py",
   "mimetype": "text/x-python",
   "name": "python",
   "nbconvert_exporter": "python",
   "pygments_lexer": "ipython3",
   "version": "3.6.5"
  }
 },
 "nbformat": 4,
 "nbformat_minor": 2
}
