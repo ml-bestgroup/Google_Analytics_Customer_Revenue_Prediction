{
 "cells": [
  {
   "cell_type": "markdown",
   "metadata": {
    "inputHidden": false,
    "outputHidden": false,
    "slideshow": {
     "slide_type": "slide"
    }
   },
   "source": [
    "## MODELING  \n",
    "1. Regression model as a base line.  \n",
    "2. Stacking a (good) classification model and regression model"
   ]
  },
  {
   "cell_type": "markdown",
   "metadata": {},
   "source": [
    "### Regression Model"
   ]
  },
  {
   "cell_type": "markdown",
   "metadata": {},
   "source": [
    "(a table showing Regression model RMSE)"
   ]
  },
  {
   "cell_type": "markdown",
   "metadata": {
    "inputHidden": false,
    "outputHidden": false
   },
   "source": [
    "### Stacking Model: classfier + regressor"
   ]
  },
  {
   "cell_type": "markdown",
   "metadata": {},
   "source": [
    "####  (get a sense of classfication model performance)\n",
    "(a table comparing precision&recall for 2 levels)"
   ]
  },
  {
   "cell_type": "markdown",
   "metadata": {},
   "source": [
    "#### Custom Estimator 1: Stacking Regressor  (the best) \n",
    "Step1: fit a classifier with X_train,   \n",
    "Step2: classifier's prediction, as a new feature, was appended to X_train -> X_train_new    \n",
    "Step3: fit a regressor with __X_train_new__      \n",
    "Prediction: regressor prediction, and convert all the negative values to zero's  "
   ]
  },
  {
   "cell_type": "markdown",
   "metadata": {},
   "source": [
    "#### Custom Estimator 2: TrustClassfierRegressor \n",
    "Step1: fit a classifier with X_train   \n",
    "Step2: fit a regressor with X_train  \n",
    "Prediction: classfier prediction * regressor predicion"
   ]
  },
  {
   "cell_type": "markdown",
   "metadata": {},
   "source": [
    "#### Custom Estimator 3: TrustClassfierRegressor_v2\n",
    "Step1: fit a classifier with X_train  \n",
    "Step2: fit a regressor with X_train where transaction_revenue>0   \n",
    "Prediction: classfier prediction * regressor predicion"
   ]
  },
  {
   "cell_type": "markdown",
   "metadata": {},
   "source": [
    "Searching Space:\n",
    "- stacking estimator: 1 v.s 2 v.s 3\n",
    "- classification algorithm:\n",
    "    - logistic regression\n",
    "        - xxx\n",
    "    - SVC\n",
    "        - kernels\n",
    "    - random forest classification\n",
    "        - n_estimators\n",
    "- regression algorithm\n",
    "    - linear regression\n",
    "    -  random forest regressor\n",
    "- resampling training set:\n",
    "    - no resampling    \n",
    "    - downsampled majority class : minority = 1:1  \n",
    "    - upsampled minority class : majority = 1:1  \n",
    "    "
   ]
  },
  {
   "cell_type": "markdown",
   "metadata": {},
   "source": [
    "#### the Best Stacking Model\n",
    "\n"
   ]
  },
  {
   "cell_type": "markdown",
   "metadata": {},
   "source": [
    "__best parameters:__   \n",
    "No resampling  \n",
    "Stacking Regressor with   \n",
    "    - BaggingClassifier (of SVC)  \n",
    "    - RandomForestRegressor\n"
   ]
  },
  {
   "cell_type": "code",
   "execution_count": null,
   "metadata": {
    "inputHidden": false,
    "outputHidden": false
   },
   "outputs": [],
   "source": [
    "class StackedRegressor(BaseEstimator, ClassifierMixin):  \n",
    "    def __init__(self, classifier, regressor):\n",
    "        self.classifier = classifier\n",
    "        self.regressor = regressor\n",
    "        \n",
    "    def fit(self, X, y):\n",
    "        class_labels = pd.Series(np.where(y>0,1,0))\n",
    "        \n",
    "        self.classifier.fit(X,class_labels)\n",
    "\n",
    "        pred_class_labels = self.classifier.predict(X)\n",
    "        pred_class_labels_df = pd.DataFrame(\n",
    "            pred_class_labels, columns = ['pred_class_label'])\n",
    "        \n",
    "        X = X.reset_index(drop=True)\n",
    "        pred_class_labels_df = pred_class_labels_df.reset_index(drop=True)\n",
    "        X = X.join(pred_class_labels_df)\n",
    "        self.regressor.fit(X,y)\n",
    "\n",
    "        print(self.classifier.__class__.__name__, \",\", \n",
    "              self.regressor.__class__.__name__)\n",
    "        \n",
    "    def predict(self, X):\n",
    "        \n",
    "        class_predict = self.classifier.predict(X)\n",
    "        class_predict_df = pd.DataFrame(\n",
    "             class_predict, columns = ['pred_class_label'])\n",
    "        X = X.reset_index(drop=True)\n",
    "        class_predict_df = class_predict_df.reset_index(drop=True)\n",
    "        X = X.join(class_predict_df)\n",
    "        regressor_predict = self.regressor.predict(X)\n",
    "        regressor_predict = np.where(regressor_predict<0,0,regressor_predict)\n",
    "        \n",
    "        return regressor_predict\n",
    "    \n",
    "    def score(self, X, y):\n",
    "        return np.sqrt(np.mean((y - self.predict(X))**2))\n",
    "    \n",
    "    def clf_score(self, X, y):\n",
    "        y_true = pd.Series(np.where(y>0,1,0))\n",
    "        y_pred = self.classifier.predict(X)\n",
    "        return precision_recall_fscore_support(y_true, y_pred, \n",
    "                                               average='macro')"
   ]
  },
  {
   "cell_type": "code",
   "execution_count": 2,
   "metadata": {
    "inputHidden": false,
    "outputHidden": false
   },
   "outputs": [
    {
     "ename": "NameError",
     "evalue": "name 'BaggingClassifier' is not defined",
     "output_type": "error",
     "traceback": [
      "\u001b[0;31m---------------------------------------------------------------------------\u001b[0m",
      "\u001b[0;31mNameError\u001b[0m                                 Traceback (most recent call last)",
      "\u001b[0;32m<ipython-input-2-6992f59641a3>\u001b[0m in \u001b[0;36m<module>\u001b[0;34m()\u001b[0m\n\u001b[1;32m      1\u001b[0m \u001b[0;31m# classifier\u001b[0m\u001b[0;34m\u001b[0m\u001b[0;34m\u001b[0m\u001b[0m\n\u001b[0;32m----> 2\u001b[0;31m BaggingClassifier(\n\u001b[0m\u001b[1;32m      3\u001b[0m     \u001b[0mbase_estimator\u001b[0m\u001b[0;34m=\u001b[0m\u001b[0mSVC\u001b[0m\u001b[0;34m(\u001b[0m\u001b[0mtol\u001b[0m\u001b[0;34m=\u001b[0m\u001b[0;36m0.01\u001b[0m\u001b[0;34m,\u001b[0m \u001b[0mkernel\u001b[0m \u001b[0;34m=\u001b[0m \u001b[0;34m'poly'\u001b[0m\u001b[0;34m,\u001b[0m \u001b[0mverbose\u001b[0m\u001b[0;34m=\u001b[0m\u001b[0;32mFalse\u001b[0m\u001b[0;34m)\u001b[0m\u001b[0;34m,\u001b[0m\u001b[0;34m\u001b[0m\u001b[0m\n\u001b[1;32m      4\u001b[0m     \u001b[0mbootstrap\u001b[0m\u001b[0;34m=\u001b[0m\u001b[0;32mTrue\u001b[0m\u001b[0;34m,\u001b[0m \u001b[0mbootstrap_features\u001b[0m\u001b[0;34m=\u001b[0m\u001b[0;32mFalse\u001b[0m\u001b[0;34m,\u001b[0m \u001b[0mmax_features\u001b[0m\u001b[0;34m=\u001b[0m\u001b[0;36m1.0\u001b[0m\u001b[0;34m,\u001b[0m\u001b[0;34m\u001b[0m\u001b[0m\n\u001b[1;32m      5\u001b[0m          max_samples=0.01, n_estimators=100)\n",
      "\u001b[0;31mNameError\u001b[0m: name 'BaggingClassifier' is not defined"
     ]
    }
   ],
   "source": [
    "# classifier\n",
    "best_classifier = BaggingClassifier(\n",
    "    base_estimator=SVC(tol=0.01, kernel = 'poly', verbose=False),\n",
    "    bootstrap=True, bootstrap_features=False, max_features=1.0,\n",
    "         max_samples=0.01, n_estimators=100)\n",
    "# regressor\n",
    "best_regressor = RandomForestRegressor(\n",
    "    n_estimators = 100, \n",
    "    min_samples_leaf = 15\n",
    ")"
   ]
  },
  {
   "cell_type": "markdown",
   "metadata": {},
   "source": [
    "#### Feature Importance"
   ]
  },
  {
   "cell_type": "markdown",
   "metadata": {
    "inputHidden": false,
    "outputHidden": false
   },
   "source": [
    "### Reflection\n",
    "On user level, why stacking model did not have significant improvement compared to regression models?"
   ]
  },
  {
   "cell_type": "code",
   "execution_count": null,
   "metadata": {},
   "outputs": [],
   "source": []
  }
 ],
 "metadata": {
  "celltoolbar": "Slideshow",
  "kernel_info": {
   "name": "python3"
  },
  "kernelspec": {
   "display_name": "Python 3",
   "language": "python",
   "name": "python3"
  },
  "language_info": {
   "codemirror_mode": {
    "name": "ipython",
    "version": 3
   },
   "file_extension": ".py",
   "mimetype": "text/x-python",
   "name": "python",
   "nbconvert_exporter": "python",
   "pygments_lexer": "ipython3",
   "version": "3.7.0"
  },
  "nteract": {
   "version": "0.12.3"
  }
 },
 "nbformat": 4,
 "nbformat_minor": 4
}
