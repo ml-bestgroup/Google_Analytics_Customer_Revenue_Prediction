{
 "cells": [
  {
   "cell_type": "code",
   "execution_count": 1,
   "metadata": {},
   "outputs": [],
   "source": [
    "import pandas as pd\n",
    "import warnings; warnings.simplefilter('ignore')"
   ]
  },
  {
   "cell_type": "code",
   "execution_count": 2,
   "metadata": {},
   "outputs": [],
   "source": [
    "from sklearn.pipeline import Pipeline\n",
    "from sklearn.linear_model import LogisticRegression\n",
    "from sklearn.linear_model import LinearRegression\n",
    "import numpy as np\n",
    "import pandas as pd\n",
    "from sklearn.model_selection import train_test_split\n",
    "from sklearn.base import BaseEstimator, ClassifierMixin\n",
    "from sklearn.preprocessing import StandardScaler\n",
    "from sklearn.ensemble import RandomForestRegressor\n",
    "from sklearn.ensemble import RandomForestClassifier\n",
    "from sklearn.model_selection import GridSearchCV\n",
    "from sklearn.metrics import make_scorer\n",
    "from sklearn.metrics import mean_squared_error\n",
    "from sklearn.svm import SVC\n",
    "from sklearn.ensemble import BaggingClassifier\n",
    "from sklearn.svm import LinearSVC\n",
    "from sklearn.metrics import precision_recall_fscore_support\n",
    "from sklearn.preprocessing import StandardScaler"
   ]
  },
  {
   "cell_type": "code",
   "execution_count": 3,
   "metadata": {},
   "outputs": [],
   "source": [
    "df_user = pd.read_csv('./data/train_user.csv', index_col=0)"
   ]
  },
  {
   "cell_type": "code",
   "execution_count": 4,
   "metadata": {
    "scrolled": true
   },
   "outputs": [
    {
     "data": {
      "text/html": [
       "<div>\n",
       "<style scoped>\n",
       "    .dataframe tbody tr th:only-of-type {\n",
       "        vertical-align: middle;\n",
       "    }\n",
       "\n",
       "    .dataframe tbody tr th {\n",
       "        vertical-align: top;\n",
       "    }\n",
       "\n",
       "    .dataframe thead th {\n",
       "        text-align: right;\n",
       "    }\n",
       "</style>\n",
       "<table border=\"1\" class=\"dataframe\">\n",
       "  <thead>\n",
       "    <tr style=\"text-align: right;\">\n",
       "      <th></th>\n",
       "      <th>fullVisitorId</th>\n",
       "      <th>is_transaction</th>\n",
       "      <th>transactionRevenue_total</th>\n",
       "      <th>bounces_mean</th>\n",
       "      <th>hits_mean</th>\n",
       "      <th>pageviews_mean</th>\n",
       "      <th>visitNumber_total</th>\n",
       "      <th>is_source_googleplex_freq</th>\n",
       "      <th>is_source_googleplex_rate</th>\n",
       "      <th>is_source_direct_freq</th>\n",
       "      <th>...</th>\n",
       "      <th>h_13_17_freq</th>\n",
       "      <th>h_13_17_rate</th>\n",
       "      <th>h_18_23_freq</th>\n",
       "      <th>h_18_23_rate</th>\n",
       "      <th>browser_chrome_freq</th>\n",
       "      <th>browser_chrome_rate</th>\n",
       "      <th>is_mobile_freq</th>\n",
       "      <th>is_mobile_rate</th>\n",
       "      <th>system_google_freq</th>\n",
       "      <th>system_google_rate</th>\n",
       "    </tr>\n",
       "  </thead>\n",
       "  <tbody>\n",
       "    <tr>\n",
       "      <th>0</th>\n",
       "      <td>4823595352351</td>\n",
       "      <td>0</td>\n",
       "      <td>0.0</td>\n",
       "      <td>1.0</td>\n",
       "      <td>1.0</td>\n",
       "      <td>1.0</td>\n",
       "      <td>1</td>\n",
       "      <td>0</td>\n",
       "      <td>0.0</td>\n",
       "      <td>0</td>\n",
       "      <td>...</td>\n",
       "      <td>1</td>\n",
       "      <td>1.0</td>\n",
       "      <td>0</td>\n",
       "      <td>0.0</td>\n",
       "      <td>1</td>\n",
       "      <td>1.0</td>\n",
       "      <td>0</td>\n",
       "      <td>0.0</td>\n",
       "      <td>0</td>\n",
       "      <td>0.0</td>\n",
       "    </tr>\n",
       "    <tr>\n",
       "      <th>1</th>\n",
       "      <td>5103959234087</td>\n",
       "      <td>0</td>\n",
       "      <td>0.0</td>\n",
       "      <td>0.0</td>\n",
       "      <td>10.0</td>\n",
       "      <td>8.0</td>\n",
       "      <td>1</td>\n",
       "      <td>0</td>\n",
       "      <td>0.0</td>\n",
       "      <td>0</td>\n",
       "      <td>...</td>\n",
       "      <td>0</td>\n",
       "      <td>0.0</td>\n",
       "      <td>1</td>\n",
       "      <td>1.0</td>\n",
       "      <td>1</td>\n",
       "      <td>1.0</td>\n",
       "      <td>1</td>\n",
       "      <td>1.0</td>\n",
       "      <td>1</td>\n",
       "      <td>1.0</td>\n",
       "    </tr>\n",
       "    <tr>\n",
       "      <th>2</th>\n",
       "      <td>10278554503158</td>\n",
       "      <td>0</td>\n",
       "      <td>0.0</td>\n",
       "      <td>0.0</td>\n",
       "      <td>11.0</td>\n",
       "      <td>8.0</td>\n",
       "      <td>1</td>\n",
       "      <td>0</td>\n",
       "      <td>0.0</td>\n",
       "      <td>0</td>\n",
       "      <td>...</td>\n",
       "      <td>0</td>\n",
       "      <td>0.0</td>\n",
       "      <td>0</td>\n",
       "      <td>0.0</td>\n",
       "      <td>1</td>\n",
       "      <td>1.0</td>\n",
       "      <td>0</td>\n",
       "      <td>0.0</td>\n",
       "      <td>0</td>\n",
       "      <td>0.0</td>\n",
       "    </tr>\n",
       "    <tr>\n",
       "      <th>3</th>\n",
       "      <td>20424342248747</td>\n",
       "      <td>0</td>\n",
       "      <td>0.0</td>\n",
       "      <td>0.0</td>\n",
       "      <td>17.0</td>\n",
       "      <td>13.0</td>\n",
       "      <td>1</td>\n",
       "      <td>0</td>\n",
       "      <td>0.0</td>\n",
       "      <td>0</td>\n",
       "      <td>...</td>\n",
       "      <td>0</td>\n",
       "      <td>0.0</td>\n",
       "      <td>0</td>\n",
       "      <td>0.0</td>\n",
       "      <td>1</td>\n",
       "      <td>1.0</td>\n",
       "      <td>0</td>\n",
       "      <td>0.0</td>\n",
       "      <td>0</td>\n",
       "      <td>0.0</td>\n",
       "    </tr>\n",
       "    <tr>\n",
       "      <th>4</th>\n",
       "      <td>26722803385797</td>\n",
       "      <td>0</td>\n",
       "      <td>0.0</td>\n",
       "      <td>0.0</td>\n",
       "      <td>3.0</td>\n",
       "      <td>2.0</td>\n",
       "      <td>1</td>\n",
       "      <td>0</td>\n",
       "      <td>0.0</td>\n",
       "      <td>0</td>\n",
       "      <td>...</td>\n",
       "      <td>0</td>\n",
       "      <td>0.0</td>\n",
       "      <td>0</td>\n",
       "      <td>0.0</td>\n",
       "      <td>0</td>\n",
       "      <td>0.0</td>\n",
       "      <td>0</td>\n",
       "      <td>0.0</td>\n",
       "      <td>0</td>\n",
       "      <td>0.0</td>\n",
       "    </tr>\n",
       "  </tbody>\n",
       "</table>\n",
       "<p>5 rows × 57 columns</p>\n",
       "</div>"
      ],
      "text/plain": [
       "    fullVisitorId  is_transaction  transactionRevenue_total  bounces_mean  \\\n",
       "0   4823595352351               0                       0.0           1.0   \n",
       "1   5103959234087               0                       0.0           0.0   \n",
       "2  10278554503158               0                       0.0           0.0   \n",
       "3  20424342248747               0                       0.0           0.0   \n",
       "4  26722803385797               0                       0.0           0.0   \n",
       "\n",
       "   hits_mean  pageviews_mean  visitNumber_total  is_source_googleplex_freq  \\\n",
       "0        1.0             1.0                  1                          0   \n",
       "1       10.0             8.0                  1                          0   \n",
       "2       11.0             8.0                  1                          0   \n",
       "3       17.0            13.0                  1                          0   \n",
       "4        3.0             2.0                  1                          0   \n",
       "\n",
       "   is_source_googleplex_rate  is_source_direct_freq         ...          \\\n",
       "0                        0.0                      0         ...           \n",
       "1                        0.0                      0         ...           \n",
       "2                        0.0                      0         ...           \n",
       "3                        0.0                      0         ...           \n",
       "4                        0.0                      0         ...           \n",
       "\n",
       "   h_13_17_freq  h_13_17_rate  h_18_23_freq  h_18_23_rate  \\\n",
       "0             1           1.0             0           0.0   \n",
       "1             0           0.0             1           1.0   \n",
       "2             0           0.0             0           0.0   \n",
       "3             0           0.0             0           0.0   \n",
       "4             0           0.0             0           0.0   \n",
       "\n",
       "   browser_chrome_freq  browser_chrome_rate  is_mobile_freq  is_mobile_rate  \\\n",
       "0                    1                  1.0               0             0.0   \n",
       "1                    1                  1.0               1             1.0   \n",
       "2                    1                  1.0               0             0.0   \n",
       "3                    1                  1.0               0             0.0   \n",
       "4                    0                  0.0               0             0.0   \n",
       "\n",
       "   system_google_freq  system_google_rate  \n",
       "0                   0                 0.0  \n",
       "1                   1                 1.0  \n",
       "2                   0                 0.0  \n",
       "3                   0                 0.0  \n",
       "4                   0                 0.0  \n",
       "\n",
       "[5 rows x 57 columns]"
      ]
     },
     "execution_count": 4,
     "metadata": {},
     "output_type": "execute_result"
    }
   ],
   "source": [
    "df_user.head()"
   ]
  },
  {
   "cell_type": "markdown",
   "metadata": {},
   "source": [
    "## split"
   ]
  },
  {
   "cell_type": "code",
   "execution_count": 5,
   "metadata": {},
   "outputs": [],
   "source": [
    "X = df_user.drop(['is_transaction', 'fullVisitorId','transactionRevenue_total'], axis=1)\n",
    "y = df_user['transactionRevenue_total']\n",
    "X_train, X_test, y_train, y_test = train_test_split(\n",
    "    X, y, test_size=0.33)"
   ]
  },
  {
   "cell_type": "markdown",
   "metadata": {},
   "source": [
    "## Stacking"
   ]
  },
  {
   "cell_type": "code",
   "execution_count": 6,
   "metadata": {},
   "outputs": [],
   "source": [
    "from sklearn.base import BaseEstimator, ClassifierMixin\n",
    "import numpy as np\n",
    "\n",
    "class StackedRegressor(BaseEstimator, ClassifierMixin):  \n",
    "    def __init__(self, classifier, regressor):\n",
    "        self.classifier = classifier\n",
    "        self.regressor = regressor\n",
    "        \n",
    "    def fit(self, X, y):\n",
    "        class_labels = pd.Series(np.where(y>0,1,0))\n",
    "        \n",
    "        self.classifier.fit(X,class_labels)\n",
    "\n",
    "        pred_class_labels = self.classifier.predict(X)\n",
    "        pred_class_labels_df = pd.DataFrame(\n",
    "            pred_class_labels, columns = ['pred_class_label'])\n",
    "        \n",
    "        X = X.reset_index(drop=True)\n",
    "        pred_class_labels_df = pred_class_labels_df.reset_index(drop=True)\n",
    "        X = X.join(pred_class_labels_df)\n",
    "        self.regressor.fit(X,y)\n",
    "\n",
    "        print(self.classifier.__class__.__name__, \",\", \n",
    "              self.regressor.__class__.__name__)\n",
    "        \n",
    "    def predict(self, X):\n",
    "        \n",
    "        class_predict = self.classifier.predict(X)\n",
    "        class_predict_df = pd.DataFrame(\n",
    "             class_predict, columns = ['pred_class_label'])\n",
    "        X = X.reset_index(drop=True)\n",
    "        class_predict_df = class_predict_df.reset_index(drop=True)\n",
    "        X = X.join(class_predict_df)\n",
    "        regressor_predict = self.regressor.predict(X)\n",
    "        regressor_predict = np.where(regressor_predict<0,0,regressor_predict)\n",
    "        \n",
    "        return regressor_predict\n",
    "    \n",
    "    def score(self, X, y):\n",
    "        return np.sqrt(np.mean((y - self.predict(X))**2))\n",
    "    \n",
    "    def clf_score(self, X, y):\n",
    "        y_true = pd.Series(np.where(y>0,1,0))\n",
    "        y_pred = self.classifier.predict(X)\n",
    "        return precision_recall_fscore_support(y_true, y_pred, \n",
    "                                               average='macro')"
   ]
  },
  {
   "cell_type": "code",
   "execution_count": 7,
   "metadata": {},
   "outputs": [],
   "source": [
    "def myscore(y_true, y_pred):\n",
    "    return np.sqrt(np.mean((y_true - y_pred)**2))\n",
    "mse_scorer = make_scorer(myscore, greater_is_better=False)"
   ]
  },
  {
   "cell_type": "markdown",
   "metadata": {},
   "source": [
    "## Grid search"
   ]
  },
  {
   "cell_type": "code",
   "execution_count": 8,
   "metadata": {},
   "outputs": [],
   "source": [
    "svc = []\n",
    "svc.append(BaggingClassifier(\n",
    "        base_estimator=SVC(tol=0.01, kernel = 'poly',\n",
    "                       verbose=False),\n",
    "    bootstrap=True, bootstrap_features=False, max_features=1.0,\n",
    "         max_samples=0.01, n_estimators=100, n_jobs=-1))"
   ]
  },
  {
   "cell_type": "code",
   "execution_count": 10,
   "metadata": {},
   "outputs": [],
   "source": [
    "# rfc = []\n",
    "# for n in [50,100]:\n",
    "#     for min_l in [3, 5]:\n",
    "#         rfc.append(RandomForestClassifier(random_state=42, n_estimators = n, min_samples_leaf = min_l,\n",
    "#                                          n_jobs=-1))"
   ]
  },
  {
   "cell_type": "code",
   "execution_count": 11,
   "metadata": {},
   "outputs": [],
   "source": [
    "# logic = []\n",
    "# logic.append(LogisticRegression(tol = 0.01, n_jobs=-1))"
   ]
  },
  {
   "cell_type": "code",
   "execution_count": 12,
   "metadata": {},
   "outputs": [],
   "source": [
    "# lr = []\n",
    "# lr.append(LinearRegression(fit_intercept=True, normalize=False, copy_X=True, n_jobs=-1))"
   ]
  },
  {
   "cell_type": "code",
   "execution_count": 9,
   "metadata": {},
   "outputs": [],
   "source": [
    "rfr = []\n",
    "for n in [100]:\n",
    "    for min_l in [15]:\n",
    "        rfr.append(RandomForestRegressor(random_state=42, \n",
    "                                         n_estimators = n, \n",
    "                                         min_samples_leaf = min_l,\n",
    "                                         n_jobs=-1))"
   ]
  },
  {
   "cell_type": "code",
   "execution_count": 10,
   "metadata": {},
   "outputs": [],
   "source": [
    "parameters = {'classifier': svc, \n",
    "              'regressor': rfr\n",
    "             }"
   ]
  },
  {
   "cell_type": "code",
   "execution_count": 76,
   "metadata": {},
   "outputs": [],
   "source": [
    "# parameters"
   ]
  },
  {
   "cell_type": "code",
   "execution_count": 11,
   "metadata": {},
   "outputs": [],
   "source": [
    "gs = GridSearchCV(cv=5, estimator=StackedRegressor(LogisticRegression(), LinearRegression()),param_grid=parameters,\n",
    "                 scoring=mse_scorer)"
   ]
  },
  {
   "cell_type": "code",
   "execution_count": 12,
   "metadata": {},
   "outputs": [
    {
     "name": "stdout",
     "output_type": "stream",
     "text": [
      "BaggingClassifier , RandomForestRegressor\n",
      "BaggingClassifier , RandomForestRegressor\n",
      "BaggingClassifier , RandomForestRegressor\n",
      "BaggingClassifier , RandomForestRegressor\n",
      "BaggingClassifier , RandomForestRegressor\n",
      "BaggingClassifier , RandomForestRegressor\n"
     ]
    },
    {
     "data": {
      "text/plain": [
       "GridSearchCV(cv=5, error_score='raise-deprecating',\n",
       "       estimator=StackedRegressor(classifier=LogisticRegression(C=1.0, class_weight=None, dual=False, fit_intercept=True,\n",
       "          intercept_scaling=1, max_iter=100, multi_class='warn',\n",
       "          n_jobs=None, penalty='l2', random_state=None, solver='warn',\n",
       "          tol=0.0001, verbose=0, warm_start=False),\n",
       "         regressor=LinearRegression(copy_X=True, fit_intercept=True, n_jobs=None,\n",
       "         normalize=False)),\n",
       "       fit_params=None, iid='warn', n_jobs=None,\n",
       "       param_grid={'classifier': [BaggingClassifier(base_estimator=SVC(C=1.0, cache_size=200, class_weight=None, coef0=0.0,\n",
       "  decision_function_shape='ovr', degree=3, gamma='auto_deprecated',\n",
       "  kernel='poly', max_iter=-1, probability=False, random_state=None,\n",
       "  shrinking=True, tol=0.01, verbose=False),\n",
       "   ...timators=100, n_jobs=-1,\n",
       "           oob_score=False, random_state=42, verbose=0, warm_start=False)]},\n",
       "       pre_dispatch='2*n_jobs', refit=True, return_train_score='warn',\n",
       "       scoring=make_scorer(myscore, greater_is_better=False), verbose=0)"
      ]
     },
     "execution_count": 12,
     "metadata": {},
     "output_type": "execute_result"
    }
   ],
   "source": [
    "gs.fit(X=X_train, y=y_train)"
   ]
  },
  {
   "cell_type": "code",
   "execution_count": 79,
   "metadata": {},
   "outputs": [],
   "source": [
    "# gs.best_estimator_"
   ]
  },
  {
   "cell_type": "code",
   "execution_count": 13,
   "metadata": {},
   "outputs": [
    {
     "data": {
      "text/plain": [
       "-1.6296877564384058"
      ]
     },
     "execution_count": 13,
     "metadata": {},
     "output_type": "execute_result"
    }
   ],
   "source": [
    "gs.best_score_ # best rmse"
   ]
  },
  {
   "cell_type": "code",
   "execution_count": 14,
   "metadata": {},
   "outputs": [
    {
     "data": {
      "text/plain": [
       "1.644614425242082"
      ]
     },
     "execution_count": 14,
     "metadata": {},
     "output_type": "execute_result"
    }
   ],
   "source": [
    "gs.best_estimator_.score(X_test, y_test) # rmse"
   ]
  },
  {
   "cell_type": "code",
   "execution_count": 15,
   "metadata": {},
   "outputs": [
    {
     "data": {
      "text/plain": [
       "(0.8111228804440885, 0.6785179767764815, 0.7262539070725205, None)"
      ]
     },
     "execution_count": 15,
     "metadata": {},
     "output_type": "execute_result"
    }
   ],
   "source": [
    "gs.best_estimator_.clf_score(X_test, y_test)# classification"
   ]
  },
  {
   "cell_type": "markdown",
   "metadata": {},
   "source": [
    "### R^2"
   ]
  },
  {
   "cell_type": "code",
   "execution_count": 16,
   "metadata": {},
   "outputs": [],
   "source": [
    "y_pred = gs.best_estimator_.predict(X_test)\n",
    "y_true = y_test"
   ]
  },
  {
   "cell_type": "code",
   "execution_count": 17,
   "metadata": {},
   "outputs": [
    {
     "data": {
      "text/plain": [
       "0.3909559726657448"
      ]
     },
     "execution_count": 17,
     "metadata": {},
     "output_type": "execute_result"
    }
   ],
   "source": [
    "from sklearn.metrics import r2_score\n",
    "r2_score(y_true, y_pred)"
   ]
  },
  {
   "cell_type": "markdown",
   "metadata": {},
   "source": [
    "### Explained Variance Score"
   ]
  },
  {
   "cell_type": "code",
   "execution_count": 18,
   "metadata": {},
   "outputs": [
    {
     "data": {
      "text/plain": [
       "0.3909560209449774"
      ]
     },
     "execution_count": 18,
     "metadata": {},
     "output_type": "execute_result"
    }
   ],
   "source": [
    "from sklearn.metrics import explained_variance_score\n",
    "explained_variance_score(y_true, y_pred)"
   ]
  },
  {
   "cell_type": "markdown",
   "metadata": {},
   "source": [
    "## Model Visualization"
   ]
  },
  {
   "cell_type": "code",
   "execution_count": 24,
   "metadata": {},
   "outputs": [],
   "source": [
    "class_predict = gs.best_estimator_.classifier.predict(X_test)\n",
    "class_predict_df = pd.DataFrame(\n",
    "    class_predict, columns = ['pred_class_label'])\n",
    "X_test = X_test.reset_index(drop=True)\n",
    "class_predict_df = class_predict_df.reset_index(drop=True)\n",
    "X_test = X_test.join(class_predict_df)"
   ]
  },
  {
   "cell_type": "code",
   "execution_count": 25,
   "metadata": {},
   "outputs": [
    {
     "data": {
      "text/plain": [
       "Index(['bounces_mean', 'hits_mean', 'pageviews_mean', 'visitNumber_total',\n",
       "       'is_source_googleplex_freq', 'is_source_googleplex_rate',\n",
       "       'is_source_direct_freq', 'is_source_direct_rate',\n",
       "       'is_source_google_freq', 'is_source_google_rate',\n",
       "       'is_medium_referral_freq', 'is_medium_referral_rate',\n",
       "       'is_medium_none_freq', 'is_medium_none_rate', 'is_medium_organic_freq',\n",
       "       'is_medium_organic_rate', 'is_bayarea_freq', 'is_bayarea_rate',\n",
       "       'Africa_freq', 'Africa_rate', 'Americas_freq', 'Americas_rate',\n",
       "       'Asia_freq', 'Asia_rate', 'Europe_freq', 'Europe_rate', 'Oceania_freq',\n",
       "       'Oceania_rate', 'next_session_1_adjmean', 'last_session_1_adjmean',\n",
       "       'q1_freq', 'q1_rate', 'q2_freq', 'q2_rate', 'q3_freq', 'q3_rate',\n",
       "       'q4_freq', 'q4_rate', 'weekday_freq', 'weekday_rate', 'h_0_6_freq',\n",
       "       'h_0_6_rate', 'h_7_12_freq', 'h_7_12_rate', 'h_13_17_freq',\n",
       "       'h_13_17_rate', 'h_18_23_freq', 'h_18_23_rate', 'browser_chrome_freq',\n",
       "       'browser_chrome_rate', 'is_mobile_freq', 'is_mobile_rate',\n",
       "       'system_google_freq', 'system_google_rate', 'pred_class_label'],\n",
       "      dtype='object')"
      ]
     },
     "execution_count": 25,
     "metadata": {},
     "output_type": "execute_result"
    }
   ],
   "source": [
    "X_test.columns"
   ]
  },
  {
   "cell_type": "code",
   "execution_count": 32,
   "metadata": {},
   "outputs": [],
   "source": [
    "import matplotlib.pyplot as plt\n",
    "features = X_test.columns\n",
    "importances = gs.best_estimator_.regressor.feature_importances_\n",
    "indices = np.argsort(importances)[45:56]"
   ]
  },
  {
   "cell_type": "code",
   "execution_count": 33,
   "metadata": {},
   "outputs": [
    {
     "data": {
      "text/plain": [
       "Text(0.5, 0, 'Relative Importance')"
      ]
     },
     "execution_count": 33,
     "metadata": {},
     "output_type": "execute_result"
    },
    {
     "data": {
      "image/png": "[encoded data removed]",
      "text/plain": [
       "<Figure size 432x288 with 1 Axes>"
      ]
     },
     "metadata": {
      "needs_background": "light"
     },
     "output_type": "display_data"
    }
   ],
   "source": [
    "plt.figure(1)\n",
    "plt.title('Feature Importances')\n",
    "plt.barh(range(len(indices)), importances[indices], color=(0.35,0.65,0.9), align='center')\n",
    "plt.yticks(range(len(indices)), features[indices])\n",
    "plt.xlabel('Relative Importance')"
   ]
  },
  {
   "cell_type": "code",
   "execution_count": 19,
   "metadata": {},
   "outputs": [],
   "source": [
    "## Other tried results\n",
    "# rfc + lr\n",
    "# StackedRegressor(classifier=RandomForestClassifier(bootstrap=True, class_weight=None, criterion='gini',\n",
    "#             max_depth=None, max_features='auto', max_leaf_nodes=None,\n",
    "#             min_impurity_decrease=0.0, min_impurity_split=None,\n",
    "#             min_samples_leaf=5, min_samples_split=2,\n",
    "#             min_weight_fraction_leaf=0.0, n_estimators=50, n_jobs=None,\n",
    "#             oob_score=False, random_state=42, verbose=0, warm_start=False),\n",
    "#          regressor=LinearRegression(copy_X=True, fit_intercept=True, n_jobs=None,\n",
    "#          normalize=False))\n",
    "# rmse = 1.9525750699579831\n",
    "\n",
    "#rfc + rfr\n",
    "# StackedRegressor(classifier=RandomForestClassifier(bootstrap=True, class_weight=None, criterion='gini',\n",
    "#             max_depth=None, max_features='auto', max_leaf_nodes=None,\n",
    "#             min_impurity_decrease=0.0, min_impurity_split=None,\n",
    "#             min_samples_leaf=5, min_samples_split=2,\n",
    "#             min_weight_fraction_leaf=0.0, n_estimators=50, n_jobs=None,\n",
    "#             oob_score=False, random_state=42, verbose=0, warm_start=False),\n",
    "#          regressor=RandomForestRegressor(bootstrap=True, criterion='mse', max_depth=None,\n",
    "#            max_features='auto', max_leaf_nodes=None,\n",
    "#            min_impurity_decrease=0.0, min_impurity_split=None,\n",
    "#            min_samples_leaf=3, min_samples_split=2,\n",
    "#            min_weight_fraction_leaf=0.0, n_estimators=50, n_jobs=None,\n",
    "#            oob_score=False, random_state=42, verbose=0, warm_start=False))\n",
    "# rmse = 1.9545347668909685\n",
    "# StackedRegressor(classifier=RandomForestClassifier(bootstrap=True, class_weight=None, criterion='gini',\n",
    "#             max_depth=None, max_features='auto', max_leaf_nodes=None,\n",
    "#             min_impurity_decrease=0.0, min_impurity_split=None,\n",
    "#             min_samples_leaf=5, min_samples_split=2,\n",
    "#             min_weight_fraction_leaf=0.0, n_estimators=100, n_jobs=-1,\n",
    "#             oob_score=False, random_state=42, verbose=0, warm_start=False),\n",
    "#          regressor=RandomForestRegressor(bootstrap=True, criterion='mse', max_depth=None,\n",
    "#            max_features='auto', max_leaf_nodes=None,\n",
    "#            min_impurity_decrease=0.0, min_impurity_split=None,\n",
    "#            min_samples_leaf=3, min_samples_split=2,\n",
    "#            min_weight_fraction_leaf=0.0, n_estimators=50, n_jobs=-1,\n",
    "#            oob_score=False, random_state=42, verbose=0, warm_start=False))\n",
    "# rmse=1.9454945060381632\n",
    "\n",
    "#logistic + linear\n",
    "# StackedRegressor(classifier=LogisticRegression(C=1, class_weight=None, dual=False, fit_intercept=True,\n",
    "#           intercept_scaling=1, max_iter=100, multi_class='ovr', n_jobs=8,\n",
    "#           penalty='l2', random_state=42, solver='sag', tol=0.0001,\n",
    "#           verbose=0, warm_start=False),\n",
    "#          regressor=LinearRegression(copy_X=True, fit_intercept=True, n_jobs=None, normalize=True))\n",
    "# rmse = 2.0221316298696683\n",
    "\n",
    "#bagging svc + linear\n",
    "# StackedRegressor(classifier=BaggingClassifier(base_estimator=SVC(C=0.8, cache_size=200, class_weight=None, coef0=0.0,\n",
    "#   decision_function_shape='ovr', degree=3, gamma='auto', kernel='poly',\n",
    "#   max_iter=-1, probability=False, random_state=42, shrinking=True,\n",
    "#   tol=0.001, verbose=False),\n",
    "#          bootstrap=True, bootstrap_features=False, max_features=1.0,\n",
    "#          max_samples=0.01, n_estimators=100, n_jobs=8, oob_score=False,\n",
    "#          random_state=None, verbose=0, warm_start=False),\n",
    "#          regressor=LinearRegression(copy_X=True, fit_intercept=True, n_jobs=None,\n",
    "#          normalize=False))\n",
    "# rmse = 1.9293540450642976\n",
    "\n",
    "# StackedRegressor(classifier=BaggingClassifier(base_estimator=SVC(C=1.0, cache_size=200, class_weight=None, coef0=0.0,\n",
    "#   decision_function_shape='ovr', degree=3, gamma='auto', kernel='rbf',\n",
    "#   max_iter=-1, probability=True, random_state=42, shrinking=True,\n",
    "#   tol=0.001, verbose=False),\n",
    "#          bootstrap=True, bootstrap_features=False, max_features=1.0,\n",
    "#          max_samples=0.01, n_estimators=100, n_jobs=-1, oob_score=False,\n",
    "#          random_state=None, verbose=0, warm_start=False),\n",
    "#          regressor=LinearRegression(copy_X=True, fit_intercept=True, n_jobs=None, normalize=True))\n",
    "# 2.045940955804291\n",
    "\n",
    "# StackedRegressor(classifier=BaggingClassifier(base_estimator=SVC(C=1.0, cache_size=200, class_weight=None, coef0=0.0,\n",
    "#   decision_function_shape='ovr', degree=3, gamma='auto', kernel='poly',\n",
    "#   max_iter=-1, probability=False, random_state=None, shrinking=True,\n",
    "#   tol=0.01, verbose=False),\n",
    "#          bootstrap=True, bootstrap_features=False, max_features=1.0,\n",
    "#          max_samples=0.01, n_estimators=100, n_jobs=-1, oob_score=False,\n",
    "#          random_state=None, verbose=0, warm_start=False),\n",
    "#          regressor=RandomForestRegressor(bootstrap=True, criterion='mse', max_depth=None,\n",
    "#            max_features='auto', max_leaf_nodes=None,\n",
    "#            min_impurity_decrease=0.0, min_impurity_split=None,\n",
    "#            min_samples_leaf=10, min_samples_split=2,\n",
    "#            min_weight_fraction_leaf=0.0, n_estimators=100, n_jobs=-1,\n",
    "#            oob_score=False, random_state=42, verbose=0, warm_start=False))\n",
    "# rmse = 1.6276727202032315\n",
    "\n",
    "\n",
    "# for i in range(3):\n",
    "#     print(i)\n",
    "#     X_train, X_test, y_train, y_test = train_test_split(\n",
    "#         X, y, test_size=0.33)\n",
    "\n",
    "#     test = StackedRegressor_noresamp_append(GaussianNB(), RandomForestRegressor(n_estimators=100))\n",
    "#     test.fit(X_train, y_train)\n",
    "#     pred = test.predict(X_test)\n",
    "#     rmse = np.sqrt(np.mean((pred-y_test)**2))\n",
    "#     r2 = r2_score(y_test, pred)\n",
    "#     print(\"rmse:\",rmse,\"r2:\", r2)\n",
    "# # 0\n",
    "# # GaussianNB , RandomForestRegressor\n",
    "# # 1.7096395858304803 0.33301779178162316\n",
    "# # 1\n",
    "# # GaussianNB , RandomForestRegressor\n",
    "# # 1.714835825170351 0.3395735239869665\n",
    "# # 2\n",
    "# # GaussianNB , RandomForestRegressor\n",
    "# # 1.7067779667362826 0.3382342045052775"
   ]
  }
 ],
 "metadata": {
  "kernelspec": {
   "display_name": "Python 3",
   "language": "python",
   "name": "python3"
  },
  "language_info": {
   "codemirror_mode": {
    "name": "ipython",
    "version": 3
   },
   "file_extension": ".py",
   "mimetype": "text/x-python",
   "name": "python",
   "nbconvert_exporter": "python",
   "pygments_lexer": "ipython3",
   "version": "3.6.6"
  }
 },
 "nbformat": 4,
 "nbformat_minor": 2
}
