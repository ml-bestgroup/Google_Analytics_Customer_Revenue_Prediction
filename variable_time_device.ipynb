{
 "cells": [
  {
   "cell_type": "code",
   "execution_count": 1,
   "metadata": {},
   "outputs": [],
   "source": [
    "## Function for time part\n",
    "\n",
    "def time_value(df):\n",
    "    import datetime as dt\n",
    "    time = pd.to_datetime(data_time.loc[:,'visitStartTime'], unit='s')\n",
    "    year = time.dt.year\n",
    "    year = pd.get_dummies(year)\n",
    "    month = time.dt.month\n",
    "    q1 = (month <= 3) & (month >= 1)\n",
    "    q2 = (month <= 6) & (month >= 4)\n",
    "    q3 = (month <= 9) & (month >= 7)\n",
    "    q3 = (month <= 12) & (month >= 10)\n",
    "    dow = time.dt.weekday\n",
    "    weekday = (dow <= 5) & (dow >=1)\n",
    "    hour = time.dt.hour\n",
    "    h_0_6 = (hour <= 6) & (hour >= 0)\n",
    "    h_7_12 = (hour <= 12) & (hour >= 7)\n",
    "    h_13_17 = (hour <= 17) & (hour >= 13)\n",
    "    h_18_23 = (hour <= 23) & (hour >= 18)\n",
    "    new_df = pd.DataFrame()\n",
    "    new_df['q1'] = q1.astype(int)\n",
    "    new_df['q2'] = q2.astype(int)\n",
    "    new_df['q3'] = q3.astype(int)\n",
    "    new_df['q4'] = q4.astype(int)\n",
    "    new_df['weekday'] = weekday.astype(int)\n",
    "    new_df['h_0_6'] = h_0_6.astype(int)\n",
    "    new_df['h_7_12'] = h_7_12.astype(int)\n",
    "    new_df['h_13_17'] = h_13_17.astype(int)\n",
    "    new_df['h_18_23'] = h_18_23.astype(int)\n",
    "    return new_df"
   ]
  },
  {
   "cell_type": "code",
   "execution_count": 2,
   "metadata": {},
   "outputs": [],
   "source": [
    "def device(df):\n",
    "    browser_chrome = (df['browser']=='Chrome').astype(int)\n",
    "    is_mobile = df['isMobile'].astype(int)\n",
    "    system_google = ((df['operatingSystem']=='Android')|(df['operatingSystem']=='Chrome OS')).astype(int)\n",
    "    new_df = pd.DataFrame()\n",
    "    new_df['browser_chrome'] = browser_chrome\n",
    "    new_df['is_mobile'] = is_mobile\n",
    "    new_df['system_google'] = system_google\n",
    "    return new_df"
   ]
  },
  {
   "cell_type": "code",
   "execution_count": null,
   "metadata": {},
   "outputs": [],
   "source": []
  }
 ],
 "metadata": {
  "kernelspec": {
   "display_name": "Python 3",
   "language": "python",
   "name": "python3"
  },
  "language_info": {
   "codemirror_mode": {
    "name": "ipython",
    "version": 3
   },
   "file_extension": ".py",
   "mimetype": "text/x-python",
   "name": "python",
   "nbconvert_exporter": "python",
   "pygments_lexer": "ipython3",
   "version": "3.6.5"
  }
 },
 "nbformat": 4,
 "nbformat_minor": 2
}
