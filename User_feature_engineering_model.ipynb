{
 "cells": [
  {
   "cell_type": "code",
   "execution_count": 9,
   "metadata": {},
   "outputs": [],
   "source": [
    "import pandas as pd\n",
    "import json \n",
    "import numpy as np"
   ]
  },
  {
   "cell_type": "code",
   "execution_count": 10,
   "metadata": {},
   "outputs": [],
   "source": [
    "def extract_traffic_source_columns(df):\n",
    "    df['isTrueDirect']=df['isTrueDirect'].fillna(False)\n",
    "    df['isTrueDirect']=df['isTrueDirect'].astype(int)\n",
    "    \n",
    "    is_source_mall_googleplex = (df['source']=='mall.googleplex.com').astype(int)\n",
    "    is_source_mall_googleplex.name = 'is_source_googleplex'    \n",
    "    \n",
    "    is_source_direct = (df['source']=='(direct)').astype(int)\n",
    "    is_source_direct.name = 'is_source_direct'\n",
    "    \n",
    "    is_source_google = (df['source']=='(direct)').astype(int)\n",
    "    is_source_google.name = 'is_source_google'\n",
    "    \n",
    "    is_medium_referral = (df['medium']=='referral').astype(int)\n",
    "    is_medium_referral.name = 'is_medium_referral'\n",
    "    is_medium_none = (df['medium']=='(none)').astype(int)\n",
    "    is_medium_none.name = 'is_medium_none'\n",
    "    is_medium_organic = (df['medium']=='organic').astype(int)\n",
    "    is_medium_organic.name=\"is_medium_organic\"\n",
    "    \n",
    "    df = df.drop(columns = ['adContent','adwordsClickInfo','campaign', 'keyword', 'medium', 'referralPath',\n",
    "                      'source'])\n",
    "    \n",
    "    return pd.concat([df,is_source_mall_googleplex,is_source_direct,is_source_google,is_medium_referral,\n",
    "                    is_medium_none,is_medium_organic],axis=1)"
   ]
  },
  {
   "cell_type": "code",
   "execution_count": 11,
   "metadata": {},
   "outputs": [],
   "source": [
    "def get_region_columns(df):\n",
    "    df['is_bayarea'] = (df['metro'] =='San Francisco-Oakland-San Jose CA').astype(int)\n",
    "    dummies = pd.get_dummies(df['continent'])\n",
    "    dummies = dummies.drop(['(not set)'],axis=1)\n",
    "    df = df.drop(['continent','city','subContinent','region','country','metro','networkDomain'],axis=1) \n",
    "    new_df = pd.concat([df,dummies],axis=1)\n",
    "    return new_df"
   ]
  },
  {
   "cell_type": "code",
   "execution_count": 12,
   "metadata": {},
   "outputs": [],
   "source": [
    "def extract_activities(df):\n",
    "    df['is_transaction'] = 1 - df['transactionRevenue'].isna()\n",
    "    df[['bounces', 'hits', 'pageviews', 'visitNumber']] = df[['bounces', 'hits', 'pageviews', 'visitNumber']].fillna(0)\n",
    "    df['transactionRevenue'] = df['transactionRevenue'].fillna(0)\n",
    "    return df"
   ]
  },
  {
   "cell_type": "code",
   "execution_count": 13,
   "metadata": {},
   "outputs": [],
   "source": [
    "def time_value(df):\n",
    "    import datetime as dt\n",
    "    time = pd.to_datetime(df.loc[:,'visitStartTime'], unit='s')\n",
    "    year = time.dt.year\n",
    "    year = pd.get_dummies(year)\n",
    "    month = time.dt.month\n",
    "    q1 = (month <= 3) & (month >= 1)\n",
    "    q2 = (month <= 6) & (month >= 4)\n",
    "    q3 = (month <= 9) & (month >= 7)\n",
    "    q4 = (month <= 12) & (month >= 10)\n",
    "    dow = time.dt.weekday\n",
    "    weekday = (dow <= 5) & (dow >=1)\n",
    "    hour = time.dt.hour\n",
    "    h_0_6 = (hour <= 6) & (hour >= 0)\n",
    "    h_7_12 = (hour <= 12) & (hour >= 7)\n",
    "    h_13_17 = (hour <= 17) & (hour >= 13)\n",
    "    h_18_23 = (hour <= 23) & (hour >= 18)\n",
    "    new_df = pd.DataFrame()\n",
    "    new_df['q1'] = q1.astype(int)\n",
    "    new_df['q2'] = q2.astype(int)\n",
    "    new_df['q3'] = q3.astype(int)\n",
    "    new_df['q4'] = q4.astype(int)\n",
    "    new_df['weekday'] = weekday.astype(int)\n",
    "    new_df['h_0_6'] = h_0_6.astype(int)\n",
    "    new_df['h_7_12'] = h_7_12.astype(int)\n",
    "    new_df['h_13_17'] = h_13_17.astype(int)\n",
    "    new_df['h_18_23'] = h_18_23.astype(int)\n",
    "    new_df['month'] = month\n",
    "    new_df['dow'] = dow\n",
    "    new_df['hour'] = hour\n",
    "    return new_df\n",
    "\n",
    "def device(df):\n",
    "    browser_chrome = (df['browser']=='Chrome').astype(int)\n",
    "    is_mobile = df['isMobile'].astype(int)\n",
    "    system_google = ((df['operatingSystem']=='Android')|(df['operatingSystem']=='Chrome OS')).astype(int)\n",
    "    new_df = pd.DataFrame()\n",
    "    new_df['browser_chrome'] = browser_chrome\n",
    "    new_df['is_mobile'] = is_mobile\n",
    "    new_df['system_google'] = system_google\n",
    "    return new_df"
   ]
  },
  {
   "cell_type": "markdown",
   "metadata": {},
   "source": [
    "# preprocessing"
   ]
  },
  {
   "cell_type": "code",
   "execution_count": 14,
   "metadata": {},
   "outputs": [],
   "source": [
    "def preprocessing(inputfile):\n",
    "    df = pd.read_csv(inputfile)\n",
    "    \n",
    "    df.sort_values(['fullVisitorId', 'visitStartTime'], ascending=True, inplace=True)\n",
    "    df['last_session_1'] = (\n",
    "    df['visitStartTime'] - df[['fullVisitorId', 'visitStartTime']].groupby('fullVisitorId')['visitStartTime'].shift(1)\n",
    ")\n",
    "    df['next_session_1']=(\n",
    "    -1*(df['visitStartTime'] - df[['fullVisitorId', 'visitStartTime']].groupby('fullVisitorId')['visitStartTime'].shift(-1))\n",
    ")\n",
    "\n",
    "    #df[['next_session_1','last_session_1']] = df[['next_session_1','last_session_1']]/86400\n",
    "    df[['next_session_1','last_session_1']] = df[['next_session_1','last_session_1']].fillna(0)\n",
    "    print(df.columns)\n",
    "    df = extract_traffic_source_columns(df)\n",
    "    # print(\"Congrats Brian\\n\"+df.columns)\n",
    "    df = get_region_columns(df)\n",
    "    # print(\"Congrats Ziyu\\n\"+df.columns)\n",
    "    df = extract_activities(df)\n",
    "    # print(\"Congrats Yixin\\n\"+df.columns)\n",
    "    col_time = time_value(df)\n",
    "    col_device = device(df)\n",
    "    \n",
    "    df_base_model = df[['fullVisitorId', 'is_transaction', 'transactionRevenue', # add three columns\n",
    "                        'bounces', 'hits', 'pageviews', 'visitNumber',\n",
    "                       'is_source_googleplex','is_source_direct','is_source_google','is_medium_referral',\n",
    "                    'is_medium_none','is_medium_organic',\n",
    "                        'is_bayarea','Africa','Americas','Asia','Europe','Oceania',\n",
    "                        'next_session_1','last_session_1'\n",
    "                       ]]\n",
    "    df_base_model = pd.concat([df_base_model,col_time],axis=1)\n",
    "    df_base_model = pd.concat([df_base_model,col_device],axis=1)\n",
    "    # print(\"Congrats Xi\\n\"+df_base_model.columns)\n",
    "    return df_base_model"
   ]
  },
  {
   "cell_type": "code",
   "execution_count": 15,
   "metadata": {},
   "outputs": [
    {
     "name": "stdout",
     "output_type": "stream",
     "text": [
      "Index(['Unnamed: 0', 'channelGrouping', 'date', 'fullVisitorId', 'sessionId',\n",
      "       'socialEngagementType', 'visitId', 'visitNumber', 'visitStartTime',\n",
      "       'bounces', 'hits', 'newVisits', 'pageviews', 'transactionRevenue',\n",
      "       'visits', 'browser', 'deviceCategory', 'isMobile', 'operatingSystem',\n",
      "       'adContent', 'adwordsClickInfo', 'campaign', 'isTrueDirect', 'keyword',\n",
      "       'medium', 'referralPath', 'source', 'city', 'continent', 'country',\n",
      "       'metro', 'networkDomain', 'region', 'subContinent', 'last_session_1',\n",
      "       'next_session_1'],\n",
      "      dtype='object')\n"
     ]
    }
   ],
   "source": [
    "inputfile = '../data/train_flatten.csv'\n",
    "df_base_model = preprocessing(inputfile)"
   ]
  },
  {
   "cell_type": "markdown",
   "metadata": {},
   "source": [
    "# aggregate in user level"
   ]
  },
  {
   "cell_type": "code",
   "execution_count": 16,
   "metadata": {},
   "outputs": [],
   "source": [
    "df_base_model.transactionRevenue = df_base_model.transactionRevenue.fillna(0)"
   ]
  },
  {
   "cell_type": "code",
   "execution_count": 17,
   "metadata": {},
   "outputs": [
    {
     "data": {
      "text/plain": [
       "Index(['fullVisitorId', 'is_transaction', 'transactionRevenue', 'bounces',\n",
       "       'hits', 'pageviews', 'visitNumber', 'is_source_googleplex',\n",
       "       'is_source_direct', 'is_source_google', 'is_medium_referral',\n",
       "       'is_medium_none', 'is_medium_organic', 'is_bayarea', 'Africa',\n",
       "       'Americas', 'Asia', 'Europe', 'Oceania', 'next_session_1',\n",
       "       'last_session_1', 'q1', 'q2', 'q3', 'q4', 'weekday', 'h_0_6', 'h_7_12',\n",
       "       'h_13_17', 'h_18_23', 'month', 'dow', 'hour', 'browser_chrome',\n",
       "       'is_mobile', 'system_google'],\n",
       "      dtype='object')"
      ]
     },
     "execution_count": 17,
     "metadata": {},
     "output_type": "execute_result"
    }
   ],
   "source": [
    "df_base_model.columns"
   ]
  },
  {
   "cell_type": "code",
   "execution_count": 18,
   "metadata": {},
   "outputs": [],
   "source": [
    "id_variables = ['fullVisitorId']\n",
    "y_c_variables = ['transactionRevenue']\n",
    "y_d_variables = ['is_transaction'] # classification\n",
    "c_variables = ['bounces', 'hits', 'pageviews'] # continuous\n",
    "i_variables = ['visitNumber']\n",
    "t_variables = ['next_session_1', 'last_session_1']\n",
    "d_variables = ['is_source_googleplex',\n",
    "       'is_source_direct', 'is_source_google', 'is_medium_referral',\n",
    "       'is_medium_none', 'is_medium_organic', 'is_bayarea', 'Africa',\n",
    "       'Americas', 'Asia', 'Europe', 'Oceania', 'q1', 'q2', 'q3', 'q4', 'weekday', 'h_0_6', 'h_7_12',\n",
    "       'h_13_17', 'h_18_23', 'month', 'dow', 'hour', 'browser_chrome',\n",
    "       'is_mobile', 'system_google'] # dummies"
   ]
  },
  {
   "cell_type": "code",
   "execution_count": 19,
   "metadata": {},
   "outputs": [],
   "source": [
    "def agg_time(x):\n",
    "    if len(x)==1:\n",
    "        return 0\n",
    "    else:\n",
    "        return np.log(1+sum(x)/(len(x)-1))"
   ]
  },
  {
   "cell_type": "code",
   "execution_count": 20,
   "metadata": {},
   "outputs": [],
   "source": [
    "def make_agg(v):\n",
    "    if v in y_c_variables:\n",
    "        return {\n",
    "            v: {v + '_' + 'total': lambda x: np.log(1 + sum(x))}\n",
    "               }\n",
    "    if v in y_d_variables:\n",
    "        return {\n",
    "            v: {v: 'max'}\n",
    "        }\n",
    "    if v in c_variables:\n",
    "        return {\n",
    "            v: {v + '_' + 'mean': 'mean'}\n",
    "        }\n",
    "    if v in i_variables:\n",
    "        return {\n",
    "            v: {v + '_' + 'total': 'max'}\n",
    "        }\n",
    "    if v in t_variables:\n",
    "        return {\n",
    "            v: {v + '_' + 'adjmean': lambda x: agg_time(x)}\n",
    "        }\n",
    "    if v in d_variables:\n",
    "        return {\n",
    "            v: {\n",
    "                v + '_' + 'freq': 'sum',\n",
    "                v + '_' + 'rate': 'mean'\n",
    "            }\n",
    "        }"
   ]
  },
  {
   "cell_type": "code",
   "execution_count": 21,
   "metadata": {},
   "outputs": [],
   "source": [
    "aggregation = dict()\n",
    "for v in df_base_model.columns:\n",
    "    if v not in id_variables:\n",
    "        agg_new = make_agg(v)\n",
    "        aggregation = {**aggregation, **agg_new}"
   ]
  },
  {
   "cell_type": "code",
   "execution_count": 22,
   "metadata": {},
   "outputs": [
    {
     "name": "stderr",
     "output_type": "stream",
     "text": [
      "/anaconda3/envs/ml/lib/python3.6/site-packages/pandas/core/groupby/groupby.py:4656: FutureWarning: using a dict with renaming is deprecated and will be removed in a future version\n",
      "  return super(DataFrameGroupBy, self).aggregate(arg, *args, **kwargs)\n"
     ]
    }
   ],
   "source": [
    "df_user = df_base_model.groupby('fullVisitorId', as_index=False).agg(aggregation)"
   ]
  },
  {
   "cell_type": "code",
   "execution_count": 23,
   "metadata": {},
   "outputs": [],
   "source": [
    "df_user.columns = df_user.columns.droplevel(0)\n",
    "new_col = ['fullVisitorId']\n",
    "new_col.extend(df_user.columns[1:])\n",
    "df_user.columns = new_col"
   ]
  },
  {
   "cell_type": "code",
   "execution_count": 24,
   "metadata": {},
   "outputs": [
    {
     "data": {
      "text/html": [
       "<div>\n",
       "<style scoped>\n",
       "    .dataframe tbody tr th:only-of-type {\n",
       "        vertical-align: middle;\n",
       "    }\n",
       "\n",
       "    .dataframe tbody tr th {\n",
       "        vertical-align: top;\n",
       "    }\n",
       "\n",
       "    .dataframe thead th {\n",
       "        text-align: right;\n",
       "    }\n",
       "</style>\n",
       "<table border=\"1\" class=\"dataframe\">\n",
       "  <thead>\n",
       "    <tr style=\"text-align: right;\">\n",
       "      <th></th>\n",
       "      <th>fullVisitorId</th>\n",
       "      <th>is_transaction</th>\n",
       "      <th>transactionRevenue_total</th>\n",
       "      <th>bounces_mean</th>\n",
       "      <th>hits_mean</th>\n",
       "      <th>pageviews_mean</th>\n",
       "      <th>visitNumber_total</th>\n",
       "      <th>is_source_googleplex_freq</th>\n",
       "      <th>is_source_googleplex_rate</th>\n",
       "      <th>is_source_direct_freq</th>\n",
       "      <th>...</th>\n",
       "      <th>dow_freq</th>\n",
       "      <th>dow_rate</th>\n",
       "      <th>hour_freq</th>\n",
       "      <th>hour_rate</th>\n",
       "      <th>browser_chrome_freq</th>\n",
       "      <th>browser_chrome_rate</th>\n",
       "      <th>is_mobile_freq</th>\n",
       "      <th>is_mobile_rate</th>\n",
       "      <th>system_google_freq</th>\n",
       "      <th>system_google_rate</th>\n",
       "    </tr>\n",
       "  </thead>\n",
       "  <tbody>\n",
       "    <tr>\n",
       "      <th>0</th>\n",
       "      <td>4823595352351</td>\n",
       "      <td>0</td>\n",
       "      <td>0.0</td>\n",
       "      <td>1.0</td>\n",
       "      <td>1.0</td>\n",
       "      <td>1.0</td>\n",
       "      <td>1</td>\n",
       "      <td>0</td>\n",
       "      <td>0.0</td>\n",
       "      <td>0</td>\n",
       "      <td>...</td>\n",
       "      <td>1</td>\n",
       "      <td>1.0</td>\n",
       "      <td>14</td>\n",
       "      <td>14.0</td>\n",
       "      <td>1</td>\n",
       "      <td>1.0</td>\n",
       "      <td>0</td>\n",
       "      <td>0.0</td>\n",
       "      <td>0</td>\n",
       "      <td>0.0</td>\n",
       "    </tr>\n",
       "    <tr>\n",
       "      <th>1</th>\n",
       "      <td>5103959234087</td>\n",
       "      <td>0</td>\n",
       "      <td>0.0</td>\n",
       "      <td>0.0</td>\n",
       "      <td>10.0</td>\n",
       "      <td>8.0</td>\n",
       "      <td>1</td>\n",
       "      <td>0</td>\n",
       "      <td>0.0</td>\n",
       "      <td>0</td>\n",
       "      <td>...</td>\n",
       "      <td>6</td>\n",
       "      <td>6.0</td>\n",
       "      <td>22</td>\n",
       "      <td>22.0</td>\n",
       "      <td>1</td>\n",
       "      <td>1.0</td>\n",
       "      <td>1</td>\n",
       "      <td>1.0</td>\n",
       "      <td>1</td>\n",
       "      <td>1.0</td>\n",
       "    </tr>\n",
       "    <tr>\n",
       "      <th>2</th>\n",
       "      <td>10278554503158</td>\n",
       "      <td>0</td>\n",
       "      <td>0.0</td>\n",
       "      <td>0.0</td>\n",
       "      <td>11.0</td>\n",
       "      <td>8.0</td>\n",
       "      <td>1</td>\n",
       "      <td>0</td>\n",
       "      <td>0.0</td>\n",
       "      <td>0</td>\n",
       "      <td>...</td>\n",
       "      <td>4</td>\n",
       "      <td>4.0</td>\n",
       "      <td>5</td>\n",
       "      <td>5.0</td>\n",
       "      <td>1</td>\n",
       "      <td>1.0</td>\n",
       "      <td>0</td>\n",
       "      <td>0.0</td>\n",
       "      <td>0</td>\n",
       "      <td>0.0</td>\n",
       "    </tr>\n",
       "    <tr>\n",
       "      <th>3</th>\n",
       "      <td>20424342248747</td>\n",
       "      <td>0</td>\n",
       "      <td>0.0</td>\n",
       "      <td>0.0</td>\n",
       "      <td>17.0</td>\n",
       "      <td>13.0</td>\n",
       "      <td>1</td>\n",
       "      <td>0</td>\n",
       "      <td>0.0</td>\n",
       "      <td>0</td>\n",
       "      <td>...</td>\n",
       "      <td>3</td>\n",
       "      <td>3.0</td>\n",
       "      <td>7</td>\n",
       "      <td>7.0</td>\n",
       "      <td>1</td>\n",
       "      <td>1.0</td>\n",
       "      <td>0</td>\n",
       "      <td>0.0</td>\n",
       "      <td>0</td>\n",
       "      <td>0.0</td>\n",
       "    </tr>\n",
       "    <tr>\n",
       "      <th>4</th>\n",
       "      <td>26722803385797</td>\n",
       "      <td>0</td>\n",
       "      <td>0.0</td>\n",
       "      <td>0.0</td>\n",
       "      <td>3.0</td>\n",
       "      <td>2.0</td>\n",
       "      <td>1</td>\n",
       "      <td>0</td>\n",
       "      <td>0.0</td>\n",
       "      <td>0</td>\n",
       "      <td>...</td>\n",
       "      <td>0</td>\n",
       "      <td>0.0</td>\n",
       "      <td>10</td>\n",
       "      <td>10.0</td>\n",
       "      <td>0</td>\n",
       "      <td>0.0</td>\n",
       "      <td>0</td>\n",
       "      <td>0.0</td>\n",
       "      <td>0</td>\n",
       "      <td>0.0</td>\n",
       "    </tr>\n",
       "  </tbody>\n",
       "</table>\n",
       "<p>5 rows × 63 columns</p>\n",
       "</div>"
      ],
      "text/plain": [
       "    fullVisitorId  is_transaction  transactionRevenue_total  bounces_mean  \\\n",
       "0   4823595352351               0                       0.0           1.0   \n",
       "1   5103959234087               0                       0.0           0.0   \n",
       "2  10278554503158               0                       0.0           0.0   \n",
       "3  20424342248747               0                       0.0           0.0   \n",
       "4  26722803385797               0                       0.0           0.0   \n",
       "\n",
       "   hits_mean  pageviews_mean  visitNumber_total  is_source_googleplex_freq  \\\n",
       "0        1.0             1.0                  1                          0   \n",
       "1       10.0             8.0                  1                          0   \n",
       "2       11.0             8.0                  1                          0   \n",
       "3       17.0            13.0                  1                          0   \n",
       "4        3.0             2.0                  1                          0   \n",
       "\n",
       "   is_source_googleplex_rate  is_source_direct_freq         ...          \\\n",
       "0                        0.0                      0         ...           \n",
       "1                        0.0                      0         ...           \n",
       "2                        0.0                      0         ...           \n",
       "3                        0.0                      0         ...           \n",
       "4                        0.0                      0         ...           \n",
       "\n",
       "   dow_freq  dow_rate  hour_freq  hour_rate  browser_chrome_freq  \\\n",
       "0         1       1.0         14       14.0                    1   \n",
       "1         6       6.0         22       22.0                    1   \n",
       "2         4       4.0          5        5.0                    1   \n",
       "3         3       3.0          7        7.0                    1   \n",
       "4         0       0.0         10       10.0                    0   \n",
       "\n",
       "   browser_chrome_rate  is_mobile_freq  is_mobile_rate  system_google_freq  \\\n",
       "0                  1.0               0             0.0                   0   \n",
       "1                  1.0               1             1.0                   1   \n",
       "2                  1.0               0             0.0                   0   \n",
       "3                  1.0               0             0.0                   0   \n",
       "4                  0.0               0             0.0                   0   \n",
       "\n",
       "   system_google_rate  \n",
       "0                 0.0  \n",
       "1                 1.0  \n",
       "2                 0.0  \n",
       "3                 0.0  \n",
       "4                 0.0  \n",
       "\n",
       "[5 rows x 63 columns]"
      ]
     },
     "execution_count": 24,
     "metadata": {},
     "output_type": "execute_result"
    }
   ],
   "source": [
    "df_user.head()"
   ]
  },
  {
   "cell_type": "code",
   "execution_count": 25,
   "metadata": {},
   "outputs": [],
   "source": [
    "df_user.to_csv('../data/train_user.csv', sep=',')"
   ]
  },
  {
   "cell_type": "markdown",
   "metadata": {},
   "source": [
    "# try classification model"
   ]
  },
  {
   "cell_type": "code",
   "execution_count": 26,
   "metadata": {},
   "outputs": [],
   "source": [
    "from sklearn.model_selection import train_test_split\n",
    "from sklearn.covariance import EllipticEnvelope\n",
    "from sklearn.metrics import precision_recall_fscore_support"
   ]
  },
  {
   "cell_type": "code",
   "execution_count": 27,
   "metadata": {},
   "outputs": [
    {
     "name": "stderr",
     "output_type": "stream",
     "text": [
      "/anaconda3/envs/ml/lib/python3.6/site-packages/sklearn/covariance/robust_covariance.py:646: UserWarning: The covariance matrix associated to your dataset is not full rank\n",
      "  warnings.warn(\"The covariance matrix associated to your dataset \"\n",
      "/anaconda3/envs/ml/lib/python3.6/site-packages/sklearn/metrics/classification.py:1143: UndefinedMetricWarning: Precision and F-score are ill-defined and being set to 0.0 in labels with no predicted samples.\n",
      "  'precision', 'predicted', average, warn_for)\n",
      "/anaconda3/envs/ml/lib/python3.6/site-packages/sklearn/metrics/classification.py:1145: UndefinedMetricWarning: Recall and F-score are ill-defined and being set to 0.0 in labels with no true samples.\n",
      "  'recall', 'true', average, warn_for)\n"
     ]
    },
    {
     "data": {
      "text/plain": [
       "(0.0012341916922707981, 0.07780827194376234, 0.002429841338577941, None)"
      ]
     },
     "execution_count": 27,
     "metadata": {},
     "output_type": "execute_result"
    }
   ],
   "source": [
    "X_train, X_test, y_train, y_test = train_test_split(\n",
    "    df_user.drop(['is_transaction', 'fullVisitorId', 'transactionRevenue_total'], axis=1), \n",
    "    df_user['is_transaction'], test_size=0.33, random_state=42)\n",
    "estimator = EllipticEnvelope()\n",
    "y_predicted = estimator.fit_predict(X_train, y_train)\n",
    "precision_recall_fscore_support(y_train, y_predicted, average='macro')"
   ]
  },
  {
   "cell_type": "markdown",
   "metadata": {},
   "source": [
    "# try regression model"
   ]
  },
  {
   "cell_type": "code",
   "execution_count": 29,
   "metadata": {},
   "outputs": [],
   "source": [
    "from sklearn.linear_model import LinearRegression\n",
    "X_train, X_test, y_train, y_test = train_test_split(\n",
    "    df_user.drop(['is_transaction', 'fullVisitorId', 'transactionRevenue_total'], axis=1), \n",
    "    df_user['transactionRevenue_total'], test_size=0.33, random_state=42)"
   ]
  },
  {
   "cell_type": "code",
   "execution_count": 30,
   "metadata": {},
   "outputs": [],
   "source": [
    "from sklearn.metrics import mean_squared_error"
   ]
  },
  {
   "cell_type": "code",
   "execution_count": 31,
   "metadata": {},
   "outputs": [],
   "source": [
    "def fit_regression(model, X, y) -> float:\n",
    "    \"Fit a regression model, returning mse. Use code above an example.\"\n",
    "    X_train, X_test, y_train, y_test = train_test_split(X, \n",
    "                                                        y, \n",
    "                                                        test_size=0.30,\n",
    "                                                        random_state=42)\n",
    "\n",
    "    ### BEGIN SOLUTION\n",
    "    reg = model()\n",
    "    reg.fit(X_train, y_train)\n",
    "    y_predicted = reg.predict(X_test)\n",
    "    mse = mean_squared_error(y_test, y_predicted)\n",
    "    return mse\n",
    "    ### END SOLUTION"
   ]
  },
  {
   "cell_type": "code",
   "execution_count": 32,
   "metadata": {},
   "outputs": [
    {
     "data": {
      "text/plain": [
       "3.347180975435582"
      ]
     },
     "execution_count": 32,
     "metadata": {},
     "output_type": "execute_result"
    }
   ],
   "source": [
    "fit_regression(LinearRegression, df_user.drop(['is_transaction', 'fullVisitorId', 'transactionRevenue_total'], axis=1),\n",
    "              df_user['transactionRevenue_total'])"
   ]
  },
  {
   "cell_type": "code",
   "execution_count": 33,
   "metadata": {},
   "outputs": [
    {
     "data": {
      "text/plain": [
       "0.22106861818361134"
      ]
     },
     "execution_count": 33,
     "metadata": {},
     "output_type": "execute_result"
    }
   ],
   "source": [
    "glm = LinearRegression()\n",
    "reg = glm.fit(X_train, y_train)\n",
    "reg.score(X_train, y_train)"
   ]
  },
  {
   "cell_type": "markdown",
   "metadata": {},
   "source": [
    "# try logistic regression"
   ]
  },
  {
   "cell_type": "code",
   "execution_count": 34,
   "metadata": {},
   "outputs": [],
   "source": [
    "from sklearn.linear_model import LogisticRegression\n",
    "X_train, X_test, y_train, y_test = train_test_split(\n",
    "    df_user.drop(['is_transaction', 'fullVisitorId', 'transactionRevenue_total'], axis=1), \n",
    "    df_user['is_transaction'], test_size=0.33, random_state=42)"
   ]
  },
  {
   "cell_type": "code",
   "execution_count": 36,
   "metadata": {},
   "outputs": [],
   "source": [
    "from sklearn.linear_model import LogisticRegression"
   ]
  },
  {
   "cell_type": "code",
   "execution_count": 37,
   "metadata": {},
   "outputs": [],
   "source": [
    "def fit_classification(model, X, y) -> float:\n",
    "    \"Fit a regression model, returning mse. Use code above an example.\"\n",
    "    X_train, X_test, y_train, y_test = train_test_split(X, \n",
    "                                                        y, \n",
    "                                                        test_size=0.30,\n",
    "                                                        random_state=42)\n",
    "\n",
    "    ### BEGIN SOLUTION\n",
    "    reg = model()\n",
    "    reg.fit(X_train, y_train)\n",
    "    y_pred = reg.predict(X_test)\n",
    "    confusion_matrix = confusion_matrix(y_test, y_pred)\n",
    "    return (confusion_matrix, reg.score(X_test, y_test))\n",
    "    ### END SOLUTION"
   ]
  },
  {
   "cell_type": "code",
   "execution_count": 38,
   "metadata": {},
   "outputs": [],
   "source": [
    "X = df_user.drop(['is_transaction', 'fullVisitorId', 'transactionRevenue_total'], axis=1)\n",
    "y = df_user['is_transaction']"
   ]
  },
  {
   "cell_type": "code",
   "execution_count": 42,
   "metadata": {},
   "outputs": [],
   "source": [
    "from matplotlib import pyplot as plt"
   ]
  },
  {
   "cell_type": "code",
   "execution_count": null,
   "metadata": {},
   "outputs": [],
   "source": [
    "plt.plot"
   ]
  },
  {
   "cell_type": "code",
   "execution_count": 39,
   "metadata": {
    "scrolled": true
   },
   "outputs": [
    {
     "data": {
      "text/plain": [
       "Index(['bounces_mean', 'hits_mean', 'pageviews_mean', 'visitNumber_total',\n",
       "       'is_source_googleplex_freq', 'is_source_googleplex_rate',\n",
       "       'is_source_direct_freq', 'is_source_direct_rate',\n",
       "       'is_source_google_freq', 'is_source_google_rate',\n",
       "       'is_medium_referral_freq', 'is_medium_referral_rate',\n",
       "       'is_medium_none_freq', 'is_medium_none_rate', 'is_medium_organic_freq',\n",
       "       'is_medium_organic_rate', 'is_bayarea_freq', 'is_bayarea_rate',\n",
       "       'Africa_freq', 'Africa_rate', 'Americas_freq', 'Americas_rate',\n",
       "       'Asia_freq', 'Asia_rate', 'Europe_freq', 'Europe_rate', 'Oceania_freq',\n",
       "       'Oceania_rate', 'next_session_1_adjmean', 'last_session_1_adjmean',\n",
       "       'q1_freq', 'q1_rate', 'q2_freq', 'q2_rate', 'q3_freq', 'q3_rate',\n",
       "       'q4_freq', 'q4_rate', 'weekday_freq', 'weekday_rate', 'h_0_6_freq',\n",
       "       'h_0_6_rate', 'h_7_12_freq', 'h_7_12_rate', 'h_13_17_freq',\n",
       "       'h_13_17_rate', 'h_18_23_freq', 'h_18_23_rate', 'month_freq',\n",
       "       'month_rate', 'dow_freq', 'dow_rate', 'hour_freq', 'hour_rate',\n",
       "       'browser_chrome_freq', 'browser_chrome_rate', 'is_mobile_freq',\n",
       "       'is_mobile_rate', 'system_google_freq', 'system_google_rate'],\n",
       "      dtype='object')"
      ]
     },
     "execution_count": 39,
     "metadata": {},
     "output_type": "execute_result"
    }
   ],
   "source": [
    "X.columns"
   ]
  },
  {
   "cell_type": "code",
   "execution_count": 40,
   "metadata": {},
   "outputs": [
    {
     "name": "stderr",
     "output_type": "stream",
     "text": [
      "/anaconda3/envs/ml/lib/python3.6/site-packages/sklearn/linear_model/logistic.py:432: FutureWarning: Default solver will be changed to 'lbfgs' in 0.22. Specify a solver to silence this warning.\n",
      "  FutureWarning)\n"
     ]
    },
    {
     "data": {
      "text/plain": [
       "(array([[213711,    519],\n",
       "        [  2176,    735]]), 0.9875887096402798)"
      ]
     },
     "execution_count": 40,
     "metadata": {},
     "output_type": "execute_result"
    }
   ],
   "source": [
    "fit_classification(LogisticRegression, X, y)"
   ]
  },
  {
   "cell_type": "code",
   "execution_count": null,
   "metadata": {},
   "outputs": [],
   "source": []
  }
 ],
 "metadata": {
  "kernelspec": {
   "display_name": "Python 3",
   "language": "python",
   "name": "python3"
  },
  "language_info": {
   "codemirror_mode": {
    "name": "ipython",
    "version": 3
   },
   "file_extension": ".py",
   "mimetype": "text/x-python",
   "name": "python",
   "nbconvert_exporter": "python",
   "pygments_lexer": "ipython3",
   "version": "3.6.6"
  }
 },
 "nbformat": 4,
 "nbformat_minor": 2
}
