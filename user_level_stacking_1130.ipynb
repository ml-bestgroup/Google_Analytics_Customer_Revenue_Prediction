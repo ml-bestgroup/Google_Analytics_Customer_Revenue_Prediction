{
 "cells": [
  {
   "cell_type": "code",
   "execution_count": 2,
   "metadata": {},
   "outputs": [],
   "source": [
    "import pandas as pd\n",
    "import warnings; warnings.simplefilter('ignore')"
   ]
  },
  {
   "cell_type": "code",
   "execution_count": 175,
   "metadata": {},
   "outputs": [],
   "source": [
    "df_user = pd.read_csv('./data/train_user.csv')"
   ]
  },
  {
   "cell_type": "code",
   "execution_count": 176,
   "metadata": {},
   "outputs": [],
   "source": [
    "df_user = df_user.drop(['Unnamed: 0','month_freq',\n",
    "                        'month_rate', 'dow_freq', 'dow_rate', \n",
    "                        'hour_freq', 'hour_rate'], axis=1)"
   ]
  },
  {
   "cell_type": "code",
   "execution_count": 177,
   "metadata": {},
   "outputs": [
    {
     "data": {
      "text/html": [
       "<div>\n",
       "<style scoped>\n",
       "    .dataframe tbody tr th:only-of-type {\n",
       "        vertical-align: middle;\n",
       "    }\n",
       "\n",
       "    .dataframe tbody tr th {\n",
       "        vertical-align: top;\n",
       "    }\n",
       "\n",
       "    .dataframe thead th {\n",
       "        text-align: right;\n",
       "    }\n",
       "</style>\n",
       "<table border=\"1\" class=\"dataframe\">\n",
       "  <thead>\n",
       "    <tr style=\"text-align: right;\">\n",
       "      <th></th>\n",
       "      <th>fullVisitorId</th>\n",
       "      <th>is_transaction</th>\n",
       "      <th>transactionRevenue_total</th>\n",
       "      <th>bounces_mean</th>\n",
       "      <th>hits_mean</th>\n",
       "      <th>pageviews_mean</th>\n",
       "      <th>visitNumber_total</th>\n",
       "      <th>is_source_googleplex_freq</th>\n",
       "      <th>is_source_googleplex_rate</th>\n",
       "      <th>is_source_direct_freq</th>\n",
       "      <th>...</th>\n",
       "      <th>h_13_17_freq</th>\n",
       "      <th>h_13_17_rate</th>\n",
       "      <th>h_18_23_freq</th>\n",
       "      <th>h_18_23_rate</th>\n",
       "      <th>browser_chrome_freq</th>\n",
       "      <th>browser_chrome_rate</th>\n",
       "      <th>is_mobile_freq</th>\n",
       "      <th>is_mobile_rate</th>\n",
       "      <th>system_google_freq</th>\n",
       "      <th>system_google_rate</th>\n",
       "    </tr>\n",
       "  </thead>\n",
       "  <tbody>\n",
       "    <tr>\n",
       "      <th>0</th>\n",
       "      <td>4823595352351</td>\n",
       "      <td>0</td>\n",
       "      <td>0.0</td>\n",
       "      <td>1.0</td>\n",
       "      <td>1.0</td>\n",
       "      <td>1.0</td>\n",
       "      <td>1</td>\n",
       "      <td>0</td>\n",
       "      <td>0.0</td>\n",
       "      <td>0</td>\n",
       "      <td>...</td>\n",
       "      <td>1</td>\n",
       "      <td>1.0</td>\n",
       "      <td>0</td>\n",
       "      <td>0.0</td>\n",
       "      <td>1</td>\n",
       "      <td>1.0</td>\n",
       "      <td>0</td>\n",
       "      <td>0.0</td>\n",
       "      <td>0</td>\n",
       "      <td>0.0</td>\n",
       "    </tr>\n",
       "    <tr>\n",
       "      <th>1</th>\n",
       "      <td>5103959234087</td>\n",
       "      <td>0</td>\n",
       "      <td>0.0</td>\n",
       "      <td>0.0</td>\n",
       "      <td>10.0</td>\n",
       "      <td>8.0</td>\n",
       "      <td>1</td>\n",
       "      <td>0</td>\n",
       "      <td>0.0</td>\n",
       "      <td>0</td>\n",
       "      <td>...</td>\n",
       "      <td>0</td>\n",
       "      <td>0.0</td>\n",
       "      <td>1</td>\n",
       "      <td>1.0</td>\n",
       "      <td>1</td>\n",
       "      <td>1.0</td>\n",
       "      <td>1</td>\n",
       "      <td>1.0</td>\n",
       "      <td>1</td>\n",
       "      <td>1.0</td>\n",
       "    </tr>\n",
       "    <tr>\n",
       "      <th>2</th>\n",
       "      <td>10278554503158</td>\n",
       "      <td>0</td>\n",
       "      <td>0.0</td>\n",
       "      <td>0.0</td>\n",
       "      <td>11.0</td>\n",
       "      <td>8.0</td>\n",
       "      <td>1</td>\n",
       "      <td>0</td>\n",
       "      <td>0.0</td>\n",
       "      <td>0</td>\n",
       "      <td>...</td>\n",
       "      <td>0</td>\n",
       "      <td>0.0</td>\n",
       "      <td>0</td>\n",
       "      <td>0.0</td>\n",
       "      <td>1</td>\n",
       "      <td>1.0</td>\n",
       "      <td>0</td>\n",
       "      <td>0.0</td>\n",
       "      <td>0</td>\n",
       "      <td>0.0</td>\n",
       "    </tr>\n",
       "    <tr>\n",
       "      <th>3</th>\n",
       "      <td>20424342248747</td>\n",
       "      <td>0</td>\n",
       "      <td>0.0</td>\n",
       "      <td>0.0</td>\n",
       "      <td>17.0</td>\n",
       "      <td>13.0</td>\n",
       "      <td>1</td>\n",
       "      <td>0</td>\n",
       "      <td>0.0</td>\n",
       "      <td>0</td>\n",
       "      <td>...</td>\n",
       "      <td>0</td>\n",
       "      <td>0.0</td>\n",
       "      <td>0</td>\n",
       "      <td>0.0</td>\n",
       "      <td>1</td>\n",
       "      <td>1.0</td>\n",
       "      <td>0</td>\n",
       "      <td>0.0</td>\n",
       "      <td>0</td>\n",
       "      <td>0.0</td>\n",
       "    </tr>\n",
       "    <tr>\n",
       "      <th>4</th>\n",
       "      <td>26722803385797</td>\n",
       "      <td>0</td>\n",
       "      <td>0.0</td>\n",
       "      <td>0.0</td>\n",
       "      <td>3.0</td>\n",
       "      <td>2.0</td>\n",
       "      <td>1</td>\n",
       "      <td>0</td>\n",
       "      <td>0.0</td>\n",
       "      <td>0</td>\n",
       "      <td>...</td>\n",
       "      <td>0</td>\n",
       "      <td>0.0</td>\n",
       "      <td>0</td>\n",
       "      <td>0.0</td>\n",
       "      <td>0</td>\n",
       "      <td>0.0</td>\n",
       "      <td>0</td>\n",
       "      <td>0.0</td>\n",
       "      <td>0</td>\n",
       "      <td>0.0</td>\n",
       "    </tr>\n",
       "  </tbody>\n",
       "</table>\n",
       "<p>5 rows × 57 columns</p>\n",
       "</div>"
      ],
      "text/plain": [
       "    fullVisitorId  is_transaction  transactionRevenue_total  bounces_mean  \\\n",
       "0   4823595352351               0                       0.0           1.0   \n",
       "1   5103959234087               0                       0.0           0.0   \n",
       "2  10278554503158               0                       0.0           0.0   \n",
       "3  20424342248747               0                       0.0           0.0   \n",
       "4  26722803385797               0                       0.0           0.0   \n",
       "\n",
       "   hits_mean  pageviews_mean  visitNumber_total  is_source_googleplex_freq  \\\n",
       "0        1.0             1.0                  1                          0   \n",
       "1       10.0             8.0                  1                          0   \n",
       "2       11.0             8.0                  1                          0   \n",
       "3       17.0            13.0                  1                          0   \n",
       "4        3.0             2.0                  1                          0   \n",
       "\n",
       "   is_source_googleplex_rate  is_source_direct_freq         ...          \\\n",
       "0                        0.0                      0         ...           \n",
       "1                        0.0                      0         ...           \n",
       "2                        0.0                      0         ...           \n",
       "3                        0.0                      0         ...           \n",
       "4                        0.0                      0         ...           \n",
       "\n",
       "   h_13_17_freq  h_13_17_rate  h_18_23_freq  h_18_23_rate  \\\n",
       "0             1           1.0             0           0.0   \n",
       "1             0           0.0             1           1.0   \n",
       "2             0           0.0             0           0.0   \n",
       "3             0           0.0             0           0.0   \n",
       "4             0           0.0             0           0.0   \n",
       "\n",
       "   browser_chrome_freq  browser_chrome_rate  is_mobile_freq  is_mobile_rate  \\\n",
       "0                    1                  1.0               0             0.0   \n",
       "1                    1                  1.0               1             1.0   \n",
       "2                    1                  1.0               0             0.0   \n",
       "3                    1                  1.0               0             0.0   \n",
       "4                    0                  0.0               0             0.0   \n",
       "\n",
       "   system_google_freq  system_google_rate  \n",
       "0                   0                 0.0  \n",
       "1                   1                 1.0  \n",
       "2                   0                 0.0  \n",
       "3                   0                 0.0  \n",
       "4                   0                 0.0  \n",
       "\n",
       "[5 rows x 57 columns]"
      ]
     },
     "execution_count": 177,
     "metadata": {},
     "output_type": "execute_result"
    }
   ],
   "source": [
    "df_user.head()"
   ]
  },
  {
   "cell_type": "code",
   "execution_count": 178,
   "metadata": {},
   "outputs": [
    {
     "data": {
      "text/plain": [
       "Index(['fullVisitorId', 'is_transaction', 'transactionRevenue_total',\n",
       "       'bounces_mean', 'hits_mean', 'pageviews_mean', 'visitNumber_total',\n",
       "       'is_source_googleplex_freq', 'is_source_googleplex_rate',\n",
       "       'is_source_direct_freq', 'is_source_direct_rate',\n",
       "       'is_source_google_freq', 'is_source_google_rate',\n",
       "       'is_medium_referral_freq', 'is_medium_referral_rate',\n",
       "       'is_medium_none_freq', 'is_medium_none_rate', 'is_medium_organic_freq',\n",
       "       'is_medium_organic_rate', 'is_bayarea_freq', 'is_bayarea_rate',\n",
       "       'Africa_freq', 'Africa_rate', 'Americas_freq', 'Americas_rate',\n",
       "       'Asia_freq', 'Asia_rate', 'Europe_freq', 'Europe_rate', 'Oceania_freq',\n",
       "       'Oceania_rate', 'next_session_1_adjmean', 'last_session_1_adjmean',\n",
       "       'q1_freq', 'q1_rate', 'q2_freq', 'q2_rate', 'q3_freq', 'q3_rate',\n",
       "       'q4_freq', 'q4_rate', 'weekday_freq', 'weekday_rate', 'h_0_6_freq',\n",
       "       'h_0_6_rate', 'h_7_12_freq', 'h_7_12_rate', 'h_13_17_freq',\n",
       "       'h_13_17_rate', 'h_18_23_freq', 'h_18_23_rate', 'browser_chrome_freq',\n",
       "       'browser_chrome_rate', 'is_mobile_freq', 'is_mobile_rate',\n",
       "       'system_google_freq', 'system_google_rate'],\n",
       "      dtype='object')"
      ]
     },
     "execution_count": 178,
     "metadata": {},
     "output_type": "execute_result"
    }
   ],
   "source": [
    "df_user.columns"
   ]
  },
  {
   "cell_type": "code",
   "execution_count": 8,
   "metadata": {},
   "outputs": [
    {
     "data": {
      "text/plain": [
       "723803"
      ]
     },
     "execution_count": 8,
     "metadata": {},
     "output_type": "execute_result"
    }
   ],
   "source": [
    "len(df_user)"
   ]
  },
  {
   "cell_type": "markdown",
   "metadata": {},
   "source": [
    "## split"
   ]
  },
  {
   "cell_type": "code",
   "execution_count": 179,
   "metadata": {},
   "outputs": [
    {
     "data": {
      "text/plain": [
       "484948"
      ]
     },
     "execution_count": 179,
     "metadata": {},
     "output_type": "execute_result"
    }
   ],
   "source": [
    "df_user_train = df_user.sample(frac=0.67, random_state=43)\n",
    "len(df_user_train)"
   ]
  },
  {
   "cell_type": "markdown",
   "metadata": {},
   "source": [
    "## from X_train, y_train, get balanced sample"
   ]
  },
  {
   "cell_type": "code",
   "execution_count": 180,
   "metadata": {},
   "outputs": [
    {
     "data": {
      "text/plain": [
       "6911"
      ]
     },
     "execution_count": 180,
     "metadata": {},
     "output_type": "execute_result"
    }
   ],
   "source": [
    "df_user_0 = df_user_train[df_user_train['is_transaction']==1]\n",
    "len(df_user_0)"
   ]
  },
  {
   "cell_type": "code",
   "execution_count": 181,
   "metadata": {},
   "outputs": [
    {
     "data": {
      "text/plain": [
       "6911"
      ]
     },
     "execution_count": 181,
     "metadata": {},
     "output_type": "execute_result"
    }
   ],
   "source": [
    "df_user_1 = df_user_train[df_user_train['is_transaction']==0].sample(\n",
    "    n=len(df_user_0), random_state=3\n",
    ")\n",
    "len(df_user_1)"
   ]
  },
  {
   "cell_type": "code",
   "execution_count": 182,
   "metadata": {},
   "outputs": [
    {
     "data": {
      "text/plain": [
       "Index(['fullVisitorId', 'is_transaction', 'transactionRevenue_total',\n",
       "       'bounces_mean', 'hits_mean', 'pageviews_mean', 'visitNumber_total',\n",
       "       'is_source_googleplex_freq', 'is_source_googleplex_rate',\n",
       "       'is_source_direct_freq', 'is_source_direct_rate',\n",
       "       'is_source_google_freq', 'is_source_google_rate',\n",
       "       'is_medium_referral_freq', 'is_medium_referral_rate',\n",
       "       'is_medium_none_freq', 'is_medium_none_rate', 'is_medium_organic_freq',\n",
       "       'is_medium_organic_rate', 'is_bayarea_freq', 'is_bayarea_rate',\n",
       "       'Africa_freq', 'Africa_rate', 'Americas_freq', 'Americas_rate',\n",
       "       'Asia_freq', 'Asia_rate', 'Europe_freq', 'Europe_rate', 'Oceania_freq',\n",
       "       'Oceania_rate', 'next_session_1_adjmean', 'last_session_1_adjmean',\n",
       "       'q1_freq', 'q1_rate', 'q2_freq', 'q2_rate', 'q3_freq', 'q3_rate',\n",
       "       'q4_freq', 'q4_rate', 'weekday_freq', 'weekday_rate', 'h_0_6_freq',\n",
       "       'h_0_6_rate', 'h_7_12_freq', 'h_7_12_rate', 'h_13_17_freq',\n",
       "       'h_13_17_rate', 'h_18_23_freq', 'h_18_23_rate', 'browser_chrome_freq',\n",
       "       'browser_chrome_rate', 'is_mobile_freq', 'is_mobile_rate',\n",
       "       'system_google_freq', 'system_google_rate'],\n",
       "      dtype='object')"
      ]
     },
     "execution_count": 182,
     "metadata": {},
     "output_type": "execute_result"
    }
   ],
   "source": [
    "df_user_balanced = pd.concat([df_user_0,df_user_1])\n",
    "df_user_balanced.columns"
   ]
  },
  {
   "cell_type": "code",
   "execution_count": 183,
   "metadata": {},
   "outputs": [],
   "source": [
    "df_user_test = df_user.loc[~df_user.index.isin(df_user_train.index), :]"
   ]
  },
  {
   "cell_type": "markdown",
   "metadata": {},
   "source": [
    "precision_recall_fscore_support(y_test, y_pred, average='macro')"
   ]
  },
  {
   "cell_type": "code",
   "execution_count": 246,
   "metadata": {},
   "outputs": [
    {
     "data": {
      "text/plain": [
       "pandas.core.frame.DataFrame"
      ]
     },
     "execution_count": 246,
     "metadata": {},
     "output_type": "execute_result"
    }
   ],
   "source": [
    "type(X_train)"
   ]
  },
  {
   "cell_type": "markdown",
   "metadata": {},
   "source": [
    "## Stacking"
   ]
  },
  {
   "cell_type": "code",
   "execution_count": 184,
   "metadata": {},
   "outputs": [],
   "source": [
    "# from sklearn.base import BaseEstimator, ClassifierMixin\n",
    "# import numpy as np\n",
    "\n",
    "# class StackedRegressor(BaseEstimator, ClassifierMixin):  \n",
    "#     def __init__(self, classifier=None, regressor=None):\n",
    "#         self.classifier = classifier\n",
    "#         self.regressor = regressor\n",
    "        \n",
    "#     def fit(self, X, class_labels, regressor_labels):\n",
    "#         self.classifier.fit(X,class_labels)\n",
    "#         self.regressor.fit(X,regressor_labels)\n",
    "        \n",
    "#     def predict(self, X, y=None):\n",
    "#         class_predict = self.classifier.predict(X)\n",
    "#         regressor_predict = self.regressor.predict(X)\n",
    "#         return class_predict, np.multiply(class_predict,regressor_predict)"
   ]
  },
  {
   "cell_type": "code",
   "execution_count": 278,
   "metadata": {},
   "outputs": [],
   "source": [
    "# from sklearn.base import BaseEstimator, ClassifierMixin\n",
    "# import numpy as np\n",
    "\n",
    "# class StackedRegressor(BaseEstimator, ClassifierMixin):  \n",
    "#     def __init__(self, classifier=None, regressor=None):\n",
    "#         self.classifier = classifier\n",
    "#         self.regressor = regressor\n",
    "        \n",
    "#     def fit_clf(self, X, class_labels):\n",
    "#         self.classifier.fit(X,class_labels)\n",
    "    \n",
    "#     def fit_reg(self, X, class_labels, regressor_labels):\n",
    "#         self.classifier.fit(X,class_labels)\n",
    "#         pred_class_labels = self.classifier.predict(X)\n",
    "#         pred_class_labels_df = pd.DataFrame(\n",
    "#             pred_class_labels, columns = ['pred_class_label'])\n",
    "#         X = X.reset_index(drop=True)\n",
    "#         pred_class_labels_df = pred_class_labels_df.reset_index(drop=True)\n",
    "#         X = X.join(pred_class_labels_df)\n",
    "#         self.regressor.fit(X,regressor_labels)\n",
    "        \n",
    "#     def predict(self, X, y=None):\n",
    "#         pred_class_labels = self.classifier.predict(X)\n",
    "#         pred_class_labels_df = pd.DataFrame(\n",
    "#             pred_class_labels, columns = ['pred_class_label'])\n",
    "#         X = X.reset_index(drop=True)\n",
    "#         pred_class_labels_df = pred_class_labels_df.reset_index(drop=True)\n",
    "#         X = X.join(pred_class_labels_df)\n",
    "#         regressor_predict = self.regressor.predict(X)\n",
    "#         return pred_class_labels, regressor_predict\n",
    "    \n",
    "#     def score(self, regressor_predict, y):\n",
    "#         return np.sqrt(np.mean((regressor_predict - y.values)**2))"
   ]
  },
  {
   "cell_type": "code",
   "execution_count": 315,
   "metadata": {},
   "outputs": [],
   "source": [
    "from sklearn.base import BaseEstimator, ClassifierMixin\n",
    "import numpy as np\n",
    "\n",
    "class StackedRegressor(BaseEstimator, ClassifierMixin):  \n",
    "    def __init__(self, classifier=None, regressor=None):\n",
    "        self.classifier = classifier\n",
    "        self.regressor = regressor\n",
    "        \n",
    "    def fit(self, X, class_labels, regressor_labels):\n",
    "        self.classifier.fit(X,class_labels)\n",
    "        \n",
    "        X = X.reset_index(drop=True)\n",
    "        class_labels = class_labels.reset_index(drop=True)\n",
    "        regressor_labels = regressor_labels.reset_index(drop=True)    \n",
    "        X_reg = X[class_labels==1]\n",
    "        regressor_labels = regressor_labels[class_labels==1]\n",
    "        self.regressor.fit(X_reg,regressor_labels)\n",
    "        \n",
    "    def predict(self, X, y=None):\n",
    "        class_predict = self.classifier.predict(X)\n",
    "        regressor_predict = self.regressor.predict(X)\n",
    "        return class_predict, np.multiply(class_predict,regressor_predict)\n",
    "    \n",
    "    def score(self, regressor_predict, y):\n",
    "        return np.sqrt(np.mean((regressor_predict - y.values)**2))"
   ]
  },
  {
   "cell_type": "code",
   "execution_count": 254,
   "metadata": {},
   "outputs": [],
   "source": [
    "from sklearn.pipeline import Pipeline\n",
    "from sklearn.linear_model import LogisticRegression\n",
    "from sklearn.linear_model import LinearRegression\n",
    "import numpy as np\n",
    "import pandas as pd\n",
    "from sklearn.model_selection import train_test_split\n",
    "from sklearn.base import BaseEstimator, ClassifierMixin\n",
    "from sklearn.preprocessing import StandardScaler\n",
    "from sklearn.ensemble import RandomForestRegressor"
   ]
  },
  {
   "cell_type": "code",
   "execution_count": 186,
   "metadata": {},
   "outputs": [
    {
     "data": {
      "text/html": [
       "<div>\n",
       "<style scoped>\n",
       "    .dataframe tbody tr th:only-of-type {\n",
       "        vertical-align: middle;\n",
       "    }\n",
       "\n",
       "    .dataframe tbody tr th {\n",
       "        vertical-align: top;\n",
       "    }\n",
       "\n",
       "    .dataframe thead th {\n",
       "        text-align: right;\n",
       "    }\n",
       "</style>\n",
       "<table border=\"1\" class=\"dataframe\">\n",
       "  <thead>\n",
       "    <tr style=\"text-align: right;\">\n",
       "      <th></th>\n",
       "      <th>fullVisitorId</th>\n",
       "      <th>is_transaction</th>\n",
       "      <th>transactionRevenue_total</th>\n",
       "      <th>bounces_mean</th>\n",
       "      <th>hits_mean</th>\n",
       "      <th>pageviews_mean</th>\n",
       "      <th>visitNumber_total</th>\n",
       "      <th>is_source_googleplex_freq</th>\n",
       "      <th>is_source_googleplex_rate</th>\n",
       "      <th>is_source_direct_freq</th>\n",
       "      <th>...</th>\n",
       "      <th>h_13_17_freq</th>\n",
       "      <th>h_13_17_rate</th>\n",
       "      <th>h_18_23_freq</th>\n",
       "      <th>h_18_23_rate</th>\n",
       "      <th>browser_chrome_freq</th>\n",
       "      <th>browser_chrome_rate</th>\n",
       "      <th>is_mobile_freq</th>\n",
       "      <th>is_mobile_rate</th>\n",
       "      <th>system_google_freq</th>\n",
       "      <th>system_google_rate</th>\n",
       "    </tr>\n",
       "  </thead>\n",
       "  <tbody>\n",
       "    <tr>\n",
       "      <th>1</th>\n",
       "      <td>5103959234087</td>\n",
       "      <td>0</td>\n",
       "      <td>0.0</td>\n",
       "      <td>0.0</td>\n",
       "      <td>10.0</td>\n",
       "      <td>8.0</td>\n",
       "      <td>1</td>\n",
       "      <td>0</td>\n",
       "      <td>0.0</td>\n",
       "      <td>0</td>\n",
       "      <td>...</td>\n",
       "      <td>0</td>\n",
       "      <td>0.0</td>\n",
       "      <td>1</td>\n",
       "      <td>1.0</td>\n",
       "      <td>1</td>\n",
       "      <td>1.0</td>\n",
       "      <td>1</td>\n",
       "      <td>1.0</td>\n",
       "      <td>1</td>\n",
       "      <td>1.0</td>\n",
       "    </tr>\n",
       "    <tr>\n",
       "      <th>2</th>\n",
       "      <td>10278554503158</td>\n",
       "      <td>0</td>\n",
       "      <td>0.0</td>\n",
       "      <td>0.0</td>\n",
       "      <td>11.0</td>\n",
       "      <td>8.0</td>\n",
       "      <td>1</td>\n",
       "      <td>0</td>\n",
       "      <td>0.0</td>\n",
       "      <td>0</td>\n",
       "      <td>...</td>\n",
       "      <td>0</td>\n",
       "      <td>0.0</td>\n",
       "      <td>0</td>\n",
       "      <td>0.0</td>\n",
       "      <td>1</td>\n",
       "      <td>1.0</td>\n",
       "      <td>0</td>\n",
       "      <td>0.0</td>\n",
       "      <td>0</td>\n",
       "      <td>0.0</td>\n",
       "    </tr>\n",
       "    <tr>\n",
       "      <th>19</th>\n",
       "      <td>64767209884626</td>\n",
       "      <td>0</td>\n",
       "      <td>0.0</td>\n",
       "      <td>0.5</td>\n",
       "      <td>4.5</td>\n",
       "      <td>3.5</td>\n",
       "      <td>2</td>\n",
       "      <td>0</td>\n",
       "      <td>0.0</td>\n",
       "      <td>0</td>\n",
       "      <td>...</td>\n",
       "      <td>0</td>\n",
       "      <td>0.0</td>\n",
       "      <td>0</td>\n",
       "      <td>0.0</td>\n",
       "      <td>2</td>\n",
       "      <td>1.0</td>\n",
       "      <td>2</td>\n",
       "      <td>1.0</td>\n",
       "      <td>2</td>\n",
       "      <td>1.0</td>\n",
       "    </tr>\n",
       "    <tr>\n",
       "      <th>20</th>\n",
       "      <td>68403966359845</td>\n",
       "      <td>0</td>\n",
       "      <td>0.0</td>\n",
       "      <td>0.0</td>\n",
       "      <td>2.0</td>\n",
       "      <td>2.0</td>\n",
       "      <td>1</td>\n",
       "      <td>0</td>\n",
       "      <td>0.0</td>\n",
       "      <td>0</td>\n",
       "      <td>...</td>\n",
       "      <td>0</td>\n",
       "      <td>0.0</td>\n",
       "      <td>0</td>\n",
       "      <td>0.0</td>\n",
       "      <td>0</td>\n",
       "      <td>0.0</td>\n",
       "      <td>1</td>\n",
       "      <td>1.0</td>\n",
       "      <td>0</td>\n",
       "      <td>0.0</td>\n",
       "    </tr>\n",
       "    <tr>\n",
       "      <th>22</th>\n",
       "      <td>75746323734481</td>\n",
       "      <td>0</td>\n",
       "      <td>0.0</td>\n",
       "      <td>0.0</td>\n",
       "      <td>3.0</td>\n",
       "      <td>3.0</td>\n",
       "      <td>1</td>\n",
       "      <td>0</td>\n",
       "      <td>0.0</td>\n",
       "      <td>0</td>\n",
       "      <td>...</td>\n",
       "      <td>0</td>\n",
       "      <td>0.0</td>\n",
       "      <td>0</td>\n",
       "      <td>0.0</td>\n",
       "      <td>1</td>\n",
       "      <td>1.0</td>\n",
       "      <td>0</td>\n",
       "      <td>0.0</td>\n",
       "      <td>0</td>\n",
       "      <td>0.0</td>\n",
       "    </tr>\n",
       "  </tbody>\n",
       "</table>\n",
       "<p>5 rows × 57 columns</p>\n",
       "</div>"
      ],
      "text/plain": [
       "     fullVisitorId  is_transaction  transactionRevenue_total  bounces_mean  \\\n",
       "1    5103959234087               0                       0.0           0.0   \n",
       "2   10278554503158               0                       0.0           0.0   \n",
       "19  64767209884626               0                       0.0           0.5   \n",
       "20  68403966359845               0                       0.0           0.0   \n",
       "22  75746323734481               0                       0.0           0.0   \n",
       "\n",
       "    hits_mean  pageviews_mean  visitNumber_total  is_source_googleplex_freq  \\\n",
       "1        10.0             8.0                  1                          0   \n",
       "2        11.0             8.0                  1                          0   \n",
       "19        4.5             3.5                  2                          0   \n",
       "20        2.0             2.0                  1                          0   \n",
       "22        3.0             3.0                  1                          0   \n",
       "\n",
       "    is_source_googleplex_rate  is_source_direct_freq         ...          \\\n",
       "1                         0.0                      0         ...           \n",
       "2                         0.0                      0         ...           \n",
       "19                        0.0                      0         ...           \n",
       "20                        0.0                      0         ...           \n",
       "22                        0.0                      0         ...           \n",
       "\n",
       "    h_13_17_freq  h_13_17_rate  h_18_23_freq  h_18_23_rate  \\\n",
       "1              0           0.0             1           1.0   \n",
       "2              0           0.0             0           0.0   \n",
       "19             0           0.0             0           0.0   \n",
       "20             0           0.0             0           0.0   \n",
       "22             0           0.0             0           0.0   \n",
       "\n",
       "    browser_chrome_freq  browser_chrome_rate  is_mobile_freq  is_mobile_rate  \\\n",
       "1                     1                  1.0               1             1.0   \n",
       "2                     1                  1.0               0             0.0   \n",
       "19                    2                  1.0               2             1.0   \n",
       "20                    0                  0.0               1             1.0   \n",
       "22                    1                  1.0               0             0.0   \n",
       "\n",
       "    system_google_freq  system_google_rate  \n",
       "1                    1                 1.0  \n",
       "2                    0                 0.0  \n",
       "19                   2                 1.0  \n",
       "20                   0                 0.0  \n",
       "22                   0                 0.0  \n",
       "\n",
       "[5 rows x 57 columns]"
      ]
     },
     "execution_count": 186,
     "metadata": {},
     "output_type": "execute_result"
    }
   ],
   "source": [
    "df_user_test.head()"
   ]
  },
  {
   "cell_type": "code",
   "execution_count": 255,
   "metadata": {},
   "outputs": [],
   "source": [
    "X_train = df_user_balanced.drop(['is_transaction', 'fullVisitorId', 'transactionRevenue_total'], axis=1)\n",
    "# scaled_x = scaler.fit_transform(X_train)\n",
    "# X_train = pd.DataFrame(scaled_x, columns=X_train.columns)\n",
    "class_train = df_user_balanced['is_transaction'].astype(int)\n",
    "regressor_train = df_user_balanced['transactionRevenue_total']"
   ]
  },
  {
   "cell_type": "code",
   "execution_count": 262,
   "metadata": {},
   "outputs": [
    {
     "data": {
      "text/plain": [
       "(13822, 54)"
      ]
     },
     "execution_count": 262,
     "metadata": {},
     "output_type": "execute_result"
    }
   ],
   "source": [
    "X_train.shape"
   ]
  },
  {
   "cell_type": "code",
   "execution_count": 260,
   "metadata": {},
   "outputs": [
    {
     "data": {
      "text/plain": [
       "(13822,)"
      ]
     },
     "execution_count": 260,
     "metadata": {},
     "output_type": "execute_result"
    }
   ],
   "source": [
    "class_train.shape"
   ]
  },
  {
   "cell_type": "code",
   "execution_count": 261,
   "metadata": {},
   "outputs": [
    {
     "data": {
      "text/plain": [
       "(13822,)"
      ]
     },
     "execution_count": 261,
     "metadata": {},
     "output_type": "execute_result"
    }
   ],
   "source": [
    "regressor_train.shape"
   ]
  },
  {
   "cell_type": "code",
   "execution_count": 188,
   "metadata": {},
   "outputs": [
    {
     "data": {
      "text/html": [
       "<div>\n",
       "<style scoped>\n",
       "    .dataframe tbody tr th:only-of-type {\n",
       "        vertical-align: middle;\n",
       "    }\n",
       "\n",
       "    .dataframe tbody tr th {\n",
       "        vertical-align: top;\n",
       "    }\n",
       "\n",
       "    .dataframe thead th {\n",
       "        text-align: right;\n",
       "    }\n",
       "</style>\n",
       "<table border=\"1\" class=\"dataframe\">\n",
       "  <thead>\n",
       "    <tr style=\"text-align: right;\">\n",
       "      <th></th>\n",
       "      <th>bounces_mean</th>\n",
       "      <th>hits_mean</th>\n",
       "      <th>pageviews_mean</th>\n",
       "      <th>visitNumber_total</th>\n",
       "      <th>is_source_googleplex_freq</th>\n",
       "      <th>is_source_googleplex_rate</th>\n",
       "      <th>is_source_direct_freq</th>\n",
       "      <th>is_source_direct_rate</th>\n",
       "      <th>is_source_google_freq</th>\n",
       "      <th>is_source_google_rate</th>\n",
       "      <th>...</th>\n",
       "      <th>h_13_17_freq</th>\n",
       "      <th>h_13_17_rate</th>\n",
       "      <th>h_18_23_freq</th>\n",
       "      <th>h_18_23_rate</th>\n",
       "      <th>browser_chrome_freq</th>\n",
       "      <th>browser_chrome_rate</th>\n",
       "      <th>is_mobile_freq</th>\n",
       "      <th>is_mobile_rate</th>\n",
       "      <th>system_google_freq</th>\n",
       "      <th>system_google_rate</th>\n",
       "    </tr>\n",
       "  </thead>\n",
       "  <tbody>\n",
       "    <tr>\n",
       "      <th>625118</th>\n",
       "      <td>0.571429</td>\n",
       "      <td>4.714286</td>\n",
       "      <td>4.428571</td>\n",
       "      <td>7</td>\n",
       "      <td>0</td>\n",
       "      <td>0.0</td>\n",
       "      <td>0</td>\n",
       "      <td>0.0</td>\n",
       "      <td>0</td>\n",
       "      <td>0.0</td>\n",
       "      <td>...</td>\n",
       "      <td>1</td>\n",
       "      <td>0.142857</td>\n",
       "      <td>0</td>\n",
       "      <td>0.000000</td>\n",
       "      <td>7</td>\n",
       "      <td>1.0</td>\n",
       "      <td>0</td>\n",
       "      <td>0.0</td>\n",
       "      <td>7</td>\n",
       "      <td>1.0</td>\n",
       "    </tr>\n",
       "    <tr>\n",
       "      <th>648768</th>\n",
       "      <td>0.000000</td>\n",
       "      <td>71.000000</td>\n",
       "      <td>54.000000</td>\n",
       "      <td>1</td>\n",
       "      <td>0</td>\n",
       "      <td>0.0</td>\n",
       "      <td>0</td>\n",
       "      <td>0.0</td>\n",
       "      <td>0</td>\n",
       "      <td>0.0</td>\n",
       "      <td>...</td>\n",
       "      <td>0</td>\n",
       "      <td>0.000000</td>\n",
       "      <td>1</td>\n",
       "      <td>1.000000</td>\n",
       "      <td>1</td>\n",
       "      <td>1.0</td>\n",
       "      <td>0</td>\n",
       "      <td>0.0</td>\n",
       "      <td>0</td>\n",
       "      <td>0.0</td>\n",
       "    </tr>\n",
       "    <tr>\n",
       "      <th>587083</th>\n",
       "      <td>0.000000</td>\n",
       "      <td>17.000000</td>\n",
       "      <td>14.500000</td>\n",
       "      <td>2</td>\n",
       "      <td>0</td>\n",
       "      <td>0.0</td>\n",
       "      <td>2</td>\n",
       "      <td>1.0</td>\n",
       "      <td>2</td>\n",
       "      <td>1.0</td>\n",
       "      <td>...</td>\n",
       "      <td>1</td>\n",
       "      <td>0.500000</td>\n",
       "      <td>1</td>\n",
       "      <td>0.500000</td>\n",
       "      <td>2</td>\n",
       "      <td>1.0</td>\n",
       "      <td>0</td>\n",
       "      <td>0.0</td>\n",
       "      <td>0</td>\n",
       "      <td>0.0</td>\n",
       "    </tr>\n",
       "    <tr>\n",
       "      <th>328582</th>\n",
       "      <td>0.333333</td>\n",
       "      <td>6.500000</td>\n",
       "      <td>6.000000</td>\n",
       "      <td>6</td>\n",
       "      <td>0</td>\n",
       "      <td>0.0</td>\n",
       "      <td>0</td>\n",
       "      <td>0.0</td>\n",
       "      <td>0</td>\n",
       "      <td>0.0</td>\n",
       "      <td>...</td>\n",
       "      <td>0</td>\n",
       "      <td>0.000000</td>\n",
       "      <td>4</td>\n",
       "      <td>0.666667</td>\n",
       "      <td>6</td>\n",
       "      <td>1.0</td>\n",
       "      <td>6</td>\n",
       "      <td>1.0</td>\n",
       "      <td>6</td>\n",
       "      <td>1.0</td>\n",
       "    </tr>\n",
       "    <tr>\n",
       "      <th>628886</th>\n",
       "      <td>0.000000</td>\n",
       "      <td>30.000000</td>\n",
       "      <td>24.000000</td>\n",
       "      <td>1</td>\n",
       "      <td>0</td>\n",
       "      <td>0.0</td>\n",
       "      <td>0</td>\n",
       "      <td>0.0</td>\n",
       "      <td>0</td>\n",
       "      <td>0.0</td>\n",
       "      <td>...</td>\n",
       "      <td>0</td>\n",
       "      <td>0.000000</td>\n",
       "      <td>0</td>\n",
       "      <td>0.000000</td>\n",
       "      <td>1</td>\n",
       "      <td>1.0</td>\n",
       "      <td>0</td>\n",
       "      <td>0.0</td>\n",
       "      <td>0</td>\n",
       "      <td>0.0</td>\n",
       "    </tr>\n",
       "  </tbody>\n",
       "</table>\n",
       "<p>5 rows × 54 columns</p>\n",
       "</div>"
      ],
      "text/plain": [
       "        bounces_mean  hits_mean  pageviews_mean  visitNumber_total  \\\n",
       "625118      0.571429   4.714286        4.428571                  7   \n",
       "648768      0.000000  71.000000       54.000000                  1   \n",
       "587083      0.000000  17.000000       14.500000                  2   \n",
       "328582      0.333333   6.500000        6.000000                  6   \n",
       "628886      0.000000  30.000000       24.000000                  1   \n",
       "\n",
       "        is_source_googleplex_freq  is_source_googleplex_rate  \\\n",
       "625118                          0                        0.0   \n",
       "648768                          0                        0.0   \n",
       "587083                          0                        0.0   \n",
       "328582                          0                        0.0   \n",
       "628886                          0                        0.0   \n",
       "\n",
       "        is_source_direct_freq  is_source_direct_rate  is_source_google_freq  \\\n",
       "625118                      0                    0.0                      0   \n",
       "648768                      0                    0.0                      0   \n",
       "587083                      2                    1.0                      2   \n",
       "328582                      0                    0.0                      0   \n",
       "628886                      0                    0.0                      0   \n",
       "\n",
       "        is_source_google_rate         ...          h_13_17_freq  h_13_17_rate  \\\n",
       "625118                    0.0         ...                     1      0.142857   \n",
       "648768                    0.0         ...                     0      0.000000   \n",
       "587083                    1.0         ...                     1      0.500000   \n",
       "328582                    0.0         ...                     0      0.000000   \n",
       "628886                    0.0         ...                     0      0.000000   \n",
       "\n",
       "        h_18_23_freq  h_18_23_rate  browser_chrome_freq  browser_chrome_rate  \\\n",
       "625118             0      0.000000                    7                  1.0   \n",
       "648768             1      1.000000                    1                  1.0   \n",
       "587083             1      0.500000                    2                  1.0   \n",
       "328582             4      0.666667                    6                  1.0   \n",
       "628886             0      0.000000                    1                  1.0   \n",
       "\n",
       "        is_mobile_freq  is_mobile_rate  system_google_freq  system_google_rate  \n",
       "625118               0             0.0                   7                 1.0  \n",
       "648768               0             0.0                   0                 0.0  \n",
       "587083               0             0.0                   0                 0.0  \n",
       "328582               6             1.0                   6                 1.0  \n",
       "628886               0             0.0                   0                 0.0  \n",
       "\n",
       "[5 rows x 54 columns]"
      ]
     },
     "execution_count": 188,
     "metadata": {},
     "output_type": "execute_result"
    }
   ],
   "source": [
    "X_train.head()"
   ]
  },
  {
   "cell_type": "code",
   "execution_count": 317,
   "metadata": {},
   "outputs": [],
   "source": [
    "reg = LinearRegression()\n",
    "# reg = RandomForestRegressor(random_state=42,n_estimators=200)\n",
    "classifier = LogisticRegression()\n",
    "\n",
    "stacked = StackedRegressor(classifier=classifier, regressor=reg)\n",
    "stacked.fit(X_train, class_train, regressor_train)"
   ]
  },
  {
   "cell_type": "code",
   "execution_count": 280,
   "metadata": {},
   "outputs": [],
   "source": [
    "X_test = df_user_test.drop(['is_transaction', 'fullVisitorId', 'transactionRevenue_total'], axis=1)\n",
    "# scaled_x = scaler.fit_transform(X_test)\n",
    "# X_test = pd.DataFrame(scaled_x, columns=X_test.columns)\n",
    "y_test = df_user_test['is_transaction']"
   ]
  },
  {
   "cell_type": "code",
   "execution_count": 318,
   "metadata": {},
   "outputs": [],
   "source": [
    "pred_clf, pred_reg = stacked.predict(X_test)"
   ]
  },
  {
   "cell_type": "code",
   "execution_count": 286,
   "metadata": {},
   "outputs": [
    {
     "data": {
      "text/plain": [
       "(0.5904259860022454, 0.9546593544737032, 0.6372951320721072, None)"
      ]
     },
     "execution_count": 286,
     "metadata": {},
     "output_type": "execute_result"
    }
   ],
   "source": [
    "from sklearn.metrics import precision_recall_fscore_support\n",
    "precision_recall_fscore_support(y_test, pred_clf, average='macro')"
   ]
  },
  {
   "cell_type": "code",
   "execution_count": 287,
   "metadata": {},
   "outputs": [
    {
     "data": {
      "text/plain": [
       "55.38646540045738"
      ]
     },
     "execution_count": 287,
     "metadata": {},
     "output_type": "execute_result"
    }
   ],
   "source": [
    "pred_reg.max()"
   ]
  },
  {
   "cell_type": "code",
   "execution_count": 321,
   "metadata": {},
   "outputs": [
    {
     "data": {
      "text/plain": [
       "2283.4107737984077"
      ]
     },
     "execution_count": 321,
     "metadata": {},
     "output_type": "execute_result"
    }
   ],
   "source": [
    "np.sqrt(np.sum((pred_reg - y_test.values)**2))"
   ]
  },
  {
   "cell_type": "code",
   "execution_count": 319,
   "metadata": {},
   "outputs": [
    {
     "data": {
      "text/plain": [
       "4.6721510757654325"
      ]
     },
     "execution_count": 319,
     "metadata": {},
     "output_type": "execute_result"
    }
   ],
   "source": [
    "stacked.score(pred_reg, y_test)"
   ]
  },
  {
   "cell_type": "code",
   "execution_count": 322,
   "metadata": {},
   "outputs": [
    {
     "data": {
      "text/plain": [
       "<bound method BaseEstimator.get_params of StackedRegressor(classifier=LogisticRegression(C=1.0, class_weight=None, dual=False, fit_intercept=True,\n",
       "          intercept_scaling=1, max_iter=100, multi_class='warn',\n",
       "          n_jobs=None, penalty='l2', random_state=None, solver='warn',\n",
       "          tol=0.0001, verbose=0, warm_start=False),\n",
       "         regressor=LinearRegression(copy_X=True, fit_intercept=True, n_jobs=None,\n",
       "         normalize=False))>"
      ]
     },
     "execution_count": 322,
     "metadata": {},
     "output_type": "execute_result"
    }
   ],
   "source": [
    "stacked.get_params"
   ]
  },
  {
   "cell_type": "code",
   "execution_count": 331,
   "metadata": {},
   "outputs": [],
   "source": [
    "import statsmodels.api as sm"
   ]
  },
  {
   "cell_type": "code",
   "execution_count": null,
   "metadata": {},
   "outputs": [],
   "source": [
    "sm.OLS()"
   ]
  },
  {
   "cell_type": "markdown",
   "metadata": {},
   "source": [
    "### Linear Regression"
   ]
  },
  {
   "cell_type": "code",
   "execution_count": 304,
   "metadata": {},
   "outputs": [],
   "source": [
    "X_train_lr = df_user_train.drop(['is_transaction', 'fullVisitorId', 'transactionRevenue_total'], axis=1) \n",
    "y_train_lr = df_user_train['transactionRevenue_total']\n",
    "reg_lr = LinearRegression().fit(\n",
    "    X_train_lr, y_train_lr)"
   ]
  },
  {
   "cell_type": "code",
   "execution_count": 311,
   "metadata": {},
   "outputs": [
    {
     "data": {
      "text/plain": [
       "pandas.core.series.Series"
      ]
     },
     "execution_count": 311,
     "metadata": {},
     "output_type": "execute_result"
    }
   ],
   "source": [
    "type(y_train_lr)"
   ]
  },
  {
   "cell_type": "code",
   "execution_count": 307,
   "metadata": {},
   "outputs": [
    {
     "data": {
      "text/html": [
       "<div>\n",
       "<style scoped>\n",
       "    .dataframe tbody tr th:only-of-type {\n",
       "        vertical-align: middle;\n",
       "    }\n",
       "\n",
       "    .dataframe tbody tr th {\n",
       "        vertical-align: top;\n",
       "    }\n",
       "\n",
       "    .dataframe thead th {\n",
       "        text-align: right;\n",
       "    }\n",
       "</style>\n",
       "<table border=\"1\" class=\"dataframe\">\n",
       "  <thead>\n",
       "    <tr style=\"text-align: right;\">\n",
       "      <th></th>\n",
       "      <th>bounces_mean</th>\n",
       "      <th>hits_mean</th>\n",
       "      <th>pageviews_mean</th>\n",
       "      <th>visitNumber_total</th>\n",
       "      <th>is_source_googleplex_freq</th>\n",
       "      <th>is_source_googleplex_rate</th>\n",
       "      <th>is_source_direct_freq</th>\n",
       "      <th>is_source_direct_rate</th>\n",
       "      <th>is_source_google_freq</th>\n",
       "      <th>is_source_google_rate</th>\n",
       "      <th>...</th>\n",
       "      <th>h_13_17_freq</th>\n",
       "      <th>h_13_17_rate</th>\n",
       "      <th>h_18_23_freq</th>\n",
       "      <th>h_18_23_rate</th>\n",
       "      <th>browser_chrome_freq</th>\n",
       "      <th>browser_chrome_rate</th>\n",
       "      <th>is_mobile_freq</th>\n",
       "      <th>is_mobile_rate</th>\n",
       "      <th>system_google_freq</th>\n",
       "      <th>system_google_rate</th>\n",
       "    </tr>\n",
       "  </thead>\n",
       "  <tbody>\n",
       "    <tr>\n",
       "      <th>36046</th>\n",
       "      <td>0.0</td>\n",
       "      <td>4.0</td>\n",
       "      <td>4.0</td>\n",
       "      <td>1</td>\n",
       "      <td>0</td>\n",
       "      <td>0.0</td>\n",
       "      <td>0</td>\n",
       "      <td>0.0</td>\n",
       "      <td>0</td>\n",
       "      <td>0.0</td>\n",
       "      <td>...</td>\n",
       "      <td>0</td>\n",
       "      <td>0.0</td>\n",
       "      <td>1</td>\n",
       "      <td>1.0</td>\n",
       "      <td>1</td>\n",
       "      <td>1.0</td>\n",
       "      <td>1</td>\n",
       "      <td>1.0</td>\n",
       "      <td>1</td>\n",
       "      <td>1.0</td>\n",
       "    </tr>\n",
       "    <tr>\n",
       "      <th>582989</th>\n",
       "      <td>1.0</td>\n",
       "      <td>1.0</td>\n",
       "      <td>1.0</td>\n",
       "      <td>1</td>\n",
       "      <td>0</td>\n",
       "      <td>0.0</td>\n",
       "      <td>0</td>\n",
       "      <td>0.0</td>\n",
       "      <td>0</td>\n",
       "      <td>0.0</td>\n",
       "      <td>...</td>\n",
       "      <td>1</td>\n",
       "      <td>1.0</td>\n",
       "      <td>0</td>\n",
       "      <td>0.0</td>\n",
       "      <td>0</td>\n",
       "      <td>0.0</td>\n",
       "      <td>1</td>\n",
       "      <td>1.0</td>\n",
       "      <td>0</td>\n",
       "      <td>0.0</td>\n",
       "    </tr>\n",
       "    <tr>\n",
       "      <th>42734</th>\n",
       "      <td>1.0</td>\n",
       "      <td>1.0</td>\n",
       "      <td>1.0</td>\n",
       "      <td>1</td>\n",
       "      <td>0</td>\n",
       "      <td>0.0</td>\n",
       "      <td>0</td>\n",
       "      <td>0.0</td>\n",
       "      <td>0</td>\n",
       "      <td>0.0</td>\n",
       "      <td>...</td>\n",
       "      <td>1</td>\n",
       "      <td>1.0</td>\n",
       "      <td>0</td>\n",
       "      <td>0.0</td>\n",
       "      <td>1</td>\n",
       "      <td>1.0</td>\n",
       "      <td>0</td>\n",
       "      <td>0.0</td>\n",
       "      <td>0</td>\n",
       "      <td>0.0</td>\n",
       "    </tr>\n",
       "    <tr>\n",
       "      <th>656739</th>\n",
       "      <td>1.0</td>\n",
       "      <td>1.0</td>\n",
       "      <td>1.0</td>\n",
       "      <td>1</td>\n",
       "      <td>0</td>\n",
       "      <td>0.0</td>\n",
       "      <td>1</td>\n",
       "      <td>1.0</td>\n",
       "      <td>1</td>\n",
       "      <td>1.0</td>\n",
       "      <td>...</td>\n",
       "      <td>0</td>\n",
       "      <td>0.0</td>\n",
       "      <td>0</td>\n",
       "      <td>0.0</td>\n",
       "      <td>0</td>\n",
       "      <td>0.0</td>\n",
       "      <td>1</td>\n",
       "      <td>1.0</td>\n",
       "      <td>0</td>\n",
       "      <td>0.0</td>\n",
       "    </tr>\n",
       "    <tr>\n",
       "      <th>332031</th>\n",
       "      <td>1.0</td>\n",
       "      <td>1.0</td>\n",
       "      <td>1.0</td>\n",
       "      <td>1</td>\n",
       "      <td>0</td>\n",
       "      <td>0.0</td>\n",
       "      <td>1</td>\n",
       "      <td>1.0</td>\n",
       "      <td>1</td>\n",
       "      <td>1.0</td>\n",
       "      <td>...</td>\n",
       "      <td>0</td>\n",
       "      <td>0.0</td>\n",
       "      <td>0</td>\n",
       "      <td>0.0</td>\n",
       "      <td>0</td>\n",
       "      <td>0.0</td>\n",
       "      <td>1</td>\n",
       "      <td>1.0</td>\n",
       "      <td>0</td>\n",
       "      <td>0.0</td>\n",
       "    </tr>\n",
       "  </tbody>\n",
       "</table>\n",
       "<p>5 rows × 54 columns</p>\n",
       "</div>"
      ],
      "text/plain": [
       "        bounces_mean  hits_mean  pageviews_mean  visitNumber_total  \\\n",
       "36046            0.0        4.0             4.0                  1   \n",
       "582989           1.0        1.0             1.0                  1   \n",
       "42734            1.0        1.0             1.0                  1   \n",
       "656739           1.0        1.0             1.0                  1   \n",
       "332031           1.0        1.0             1.0                  1   \n",
       "\n",
       "        is_source_googleplex_freq  is_source_googleplex_rate  \\\n",
       "36046                           0                        0.0   \n",
       "582989                          0                        0.0   \n",
       "42734                           0                        0.0   \n",
       "656739                          0                        0.0   \n",
       "332031                          0                        0.0   \n",
       "\n",
       "        is_source_direct_freq  is_source_direct_rate  is_source_google_freq  \\\n",
       "36046                       0                    0.0                      0   \n",
       "582989                      0                    0.0                      0   \n",
       "42734                       0                    0.0                      0   \n",
       "656739                      1                    1.0                      1   \n",
       "332031                      1                    1.0                      1   \n",
       "\n",
       "        is_source_google_rate         ...          h_13_17_freq  h_13_17_rate  \\\n",
       "36046                     0.0         ...                     0           0.0   \n",
       "582989                    0.0         ...                     1           1.0   \n",
       "42734                     0.0         ...                     1           1.0   \n",
       "656739                    1.0         ...                     0           0.0   \n",
       "332031                    1.0         ...                     0           0.0   \n",
       "\n",
       "        h_18_23_freq  h_18_23_rate  browser_chrome_freq  browser_chrome_rate  \\\n",
       "36046              1           1.0                    1                  1.0   \n",
       "582989             0           0.0                    0                  0.0   \n",
       "42734              0           0.0                    1                  1.0   \n",
       "656739             0           0.0                    0                  0.0   \n",
       "332031             0           0.0                    0                  0.0   \n",
       "\n",
       "        is_mobile_freq  is_mobile_rate  system_google_freq  system_google_rate  \n",
       "36046                1             1.0                   1                 1.0  \n",
       "582989               1             1.0                   0                 0.0  \n",
       "42734                0             0.0                   0                 0.0  \n",
       "656739               1             1.0                   0                 0.0  \n",
       "332031               1             1.0                   0                 0.0  \n",
       "\n",
       "[5 rows x 54 columns]"
      ]
     },
     "execution_count": 307,
     "metadata": {},
     "output_type": "execute_result"
    }
   ],
   "source": [
    "X_train_lr.head()"
   ]
  },
  {
   "cell_type": "code",
   "execution_count": 305,
   "metadata": {},
   "outputs": [],
   "source": [
    "pred_lr = reg_lr.predict(X_test)"
   ]
  },
  {
   "cell_type": "code",
   "execution_count": 306,
   "metadata": {},
   "outputs": [
    {
     "data": {
      "text/plain": [
       "1.0433793769300463"
      ]
     },
     "execution_count": 306,
     "metadata": {},
     "output_type": "execute_result"
    }
   ],
   "source": [
    "np.sqrt(np.mean((pred_lr - y_test.values)**2))"
   ]
  },
  {
   "cell_type": "markdown",
   "metadata": {},
   "source": [
    "### imbalanced sample "
   ]
  },
  {
   "cell_type": "code",
   "execution_count": 333,
   "metadata": {},
   "outputs": [],
   "source": [
    "X_train_ib = df_user_train.drop(['is_transaction', 'fullVisitorId', 'transactionRevenue_total'], axis=1)\n",
    "class_train_ib = df_user_train['is_transaction'].astype(int)\n",
    "regressor_train_ib = df_user_train['transactionRevenue_total']"
   ]
  },
  {
   "cell_type": "code",
   "execution_count": 339,
   "metadata": {},
   "outputs": [],
   "source": [
    "# reg = LinearRegression()\n",
    "reg = RandomForestRegressor(random_state=42)\n",
    "classifier = LogisticRegression()\n",
    "\n",
    "stacked = StackedRegressor(classifier=classifier, regressor=reg)\n",
    "stacked.fit(X_train_ib, class_train_ib, regressor_train_ib)"
   ]
  },
  {
   "cell_type": "code",
   "execution_count": 340,
   "metadata": {},
   "outputs": [
    {
     "data": {
      "text/plain": [
       "1.3336692134015178"
      ]
     },
     "execution_count": 340,
     "metadata": {},
     "output_type": "execute_result"
    }
   ],
   "source": [
    "pred_clf, pred_reg = stacked.predict(X_test)\n",
    "stacked.score(pred_reg, y_test)"
   ]
  },
  {
   "cell_type": "code",
   "execution_count": 349,
   "metadata": {
    "scrolled": true
   },
   "outputs": [
    {
     "data": {
      "text/plain": [
       "[('hits_mean', 0.18069415726272206),\n",
       " ('pageviews_mean', 0.11525858257378341),\n",
       " ('visitNumber_total', 0.08919776993342172),\n",
       " ('next_session_1_adjmean', 0.04645365216675647),\n",
       " ('last_session_1_adjmean', 0.04308975838035976),\n",
       " ('browser_chrome_freq', 0.03864244271636767),\n",
       " ('h_13_17_rate', 0.025708297861210212),\n",
       " ('weekday_rate', 0.02320062344305921),\n",
       " ('h_18_23_rate', 0.023044695274237526),\n",
       " ('h_0_6_rate', 0.02264773978717053),\n",
       " ('weekday_freq', 0.02129439638888619),\n",
       " ('is_medium_organic_rate', 0.019545163871736777),\n",
       " ('h_18_23_freq', 0.019235465751602107),\n",
       " ('h_13_17_freq', 0.0174130985815838),\n",
       " ('bounces_mean', 0.017198914663573976),\n",
       " ('q1_rate', 0.01438127134439868),\n",
       " ('is_source_direct_freq', 0.014321220180859762),\n",
       " ('q1_freq', 0.014067223068118102),\n",
       " ('is_bayarea_freq', 0.013833505543839294),\n",
       " ('q4_freq', 0.013639762733820582),\n",
       " ('q4_rate', 0.013412650070033458),\n",
       " ('q2_freq', 0.01320853588785037),\n",
       " ('is_source_google_freq', 0.012149525249824256),\n",
       " ('q3_freq', 0.011986655902587871),\n",
       " ('q2_rate', 0.011971372651476),\n",
       " ('q3_rate', 0.011594869052368442),\n",
       " ('is_bayarea_rate', 0.01143196759768485),\n",
       " ('is_mobile_rate', 0.01114648189878264),\n",
       " ('is_source_googleplex_freq', 0.009792511598462254),\n",
       " ('system_google_freq', 0.009665728469790375),\n",
       " ('h_7_12_rate', 0.00928995565981335),\n",
       " ('is_medium_organic_freq', 0.00874351554829286),\n",
       " ('is_medium_none_freq', 0.008723729792982696),\n",
       " ('h_0_6_freq', 0.008453975970064828),\n",
       " ('is_medium_referral_freq', 0.008036840449192584),\n",
       " ('is_mobile_freq', 0.007812219170646485),\n",
       " ('is_medium_none_rate', 0.007610688901242196),\n",
       " ('is_medium_referral_rate', 0.007362135624507107),\n",
       " ('is_source_googleplex_rate', 0.007236273940458812),\n",
       " ('Americas_freq', 0.006597627856594223),\n",
       " ('is_source_google_rate', 0.006136555691119107),\n",
       " ('is_source_direct_rate', 0.0059666883070965075),\n",
       " ('system_google_rate', 0.0050810445387175765),\n",
       " ('h_7_12_freq', 0.004523006773298284),\n",
       " ('browser_chrome_rate', 0.0032384746842757826),\n",
       " ('Africa_rate', 0.0014532262440527489),\n",
       " ('Americas_rate', 0.0013792499902050592),\n",
       " ('Asia_rate', 0.0006036955592218714),\n",
       " ('Africa_freq', 0.0005439440445641961),\n",
       " ('Europe_freq', 0.0005409795191091207),\n",
       " ('Oceania_rate', 0.00043176095944081277),\n",
       " ('Europe_rate', 0.00042078506356093437),\n",
       " ('Asia_freq', 0.0004113944898047046),\n",
       " ('Oceania_freq', 0.00017419131536986222)]"
      ]
     },
     "execution_count": 349,
     "metadata": {},
     "output_type": "execute_result"
    }
   ],
   "source": [
    "sorted([x for x in \n",
    " zip(X_train_ib.columns,\n",
    "     stacked.regressor.feature_importances_)],\n",
    "       key=lambda x: -x[1])"
   ]
  },
  {
   "cell_type": "code",
   "execution_count": 336,
   "metadata": {},
   "outputs": [
    {
     "data": {
      "text/plain": [
       "(0.7781535621586791, 0.6183320392131273, 0.6649723361899738, None)"
      ]
     },
     "execution_count": 336,
     "metadata": {},
     "output_type": "execute_result"
    }
   ],
   "source": [
    "from sklearn.metrics import precision_recall_fscore_support\n",
    "precision_recall_fscore_support(y_test, pred_clf, average='macro')"
   ]
  },
  {
   "cell_type": "code",
   "execution_count": null,
   "metadata": {},
   "outputs": [],
   "source": []
  }
 ],
 "metadata": {
  "kernelspec": {
   "display_name": "Python 3",
   "language": "python",
   "name": "python3"
  },
  "language_info": {
   "codemirror_mode": {
    "name": "ipython",
    "version": 3
   },
   "file_extension": ".py",
   "mimetype": "text/x-python",
   "name": "python",
   "nbconvert_exporter": "python",
   "pygments_lexer": "ipython3",
   "version": "3.6.7"
  }
 },
 "nbformat": 4,
 "nbformat_minor": 2
}
