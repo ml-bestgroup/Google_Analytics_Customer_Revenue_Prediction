{
 "cells": [
  {
   "cell_type": "code",
   "execution_count": 1,
   "metadata": {},
   "outputs": [],
   "source": [
    "import pandas as pd\n",
    "import warnings; warnings.simplefilter('ignore')"
   ]
  },
  {
   "cell_type": "code",
   "execution_count": null,
   "metadata": {},
   "outputs": [],
   "source": [
    "from sklearn.pipeline import Pipeline\n",
    "from sklearn.linear_model import LogisticRegression\n",
    "from sklearn.linear_model import LinearRegression\n",
    "import numpy as np\n",
    "import pandas as pd\n",
    "from sklearn.model_selection import train_test_split\n",
    "from sklearn.base import BaseEstimator, ClassifierMixin\n",
    "from sklearn.preprocessing import StandardScaler\n",
    "from sklearn.ensemble import RandomForestRegressor\n",
    "from sklearn.ensemble import RandomForestClassifier\n",
    "from sklearn.model_selection import GridSearchCV\n",
    "from sklearn.metrics import make_scorer\n",
    "from sklearn.metrics import mean_squred_error\n",
    "from sklearn.svm import SVC()"
   ]
  },
  {
   "cell_type": "code",
   "execution_count": 2,
   "metadata": {},
   "outputs": [],
   "source": [
    "df_user = pd.read_csv('./data/train_user.csv')"
   ]
  },
  {
   "cell_type": "code",
   "execution_count": 3,
   "metadata": {},
   "outputs": [],
   "source": [
    "df_user = df_user.drop(['Unnamed: 0','month_freq',\n",
    "                        'month_rate', 'dow_freq', 'dow_rate', \n",
    "                        'hour_freq', 'hour_rate'], axis=1)"
   ]
  },
  {
   "cell_type": "code",
   "execution_count": 4,
   "metadata": {
    "scrolled": true
   },
   "outputs": [
    {
     "data": {
      "text/html": [
       "<div>\n",
       "<style scoped>\n",
       "    .dataframe tbody tr th:only-of-type {\n",
       "        vertical-align: middle;\n",
       "    }\n",
       "\n",
       "    .dataframe tbody tr th {\n",
       "        vertical-align: top;\n",
       "    }\n",
       "\n",
       "    .dataframe thead th {\n",
       "        text-align: right;\n",
       "    }\n",
       "</style>\n",
       "<table border=\"1\" class=\"dataframe\">\n",
       "  <thead>\n",
       "    <tr style=\"text-align: right;\">\n",
       "      <th></th>\n",
       "      <th>fullVisitorId</th>\n",
       "      <th>is_transaction</th>\n",
       "      <th>transactionRevenue_total</th>\n",
       "      <th>bounces_mean</th>\n",
       "      <th>hits_mean</th>\n",
       "      <th>pageviews_mean</th>\n",
       "      <th>visitNumber_total</th>\n",
       "      <th>is_source_googleplex_freq</th>\n",
       "      <th>is_source_googleplex_rate</th>\n",
       "      <th>is_source_direct_freq</th>\n",
       "      <th>...</th>\n",
       "      <th>h_13_17_freq</th>\n",
       "      <th>h_13_17_rate</th>\n",
       "      <th>h_18_23_freq</th>\n",
       "      <th>h_18_23_rate</th>\n",
       "      <th>browser_chrome_freq</th>\n",
       "      <th>browser_chrome_rate</th>\n",
       "      <th>is_mobile_freq</th>\n",
       "      <th>is_mobile_rate</th>\n",
       "      <th>system_google_freq</th>\n",
       "      <th>system_google_rate</th>\n",
       "    </tr>\n",
       "  </thead>\n",
       "  <tbody>\n",
       "    <tr>\n",
       "      <th>0</th>\n",
       "      <td>4823595352351</td>\n",
       "      <td>0</td>\n",
       "      <td>0.0</td>\n",
       "      <td>1.0</td>\n",
       "      <td>1.0</td>\n",
       "      <td>1.0</td>\n",
       "      <td>1</td>\n",
       "      <td>0</td>\n",
       "      <td>0.0</td>\n",
       "      <td>0</td>\n",
       "      <td>...</td>\n",
       "      <td>1</td>\n",
       "      <td>1.0</td>\n",
       "      <td>0</td>\n",
       "      <td>0.0</td>\n",
       "      <td>1</td>\n",
       "      <td>1.0</td>\n",
       "      <td>0</td>\n",
       "      <td>0.0</td>\n",
       "      <td>0</td>\n",
       "      <td>0.0</td>\n",
       "    </tr>\n",
       "    <tr>\n",
       "      <th>1</th>\n",
       "      <td>5103959234087</td>\n",
       "      <td>0</td>\n",
       "      <td>0.0</td>\n",
       "      <td>0.0</td>\n",
       "      <td>10.0</td>\n",
       "      <td>8.0</td>\n",
       "      <td>1</td>\n",
       "      <td>0</td>\n",
       "      <td>0.0</td>\n",
       "      <td>0</td>\n",
       "      <td>...</td>\n",
       "      <td>0</td>\n",
       "      <td>0.0</td>\n",
       "      <td>1</td>\n",
       "      <td>1.0</td>\n",
       "      <td>1</td>\n",
       "      <td>1.0</td>\n",
       "      <td>1</td>\n",
       "      <td>1.0</td>\n",
       "      <td>1</td>\n",
       "      <td>1.0</td>\n",
       "    </tr>\n",
       "    <tr>\n",
       "      <th>2</th>\n",
       "      <td>10278554503158</td>\n",
       "      <td>0</td>\n",
       "      <td>0.0</td>\n",
       "      <td>0.0</td>\n",
       "      <td>11.0</td>\n",
       "      <td>8.0</td>\n",
       "      <td>1</td>\n",
       "      <td>0</td>\n",
       "      <td>0.0</td>\n",
       "      <td>0</td>\n",
       "      <td>...</td>\n",
       "      <td>0</td>\n",
       "      <td>0.0</td>\n",
       "      <td>0</td>\n",
       "      <td>0.0</td>\n",
       "      <td>1</td>\n",
       "      <td>1.0</td>\n",
       "      <td>0</td>\n",
       "      <td>0.0</td>\n",
       "      <td>0</td>\n",
       "      <td>0.0</td>\n",
       "    </tr>\n",
       "    <tr>\n",
       "      <th>3</th>\n",
       "      <td>20424342248747</td>\n",
       "      <td>0</td>\n",
       "      <td>0.0</td>\n",
       "      <td>0.0</td>\n",
       "      <td>17.0</td>\n",
       "      <td>13.0</td>\n",
       "      <td>1</td>\n",
       "      <td>0</td>\n",
       "      <td>0.0</td>\n",
       "      <td>0</td>\n",
       "      <td>...</td>\n",
       "      <td>0</td>\n",
       "      <td>0.0</td>\n",
       "      <td>0</td>\n",
       "      <td>0.0</td>\n",
       "      <td>1</td>\n",
       "      <td>1.0</td>\n",
       "      <td>0</td>\n",
       "      <td>0.0</td>\n",
       "      <td>0</td>\n",
       "      <td>0.0</td>\n",
       "    </tr>\n",
       "    <tr>\n",
       "      <th>4</th>\n",
       "      <td>26722803385797</td>\n",
       "      <td>0</td>\n",
       "      <td>0.0</td>\n",
       "      <td>0.0</td>\n",
       "      <td>3.0</td>\n",
       "      <td>2.0</td>\n",
       "      <td>1</td>\n",
       "      <td>0</td>\n",
       "      <td>0.0</td>\n",
       "      <td>0</td>\n",
       "      <td>...</td>\n",
       "      <td>0</td>\n",
       "      <td>0.0</td>\n",
       "      <td>0</td>\n",
       "      <td>0.0</td>\n",
       "      <td>0</td>\n",
       "      <td>0.0</td>\n",
       "      <td>0</td>\n",
       "      <td>0.0</td>\n",
       "      <td>0</td>\n",
       "      <td>0.0</td>\n",
       "    </tr>\n",
       "  </tbody>\n",
       "</table>\n",
       "<p>5 rows × 57 columns</p>\n",
       "</div>"
      ],
      "text/plain": [
       "    fullVisitorId  is_transaction  transactionRevenue_total  bounces_mean  \\\n",
       "0   4823595352351               0                       0.0           1.0   \n",
       "1   5103959234087               0                       0.0           0.0   \n",
       "2  10278554503158               0                       0.0           0.0   \n",
       "3  20424342248747               0                       0.0           0.0   \n",
       "4  26722803385797               0                       0.0           0.0   \n",
       "\n",
       "   hits_mean  pageviews_mean  visitNumber_total  is_source_googleplex_freq  \\\n",
       "0        1.0             1.0                  1                          0   \n",
       "1       10.0             8.0                  1                          0   \n",
       "2       11.0             8.0                  1                          0   \n",
       "3       17.0            13.0                  1                          0   \n",
       "4        3.0             2.0                  1                          0   \n",
       "\n",
       "   is_source_googleplex_rate  is_source_direct_freq         ...          \\\n",
       "0                        0.0                      0         ...           \n",
       "1                        0.0                      0         ...           \n",
       "2                        0.0                      0         ...           \n",
       "3                        0.0                      0         ...           \n",
       "4                        0.0                      0         ...           \n",
       "\n",
       "   h_13_17_freq  h_13_17_rate  h_18_23_freq  h_18_23_rate  \\\n",
       "0             1           1.0             0           0.0   \n",
       "1             0           0.0             1           1.0   \n",
       "2             0           0.0             0           0.0   \n",
       "3             0           0.0             0           0.0   \n",
       "4             0           0.0             0           0.0   \n",
       "\n",
       "   browser_chrome_freq  browser_chrome_rate  is_mobile_freq  is_mobile_rate  \\\n",
       "0                    1                  1.0               0             0.0   \n",
       "1                    1                  1.0               1             1.0   \n",
       "2                    1                  1.0               0             0.0   \n",
       "3                    1                  1.0               0             0.0   \n",
       "4                    0                  0.0               0             0.0   \n",
       "\n",
       "   system_google_freq  system_google_rate  \n",
       "0                   0                 0.0  \n",
       "1                   1                 1.0  \n",
       "2                   0                 0.0  \n",
       "3                   0                 0.0  \n",
       "4                   0                 0.0  \n",
       "\n",
       "[5 rows x 57 columns]"
      ]
     },
     "execution_count": 4,
     "metadata": {},
     "output_type": "execute_result"
    }
   ],
   "source": [
    "df_user.head()"
   ]
  },
  {
   "cell_type": "markdown",
   "metadata": {},
   "source": [
    "## split"
   ]
  },
  {
   "cell_type": "code",
   "execution_count": null,
   "metadata": {},
   "outputs": [],
   "source": [
    "X = df_trans.drop(['is_transaction', 'fullVisitorId','transactionRevenue_total'], axis=1)\n",
    "y = df_trans['transactionRevenue_total']\n",
    "X_train, X_test, y_train, y_test = train_test_split(\n",
    "    X, y, test_size=0.33, random_state=42)"
   ]
  },
  {
   "cell_type": "markdown",
   "metadata": {},
   "source": [
    "## Stacking"
   ]
  },
  {
   "cell_type": "code",
   "execution_count": 133,
   "metadata": {},
   "outputs": [],
   "source": [
    "from sklearn.base import BaseEstimator, ClassifierMixin\n",
    "import numpy as np\n",
    "\n",
    "class StackedRegressor(BaseEstimator, ClassifierMixin):  \n",
    "    def __init__(self, classifier, regressor):\n",
    "        self.classifier = classifier\n",
    "        self.regressor = regressor\n",
    "#         args, _, _, values = inspect.getargvalues(inspect.currentframe())\n",
    "#         values.pop(\"self\")\n",
    "#         for arg, val in values.items():\n",
    "#             for param, value in val.get_params().items():\n",
    "#                 arg_final = arg + '_' + ''\n",
    "#                 setattr(self, )\n",
    "        \n",
    "    def fit(self, X, y):\n",
    "        class_labels = pd.Series(np.where(y>0,1,0))\n",
    "        self.classifier.fit(X,class_labels)\n",
    "        \n",
    "        X = X.reset_index(drop=True)\n",
    "        class_labels = class_labels.reset_index(drop=True)\n",
    "        y = y.reset_index(drop=True)    \n",
    "        X_reg = X[class_labels==1]\n",
    "        y = y[class_labels==1]\n",
    "        self.regressor.fit(X_reg,y)\n",
    "        \n",
    "    def predict(self, X):\n",
    "        class_predict = self.classifier.predict(X)\n",
    "        regressor_predict = self.regressor.predict(X)\n",
    "        np.multiply(class_predict,regressor_predict)\n",
    "        return np.multiply(class_predict,regressor_predict)\n",
    "    \n",
    "    def score(self, X, y):\n",
    "        return np.sqrt(np.mean((y - self.predict(X))**2))\n",
    "mse_scorer = make_scorer(mean_squared_error)"
   ]
  },
  {
   "cell_type": "code",
   "execution_count": null,
   "metadata": {},
   "outputs": [],
   "source": [
    "## Grid search"
   ]
  },
  {
   "cell_type": "code",
   "execution_count": null,
   "metadata": {},
   "outputs": [],
   "source": [
    "svc = []\n",
    "for C in [0.8, 1]:\n",
    "    for kernel in ['linear', 'poly', 'rbf', 'sigmoid']:\n",
    "        svc.append(sklearn.svm.SVC(C=1.0, kernel=’rbf’, random_state=42))"
   ]
  },
  {
   "cell_type": "code",
   "execution_count": 158,
   "metadata": {},
   "outputs": [],
   "source": [
    "rfc = []\n",
    "for n in [30, 50]:\n",
    "    for min_l in [3, 5]:\n",
    "        rfc.append(RandomForestClassifier(random_state=42, n_estimators = n, min_samples_leaf = min_l))"
   ]
  },
  {
   "cell_type": "code",
   "execution_count": 159,
   "metadata": {},
   "outputs": [],
   "source": [
    "logic = []\n",
    "for penalty in [ 'l1', 'l2']:\n",
    "    for C in [0.5, 0.7, 1]:\n",
    "        logic.append(LogisticRegression(penalty=penalty, C=C, random_state=42))"
   ]
  },
  {
   "cell_type": "code",
   "execution_count": 160,
   "metadata": {},
   "outputs": [],
   "source": [
    "lr = []\n",
    "for normalize in [True, False]:\n",
    "    lr.append(LinearRegression(fit_intercept=True, normalize=False, copy_X=True, n_jobs=None))"
   ]
  },
  {
   "cell_type": "code",
   "execution_count": 161,
   "metadata": {},
   "outputs": [],
   "source": [
    "rfr = []\n",
    "for n in [30, 50]:\n",
    "    for min_l in [3, 5]:\n",
    "        rfr.append(RandomForestRegressor(random_state=42, n_estimators = n, min_samples_leaf = min_l))"
   ]
  },
  {
   "cell_type": "code",
   "execution_count": 162,
   "metadata": {},
   "outputs": [],
   "source": [
    "parameters = {'classifier': rfc + logic + svc, \n",
    "              'regressor': lr + rfr}"
   ]
  },
  {
   "cell_type": "code",
   "execution_count": 164,
   "metadata": {},
   "outputs": [],
   "source": [
    "gs = GridSearchCV(cv=5, estimator=StackedRegressor(RandomForestClassifier(random_state=42),\n",
    "                                                   LinearRegression()),param_grid=parameters,\n",
    "                 scoring = mse_scorer)"
   ]
  },
  {
   "cell_type": "code",
   "execution_count": null,
   "metadata": {},
   "outputs": [],
   "source": [
    "gs.fit(X=X_train, y=y_train)"
   ]
  },
  {
   "cell_type": "code",
   "execution_count": 118,
   "metadata": {},
   "outputs": [
    {
     "data": {
      "text/plain": [
       "StackedRegressor(classifier=LogisticRegression(C=1.0, class_weight=None, dual=False, fit_intercept=True,\n",
       "          intercept_scaling=1, max_iter=100, multi_class='warn',\n",
       "          n_jobs=None, penalty='l2', random_state=None, solver='warn',\n",
       "          tol=0.0001, verbose=0, warm_start=False),\n",
       "         regressor=RandomForestRegressor(bootstrap=True, criterion='mse', max_depth=None,\n",
       "           max_features='auto', max_leaf_nodes=None,\n",
       "           min_impurity_decrease=0.0, min_impurity_split=None,\n",
       "           min_samples_leaf=1, min_samples_split=2,\n",
       "           min_weight_fraction_leaf=0.0, n_estimators=10, n_jobs=None,\n",
       "           oob_score=False, random_state=42, verbose=0, warm_start=False))"
      ]
     },
     "execution_count": 118,
     "metadata": {},
     "output_type": "execute_result"
    }
   ],
   "source": [
    "gs.best_estimator_"
   ]
  },
  {
   "cell_type": "code",
   "execution_count": 119,
   "metadata": {},
   "outputs": [
    {
     "data": {
      "text/plain": [
       "-2.0282318957517735"
      ]
     },
     "execution_count": 119,
     "metadata": {},
     "output_type": "execute_result"
    }
   ],
   "source": [
    "gs.best_score_ # best mse"
   ]
  },
  {
   "cell_type": "code",
   "execution_count": null,
   "metadata": {},
   "outputs": [],
   "source": [
    "gs.score(self, X_test, y_test) # rmse"
   ]
  }
 ],
 "metadata": {
  "kernelspec": {
   "display_name": "Python 3",
   "language": "python",
   "name": "python3"
  },
  "language_info": {
   "codemirror_mode": {
    "name": "ipython",
    "version": 3
   },
   "file_extension": ".py",
   "mimetype": "text/x-python",
   "name": "python",
   "nbconvert_exporter": "python",
   "pygments_lexer": "ipython3",
   "version": "3.6.6"
  }
 },
 "nbformat": 4,
 "nbformat_minor": 2
}
