{
 "cells": [
  {
   "cell_type": "markdown",
   "metadata": {},
   "source": [
    "# Import Session level data"
   ]
  },
  {
   "cell_type": "code",
   "execution_count": 1,
   "metadata": {},
   "outputs": [],
   "source": [
    "import numpy as np\n",
    "import pandas as pd\n",
    "import warnings\n",
    "warnings.filterwarnings('ignore')\n",
    "df_trans = pd.read_csv('../Project/data/train_trans.csv', index_col=0)"
   ]
  },
  {
   "cell_type": "markdown",
   "metadata": {},
   "source": [
    "Split the data into Train and test sets"
   ]
  },
  {
   "cell_type": "code",
   "execution_count": 2,
   "metadata": {},
   "outputs": [],
   "source": [
    "from sklearn.model_selection import train_test_split\n",
    "X_train, X_test, y_train, y_test = train_test_split(\n",
    "    df_trans.drop(['is_transaction', 'fullVisitorId', 'transactionRevenue'], axis=1), \n",
    "    df_trans['transactionRevenue'], test_size=0.33, random_state=42)"
   ]
  },
  {
   "cell_type": "markdown",
   "metadata": {},
   "source": [
    "# Tree-Based Regression: RandomForestRegressor "
   ]
  },
  {
   "cell_type": "code",
   "execution_count": 3,
   "metadata": {},
   "outputs": [],
   "source": [
    "from sklearn.ensemble import RandomForestRegressor\n",
    "rf = RandomForestRegressor(random_state = 42,n_estimators = 100)\n",
    "rf.fit(X_train, y_train)\n",
    "rf_y_pred = rf.predict(X_test)"
   ]
  },
  {
   "cell_type": "markdown",
   "metadata": {},
   "source": [
    "# Linear Regression"
   ]
  },
  {
   "cell_type": "code",
   "execution_count": 4,
   "metadata": {},
   "outputs": [],
   "source": [
    "from sklearn.linear_model import LinearRegression\n",
    "reg = LinearRegression()\n",
    "reg.fit(X_train, y_train)\n",
    "reg_y_pred = reg.predict(X_test)\n",
    "np.place(reg_y_pred, reg_y_pred<0, 0)"
   ]
  },
  {
   "cell_type": "markdown",
   "metadata": {},
   "source": [
    "# Regularization: Lasso"
   ]
  },
  {
   "cell_type": "code",
   "execution_count": 5,
   "metadata": {},
   "outputs": [],
   "source": [
    "from sklearn.linear_model import Lasso\n",
    "lasso_reg = Lasso(alpha = 0.01)\n",
    "lasso_reg.fit(X_train,y_train)\n",
    "lasso_y_pred = lasso_reg.predict(X_test)\n",
    "np.place(reg_y_pred, reg_y_pred<0, 0)"
   ]
  },
  {
   "cell_type": "markdown",
   "metadata": {},
   "source": [
    "# Bagging + SVR"
   ]
  },
  {
   "cell_type": "code",
   "execution_count": 6,
   "metadata": {},
   "outputs": [],
   "source": [
    "from sklearn.ensemble import BaggingRegressor\n",
    "from sklearn.svm import SVR\n",
    "bg_svr = BaggingRegressor(base_estimator=SVR(),\n",
    "                  bootstrap=True, bootstrap_features=False, max_features=1.0,\n",
    "                  max_samples=0.01, n_estimators=100, n_jobs=-1)\n",
    "bg_svr.fit(X_train, y_train)\n",
    "svr_y_pred = bg_svr.predict(X_test)"
   ]
  },
  {
   "cell_type": "markdown",
   "metadata": {},
   "source": [
    "# Compare metrics for all Four models"
   ]
  },
  {
   "cell_type": "markdown",
   "metadata": {},
   "source": [
    "$\\bullet$ RMSE"
   ]
  },
  {
   "cell_type": "code",
   "execution_count": 7,
   "metadata": {},
   "outputs": [
    {
     "name": "stdout",
     "output_type": "stream",
     "text": [
      "random_forest: 45685138.141020775\n",
      "linear regression: 42678498.61433511\n",
      "lasso: 42710009.996953\n",
      "SVR: 43526740.04366963\n"
     ]
    }
   ],
   "source": [
    "from sklearn.metrics import mean_squared_error\n",
    "rf_rmse = np.sqrt(mean_squared_error(y_test, rf_y_pred))\n",
    "reg_rmse = np.sqrt(mean_squared_error(y_test, reg_y_pred))\n",
    "lasso_rmse = np.sqrt(mean_squared_error(y_test, lasso_y_pred))\n",
    "svr_rmse = np.sqrt(mean_squared_error(y_test, svr_y_pred))\n",
    "rmse = [('random_forest', rf_rmse),('linear regression', reg_rmse), ('lasso', lasso_rmse), ('SVR', svr_rmse)]\n",
    "for i in rmse:\n",
    "    print('{}: {}'.format(i[0],i[1]))"
   ]
  },
  {
   "cell_type": "markdown",
   "metadata": {},
   "source": [
    "$\\bullet R^2$"
   ]
  },
  {
   "cell_type": "code",
   "execution_count": 8,
   "metadata": {},
   "outputs": [
    {
     "name": "stdout",
     "output_type": "stream",
     "text": [
      "random_forest: -0.10334518563468653\n",
      "linear regression: 0.037103106894960325\n",
      "lasso: 0.037103106894960325\n",
      "SVR: -0.0015526924412965215\n"
     ]
    }
   ],
   "source": [
    "from sklearn.metrics import r2_score\n",
    "rf_r2 = r2_score(y_test, rf_y_pred)\n",
    "reg_r2 = r2_score(y_test, reg_y_pred)\n",
    "lasso_r2 = r2_score(y_test, lasso_y_pred)\n",
    "svr_r2 = r2_score(y_test, svr_y_pred)\n",
    "r2 = [('random_forest', rf_r2), ('linear regression', reg_r2), ('lasso', reg_r2), ('SVR', svr_r2)]\n",
    "for i in r2:\n",
    "    print('{}: {}'.format(i[0],i[1]))"
   ]
  },
  {
   "cell_type": "markdown",
   "metadata": {},
   "source": [
    "Overall, these models are not suitable for our transcation level data. The negative explained variance / r2 is an indicater that this is actually doing worse than a mean-prediction."
   ]
  },
  {
   "cell_type": "markdown",
   "metadata": {},
   "source": [
    "# Import User level data"
   ]
  },
  {
   "cell_type": "code",
   "execution_count": 9,
   "metadata": {},
   "outputs": [],
   "source": [
    "df_user = pd.read_csv('../Project/data/train_user.csv', index_col=0)"
   ]
  },
  {
   "cell_type": "markdown",
   "metadata": {},
   "source": [
    "Split the data into Train and test sets"
   ]
  },
  {
   "cell_type": "code",
   "execution_count": 10,
   "metadata": {},
   "outputs": [],
   "source": [
    "from sklearn.model_selection import train_test_split\n",
    "X_train, X_test, y_train, y_test = train_test_split(\n",
    "    df_user.drop(['is_transaction', 'fullVisitorId', 'transactionRevenue_total'], axis=1), \n",
    "    df_user['transactionRevenue_total'], test_size=0.33, random_state=42)"
   ]
  },
  {
   "cell_type": "markdown",
   "metadata": {},
   "source": [
    "# Tree Based Regression: RandomForest "
   ]
  },
  {
   "cell_type": "markdown",
   "metadata": {},
   "source": [
    "Grid Search for random forest"
   ]
  },
  {
   "cell_type": "code",
   "execution_count": 11,
   "metadata": {},
   "outputs": [
    {
     "name": "stdout",
     "output_type": "stream",
     "text": [
      "{'rf__n_estimators': 100}\n"
     ]
    }
   ],
   "source": [
    "from sklearn.ensemble import RandomForestRegressor\n",
    "from sklearn.model_selection import GridSearchCV\n",
    "from sklearn.pipeline import Pipeline\n",
    "\n",
    "pipe_rf = Pipeline([('rf',RandomForestRegressor(random_state = 42,n_jobs =-1))]) \n",
    "\n",
    "grid_params = dict(rf__n_estimators = [70,100])\n",
    "    \n",
    "gridSearch = GridSearchCV(estimator=pipe_rf,  \n",
    "                  param_grid=grid_params, cv = 5)\n",
    "    \n",
    "gridSearch.fit(X_train, y_train)\n",
    "best_params = gridSearch.best_params_\n",
    "print(best_params)"
   ]
  },
  {
   "cell_type": "markdown",
   "metadata": {},
   "source": [
    "Fit the best random forest model grid search find for us "
   ]
  },
  {
   "cell_type": "code",
   "execution_count": 12,
   "metadata": {},
   "outputs": [],
   "source": [
    "rf = RandomForestRegressor(random_state = 42,n_estimators = 100)\n",
    "rf.fit(X_train, y_train)\n",
    "rf_y_pred = rf.predict(X_test)"
   ]
  },
  {
   "cell_type": "markdown",
   "metadata": {},
   "source": [
    "# Linear Regression"
   ]
  },
  {
   "cell_type": "code",
   "execution_count": 13,
   "metadata": {},
   "outputs": [],
   "source": [
    "from sklearn.linear_model import LinearRegression\n",
    "reg = LinearRegression()\n",
    "reg.fit(X_train, y_train)\n",
    "reg_y_pred = reg.predict(X_test)"
   ]
  },
  {
   "cell_type": "markdown",
   "metadata": {},
   "source": [
    "Since some of the prediction value is negative, we replace negative value with zero"
   ]
  },
  {
   "cell_type": "code",
   "execution_count": 14,
   "metadata": {},
   "outputs": [],
   "source": [
    "np.place(reg_y_pred, reg_y_pred<0, 0)"
   ]
  },
  {
   "cell_type": "markdown",
   "metadata": {},
   "source": [
    "# Regularization: Lasso"
   ]
  },
  {
   "cell_type": "markdown",
   "metadata": {},
   "source": [
    "Gridsearch for Regularization"
   ]
  },
  {
   "cell_type": "code",
   "execution_count": 15,
   "metadata": {},
   "outputs": [
    {
     "name": "stdout",
     "output_type": "stream",
     "text": [
      "{'lasso__alpha': 0.01}\n"
     ]
    }
   ],
   "source": [
    "from sklearn.linear_model import Lasso\n",
    "pipe_lasso = Pipeline([('lasso',Lasso())]) \n",
    "\n",
    "grid_params = dict(lasso__alpha = [0.01,0.05,0.1])\n",
    "    \n",
    "gridSearch = GridSearchCV(estimator=pipe_lasso,  \n",
    "                  param_grid=grid_params, cv = 5)\n",
    "    \n",
    "gridSearch.fit(X_train, y_train)\n",
    "best_params = gridSearch.best_params_\n",
    "print(best_params)"
   ]
  },
  {
   "cell_type": "code",
   "execution_count": 16,
   "metadata": {},
   "outputs": [],
   "source": [
    "lasso_reg = Lasso(alpha = 0.01)\n",
    "lasso_reg.fit(X_train,y_train)\n",
    "lasso_y_pred = lasso_reg.predict(X_test)"
   ]
  },
  {
   "cell_type": "code",
   "execution_count": 17,
   "metadata": {},
   "outputs": [],
   "source": [
    "np.place(lasso_y_pred, reg_y_pred<0, 0)"
   ]
  },
  {
   "cell_type": "markdown",
   "metadata": {},
   "source": [
    "# Bagging + SVR"
   ]
  },
  {
   "cell_type": "code",
   "execution_count": 18,
   "metadata": {},
   "outputs": [],
   "source": [
    "from sklearn.ensemble import BaggingRegressor\n",
    "from sklearn.svm import SVR\n",
    "bg_svr = BaggingRegressor(base_estimator=SVR(),\n",
    "                  bootstrap=True, bootstrap_features=False, max_features=1.0,\n",
    "                  max_samples=0.01, n_estimators=100, n_jobs=-1)\n",
    "bg_svr.fit(X_train, y_train)\n",
    "svr_y_pred = bg_svr.predict(X_test)"
   ]
  },
  {
   "cell_type": "markdown",
   "metadata": {},
   "source": [
    "# Compare metrics for all Four models "
   ]
  },
  {
   "cell_type": "markdown",
   "metadata": {},
   "source": [
    "$\\bullet$ RMSE"
   ]
  },
  {
   "cell_type": "code",
   "execution_count": 19,
   "metadata": {},
   "outputs": [
    {
     "name": "stdout",
     "output_type": "stream",
     "text": [
      "random_forest: 1.7039473434159111\n",
      "linear regression: 1.8363604849670425\n",
      "lasso: 1.844478516487366\n",
      "SVR: 2.049210691312704\n"
     ]
    }
   ],
   "source": [
    "from sklearn.metrics import mean_squared_error\n",
    "rf_rmse = np.sqrt(mean_squared_error(y_test, rf_y_pred))\n",
    "reg_rmse = np.sqrt(mean_squared_error(y_test, reg_y_pred))\n",
    "lasso_rmse = np.sqrt(mean_squared_error(y_test, lasso_y_pred))\n",
    "svr_rmse = np.sqrt(mean_squared_error(y_test, svr_y_pred))\n",
    "rmse = [('random_forest', rf_rmse),('linear regression', reg_rmse), ('lasso', lasso_rmse), ('SVR', svr_rmse)]\n",
    "for i in rmse:\n",
    "    print('{}: {}'.format(i[0],i[1]))"
   ]
  },
  {
   "cell_type": "markdown",
   "metadata": {},
   "source": [
    "$\\bullet R^2$"
   ]
  },
  {
   "cell_type": "code",
   "execution_count": 20,
   "metadata": {},
   "outputs": [
    {
     "name": "stdout",
     "output_type": "stream",
     "text": [
      "random_forest: 0.3311288937384106\n",
      "linear regression: 0.22313425122977026\n",
      "lasso: 0.22313425122977026\n",
      "SVR: 0.03260614944823104\n"
     ]
    }
   ],
   "source": [
    "from sklearn.metrics import r2_score\n",
    "rf_r2 = r2_score(y_test, rf_y_pred)\n",
    "reg_r2 = r2_score(y_test, reg_y_pred)\n",
    "lasso_r2 = r2_score(y_test, lasso_y_pred)\n",
    "svr_r2 = r2_score(y_test, svr_y_pred)\n",
    "r2 = [('random_forest', rf_r2), ('linear regression', reg_r2), ('lasso', reg_r2), ('SVR', svr_r2)]\n",
    "for i in r2:\n",
    "    print('{}: {}'.format(i[0],i[1]))"
   ]
  },
  {
   "cell_type": "markdown",
   "metadata": {},
   "source": [
    "$\\bullet$Explained Variance"
   ]
  },
  {
   "cell_type": "code",
   "execution_count": 21,
   "metadata": {},
   "outputs": [
    {
     "name": "stdout",
     "output_type": "stream",
     "text": [
      "random_forest: 0.3311288937384106\n",
      "linear regression: 0.22313425122977026\n",
      "lasso: 0.22313425122977026\n",
      "SVR: 0.03260614944823104\n"
     ]
    }
   ],
   "source": [
    "from sklearn.metrics import explained_variance_score\n",
    "rf_ev = explained_variance_score(y_test, rf_y_pred)\n",
    "reg_ev = explained_variance_score(y_test, reg_y_pred)\n",
    "lasso_ev = explained_variance_score(y_test, lasso_y_pred)\n",
    "svr_ev = explained_variance_score(y_test, svr_y_pred)\n",
    "ev = [('random_forest', rf_ev), ('linear regression', reg_ev), ('lasso', lasso_ev), ('svr', svr_ev) ]\n",
    "for i in r2:\n",
    "    print('{}: {}'.format(i[0],i[1]))"
   ]
  },
  {
   "cell_type": "markdown",
   "metadata": {},
   "source": [
    "# Model selection"
   ]
  },
  {
   "cell_type": "markdown",
   "metadata": {},
   "source": [
    "Based on RMSE and $R^2$, $RandomForestRegression^{TM}$ is the best model among regression only models we trained."
   ]
  },
  {
   "cell_type": "markdown",
   "metadata": {},
   "source": [
    "$\\bullet$ Feature importance based on $RandomForestRegression^{TM}$"
   ]
  },
  {
   "cell_type": "code",
   "execution_count": 22,
   "metadata": {},
   "outputs": [],
   "source": [
    "import matplotlib.pyplot as plt\n",
    "features = df_user.columns[3:]\n",
    "importances = rf.feature_importances_\n",
    "indices = np.argsort(importances)[44:55]"
   ]
  },
  {
   "cell_type": "code",
   "execution_count": 23,
   "metadata": {},
   "outputs": [
    {
     "data": {
      "text/plain": [
       "Text(0.5, 0, 'Relative Importance')"
      ]
     },
     "execution_count": 23,
     "metadata": {},
     "output_type": "execute_result"
    },
    {
     "data": {
      "image/png": "[encoded data removed]",
      "text/plain": [
       "<Figure size 432x288 with 1 Axes>"
      ]
     },
     "metadata": {
      "needs_background": "light"
     },
     "output_type": "display_data"
    }
   ],
   "source": [
    "plt.figure(1)\n",
    "plt.title('Feature Importances')\n",
    "plt.barh(range(len(indices)), importances[indices], color=(0.35,0.65,0.9), align='center')\n",
    "plt.yticks(range(len(indices)), features[indices])\n",
    "plt.xlabel('Relative Importance')"
   ]
  }
 ],
 "metadata": {
  "kernelspec": {
   "display_name": "Python 3",
   "language": "python",
   "name": "python3"
  },
  "language_info": {
   "codemirror_mode": {
    "name": "ipython",
    "version": 3
   },
   "file_extension": ".py",
   "mimetype": "text/x-python",
   "name": "python",
   "nbconvert_exporter": "python",
   "pygments_lexer": "ipython3",
   "version": "3.6.7"
  }
 },
 "nbformat": 4,
 "nbformat_minor": 2
}
